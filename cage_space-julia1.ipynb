{
 "cells": [
  {
   "cell_type": "code",
   "execution_count": null,
   "metadata": {},
   "outputs": [],
   "source": [
    "using PorousMaterials # Pkg.clone(\"https://github.com/SimonEnsemble/PorousMaterials.jl\", \"v0.1.1\")\n",
    "using CSV\n",
    "using DataFrames\n",
    "using TSne\n",
    "using PyCall\n",
    "@pyimport adjustText\n",
    "import PyPlot; const plt = PyPlot # now do plt.plt[:hist] for example\n",
    "using DelimitedFiles\n",
    "using LinearAlgebra\n",
    "using Printf\n",
    "using Random\n",
    "using Optim\n",
    "using ProgressMeter\n",
    "using JLD2\n",
    "using CoherentPointDrift # https://github.com/SimonEnsemble/CoherentPointDrift.jl"
   ]
  },
  {
   "cell_type": "markdown",
   "metadata": {},
   "source": [
    "Cage database CDB41 (41 cages) from [here](https://github.com/marcinmiklitz/CDB41). Cleaned of solvent. Thanks to Kim Jelfs and M. Miklitz for kindly providing the cages.\n",
    "\n",
    "Reference:\n",
    "> M. Miklitz, S. Jiang, R. Clowes, M. E. Briggs, A. I. Cooper and K. E. Jelfs, Computational Screening of Porous Organic Molecules for Xenon/Krypton Separation, J. Phys. Chem. C, 2017. DOI: 10.1021/acs.jpcc.7b03848\n",
    "\n",
    "Other set of 33 cages from the .xyz files deposited as ESI of DOI 10.1038/s41467-018-05271-9\n",
    "\n",
    "> R. L. Greenaway, V. Santolini, M. J. Bennison, B. M. Alston, C. J. Pugh, M. A. Little, M. Miklitz, E. G. B. Eden-Rump, R. Clowes, A. Shakil, H. J. Cuthbertson, H. Armstrong, M. E. Briggs, K. E. Jelfs & A. I. Cooper. High-throughput discovery of organic cages and catenanes using computational screening fused with robotic synthesis. Nature Communications, 2018. DOI: 10.1038/s41467-018-05271-9\n",
    "                                                              \n",
    "I manually looked at Fig 4 in the main text and selected those that were synthesized. Some cages required visualization to compare to Fig 4 since e.g. there are multiple versions of B23, a few of which were apparently not synthesized but only computational predictions.\n",
    "\n",
    "The `.xyz` files describing the molecular structure of all of these cages are in the directory `all_cages`."
   ]
  },
  {
   "cell_type": "code",
   "execution_count": null,
   "metadata": {},
   "outputs": [],
   "source": [
    "cages = readdlm(\"all_cages/all_cages.txt\")\n",
    "cages[1]"
   ]
  },
  {
   "cell_type": "markdown",
   "metadata": {},
   "source": [
    "## Center and align cages for comparison\n",
    "The center of mass will be set to be the origin.\n",
    "Each cage will be rotated such that it is aligned with its principle moments of inertia.\n",
    "i.e. the moment of inertia matrix of an \"aligned\" cage is diagonal.\n",
    "\n",
    "\n",
    "First, a function to compute the center of mass of a group of `atoms` at Cartesian coordinates `x`, stored in the columns."
   ]
  },
  {
   "cell_type": "code",
   "execution_count": null,
   "metadata": {},
   "outputs": [],
   "source": [
    "function center_of_mass(atoms::Array{Symbol, 1}, x::Array{Float64, 2})\n",
    "    ams = read_atomic_masses()\n",
    "    com = [0.0, 0.0, 0.0]\n",
    "    total_mass = 0.0\n",
    "    for (i, atom) in enumerate(atoms)\n",
    "        com += ams[atom] * x[:, i]\n",
    "        total_mass += ams[atom]\n",
    "    end\n",
    "    return com / total_mass\n",
    "end"
   ]
  },
  {
   "cell_type": "markdown",
   "metadata": {},
   "source": [
    "A function to read in the raw `.xyz` file containing coordinates of a cage molecule, compute the center of mass, and translate the entire cage molecule such that its center of mass lays at the origin."
   ]
  },
  {
   "cell_type": "code",
   "execution_count": null,
   "metadata": {},
   "outputs": [],
   "source": [
    "function centered_cage_coords(cage::AbstractString)\n",
    "    # read in raw .xyz from `all_cages`\n",
    "    atoms, x = read_xyz(\"all_cages/$cage.xyz\")\n",
    "    \n",
    "    # compute center of mass\n",
    "    x_com = center_of_mass(atoms, x)\n",
    "    \n",
    "    # shift coords so that cage is centered\n",
    "    x = x .- x_com\n",
    "    \n",
    "    return atoms, x\n",
    "end"
   ]
  },
  {
   "cell_type": "markdown",
   "metadata": {},
   "source": [
    "Next, a function to compute the moment of inertia matrix of a group of `atoms` at Cartesian positions `x`. \n",
    "\n",
    "See <a href=\"https://chem.libretexts.org/Textbook_Maps/Physical_and_Theoretical_Chemistry_Textbook_Maps/Map%3A_Physical_Chemistry_(McQuarrie_and_Simon)/13%3A_Molecular_Spectroscopy/13-08._The_Rotational_Spectrum_of_a_Polyatomic_Molecule_Depends_Upon_the_Principal_Moments_of_Inertia_of_the_Molecule\">Chemistry Libre Texts</a> moment of inertia formulas."
   ]
  },
  {
   "cell_type": "code",
   "execution_count": 5,
   "metadata": {},
   "outputs": [],
   "source": [
    "function moment_of_inertia(atoms::Array{Symbol, 1}, x::Array{Float64, 2})\n",
    "    @assert(isapprox(center_of_mass(atoms, x), [0.0, 0.0, 0.0], atol=0.0001),\n",
    "        \"cage must be centered to compute moment of inertia matrix!\")\n",
    "    \n",
    "    # read in atomic masses\n",
    "    ams = read_atomic_masses()\n",
    "    \n",
    "    # moment of inertia matrix `mi`\n",
    "    mi = zeros(Float64, 3, 3)\n",
    "    for i = 1:3\n",
    "        for j = 1:3\n",
    "            for (a, atom) in enumerate(atoms)\n",
    "                if i == j\n",
    "                    ids = collect(setdiff(Set([1, 2, 3]), Set([i])))\n",
    "                    mi[i, j] += ams[atom] * sum(x[ids, a] .^ 2)\n",
    "                else\n",
    "                    mi[i, j] -= ams[atom] * x[i, a] * x[j, a]\n",
    "                end\n",
    "            end\n",
    "        end\n",
    "    end\n",
    "    \n",
    "    # should be symmetric!\n",
    "    @assert isapprox(mi, mi')\n",
    "        \n",
    "    return mi\n",
    "end\n",
    "\n",
    "# simple test for diatomic molecule with atoms at [1, 0, 0], [-1, 0, 0]\n",
    "@assert isapprox(\n",
    "        moment_of_inertia([:C, :C], hcat([1.0, 0.0, 0.0], [-1.0, 0.0, 0.0])), \n",
    "        diagm(0 => [0.0, read_atomic_masses()[:C] / 2.0 * 4, read_atomic_masses()[:C] / 2.0 * 4]))\n",
    "# simple test for a three-blade propeller. \n",
    "# see pg. 12 https://ocw.mit.edu/courses/aeronautics-and-astronautics/16-07-dynamics-fall-2009/lecture-notes/MIT16_07F09_Lec26.pdf\n",
    "@assert isapprox(\n",
    "        moment_of_inertia([:O, :O, :O], \n",
    "                          hcat([0.0, 1.0, 0.0], [-sqrt(3)/2, -1/2, 0.0], [sqrt(3)/2, -1/2, 0.0])), \n",
    "        diagm(0 => read_atomic_masses()[:O] * [3/2, 3/2, 3.0]))\n",
    "# a random rotation of the 3-blade propeller should have equal moments of inertia\n",
    "_θ = rand() * 2 * π\n",
    "_R = [cos(_θ) -sin(_θ); sin(_θ) cos(_θ)]\n",
    "_x_2d = _R * hcat([0.0, 1.0], [-sqrt(3)/2, -1/2], [sqrt(3)/2, -1/2])\n",
    "_x = vcat(_x_2d, [0.0 0.0 0.0])\n",
    "_mi = moment_of_inertia([:O, :O, :O], _x)\n",
    "@assert isapprox(_mi[1, 1], _mi[2, 2])"
   ]
  },
  {
   "cell_type": "markdown",
   "metadata": {},
   "source": [
    "Now a function that calls the above functions to compute the moment of inertia matrix and then diagonalize it. i.e. find its eigendecomposition. This function returns an array of the eigenvalues `λ` of the moment of inertia, along with a matrix containing its eigenvectors `v`, as well as the moment of inertia matrix itself `mi`."
   ]
  },
  {
   "cell_type": "code",
   "execution_count": 6,
   "metadata": {},
   "outputs": [
    {
     "data": {
      "text/plain": [
       "diagonlize_moment_of_inertia (generic function with 1 method)"
      ]
     },
     "execution_count": 6,
     "metadata": {},
     "output_type": "execute_result"
    }
   ],
   "source": [
    "function diagonlize_moment_of_inertia(atoms::Array{Symbol, 1}, x::Array{Float64, 2})\n",
    "    @assert(isapprox(center_of_mass(atoms, x), [0.0, 0.0, 0.0], atol=0.0001),\n",
    "        \"cage not centered!\")\n",
    "  \n",
    "    # compute moment of inertia matrix\n",
    "    mi = moment_of_inertia(atoms, x)\n",
    "\n",
    "    # diagnomize moment of inertia matrix\n",
    "    λ, v = eigen(mi) # columns of v are eigenvectors\n",
    "    \n",
    "    # reorder eigenvalues and eigenvectors from large to small\n",
    "    ids = sortperm(λ, rev=true) # sort eigenvalues from large to small.\n",
    "    λ = λ[ids]\n",
    "    v = v[:, ids] # eigenvectors in columns\n",
    "    \n",
    "    # tests out of paranoia\n",
    "    @assert(isapprox(mi * v, v * diagm(0 => λ)), \"eigenvectors not right\")\n",
    "    @assert(isapprox([norm(v[:, i]) for i = 1:3], ones(3)), \"eigenvectors not unit vectors\")\n",
    "    @assert(isapprox(mi, v * diagm(0 => λ) * v'))\n",
    "    # `v` is a rotation matrix b/c `mi` is symmetric and the columns are orthonormal\n",
    "    # i.e. `v` is a unitary matrix. now use it to rotate x to align with principle axes of rotation\n",
    "    @assert(isapprox(v' * v, Diagonal{Float64}(I, 3)), \"v is not unitary...\")\n",
    "    @assert (λ[1] >= λ[2]) & (λ[2] >= λ[3])\n",
    "    \n",
    "    return λ, v, mi\n",
    "end"
   ]
  },
  {
   "cell_type": "markdown",
   "metadata": {},
   "source": [
    "function to center cage, then rotate it so as to align principle axes of inertia with the Cartesian axes."
   ]
  },
  {
   "cell_type": "code",
   "execution_count": 7,
   "metadata": {},
   "outputs": [
    {
     "data": {
      "text/plain": [
       "rotational_inertia_aligned_cage (generic function with 1 method)"
      ]
     },
     "execution_count": 7,
     "metadata": {},
     "output_type": "execute_result"
    }
   ],
   "source": [
    "function rotational_inertia_aligned_cage(cage::AbstractString)\n",
    "    atoms, x = centered_cage_coords(cage)\n",
    "    λ, v, mi = diagonlize_moment_of_inertia(atoms, x)\n",
    "    \n",
    "    # rotate cage so as to align it with the principle axes of inertia\n",
    "    x = v' * x\n",
    "    \n",
    "    # now ensure its moment of inertia matrix is diagonal\n",
    "    mi = moment_of_inertia(atoms, x)\n",
    "    @assert(isapprox(diagm(0 => diag(mi)), mi), \"not aligned with principle axes\")\n",
    "\n",
    "    # assert moments of inertia are ordered largest to smallest\n",
    "    @assert(mi[1, 1] >= mi[2, 2])\n",
    "    @assert(mi[2, 2] >= mi[3, 3])\n",
    "    return atoms, x\n",
    "end"
   ]
  },
  {
   "cell_type": "markdown",
   "metadata": {},
   "source": [
    "### Example where principal axes of inertia are degenerate.\n",
    "SO$_3$ has degenerate moments of inertia and principal axes of inertia.\n",
    "See [here](https://www.youtube.com/watch?v=7vt24ICeUag)."
   ]
  },
  {
   "cell_type": "code",
   "execution_count": 8,
   "metadata": {},
   "outputs": [
    {
     "name": "stdout",
     "output_type": "stream",
     "text": [
      "λ of I(SO3) / ℓ_SO3^2 / m_O: [1.5, 1.5, 3.0]\n"
     ]
    }
   ],
   "source": [
    "atoms_SO3 = [:S, :O, :O, :O]\n",
    "ℓ_SO3 = 1.42 # bond length, A https://en.wikipedia.org/wiki/Sulfur_trioxide\n",
    "x_SO3 = hcat([0.0, 0.0, 0.0], [-sqrt(3)/2*ℓ_SO3, -ℓ_SO3/2, 0.0], \n",
    "             [sqrt(3)/2*ℓ_SO3, -ℓ_SO3/2, 0.0], [0.0, ℓ_SO3, 0.0])\n",
    "@assert isapprox(center_of_mass(atoms_SO3, x_SO3), zeros(3))\n",
    "write_xyz(atoms_SO3, x_SO3, \"SO3.xyz\")\n",
    "λ, v = eigen(moment_of_inertia(atoms_SO3, x_SO3))\n",
    "println(\"λ of I(SO3) / ℓ_SO3^2 / m_O: \", λ / ℓ_SO3^2 / read_atomic_masses()[:O])\n",
    "\n",
    "# see, any vector in x-y plane is an eigenvector!\n",
    "x_rand = [rand(), rand(), 0.0] # random vector in x-y plane\n",
    "@assert isapprox(moment_of_inertia(atoms_SO3, x_SO3) * x_rand, x_rand * λ[1])"
   ]
  },
  {
   "cell_type": "markdown",
   "metadata": {},
   "source": [
    "#### Visualize moments of inertia about principal axes of inertia for every cage; write `.xyz` file of cages whose principal axes of inertia are aligned with the axes."
   ]
  },
  {
   "cell_type": "code",
   "execution_count": 9,
   "metadata": {},
   "outputs": [
    {
     "data": {
      "text/plain": [
       "aligned_and_centered_cage (generic function with 1 method)"
      ]
     },
     "execution_count": 9,
     "metadata": {},
     "output_type": "execute_result"
    }
   ],
   "source": [
    "write_final_aligned_cage(atoms, x, cage) = write_xyz(atoms, x, \"all_cages/\" * cage * \"_final_alignment.xyz\")\n",
    "aligned_and_centered_cage(cage::AbstractString) = read_xyz(\"all_cages/\" * cage * \"_final_alignment.xyz\")"
   ]
  },
  {
   "cell_type": "markdown",
   "metadata": {},
   "source": [
    "See [here](http://farside.ph.utexas.edu/teaching/336k/Newtonhtml/node67.html). The eigenvalues are the moments of inertia about the principle axes of rotation given by the eigenvectors. Let us visualize the eigenvalues among all of the cages.\n",
    "\n",
    "We color consecutive bars if the difference in moments of inertia w.r.t. these principal axes are so small so as to be agnostic in which direction to align. We define small as: if a carbon atom is placed at the periphery of the cage on a different axes, would this change the ranking of the principal axes?\n",
    "\n",
    "Keep track of cages where principal axes are agnostic in terms of which direction to align in `needs_further_alignment`. The rotational dynamics of some cages represent a sphere (`xyz`); others need aligned only in a certain plane (`yz` or `xy`)."
   ]
  },
  {
   "cell_type": "code",
   "execution_count": 10,
   "metadata": {},
   "outputs": [
    {
     "name": "stdout",
     "output_type": "stream",
     "text": [
      "\u001b[31m... if methyl group throws off orientation\u001b[39m\n",
      "Cage B24 is robustly aligned using its principal axes of inertia\n",
      "Cage B25 is robustly aligned using its principal axes of inertia\n",
      "Cage C13 is robustly aligned using its principal axes of inertia\n",
      "Cage C18 is robustly aligned using its principal axes of inertia\n",
      "Cage C26 is robustly aligned using its principal axes of inertia\n",
      "Cage CB6 is robustly aligned using its principal axes of inertia\n",
      "Cage CB7 is robustly aligned using its principal axes of inertia\n",
      "Cage CD1 is robustly aligned using its principal axes of inertia\n",
      "Cage CP4 is robustly aligned using its principal axes of inertia\n",
      "Cage CP5 is robustly aligned using its principal axes of inertia\n",
      "Cage DC1 is robustly aligned using its principal axes of inertia\n",
      "Cage IC2 is robustly aligned using its principal axes of inertia\n",
      "Cage MC4 is robustly aligned using its principal axes of inertia\n",
      "Cage MC7 is robustly aligned using its principal axes of inertia\n",
      "Cage NC1 is robustly aligned using its principal axes of inertia\n",
      "Cage NC2 is robustly aligned using its principal axes of inertia\n",
      "Cage "
     ]
    },
    {
     "data": {
      "image/png": "[encoded data removed]",
      "text/plain": [
       "PyPlot.Figure(PyObject <Figure size 2000x2000 with 81 Axes>)"
      ]
     },
     "metadata": {},
     "output_type": "display_data"
    },
    {
     "name": "stdout",
     "output_type": "stream",
     "text": [
      "WC2 is robustly aligned using its principal axes of inertia\n"
     ]
    }
   ],
   "source": [
    "# list of cages that need alignment b/c principal axes of inertia agnostic\n",
    "needs_further_alignment = Dict(\"xy\" => String[], \"yz\" => String[], \n",
    "                               \"xyz\" => String[], \"no\" => String[])\n",
    "\n",
    "printstyled(\"... if methyl group throws off orientation\\n\", color=:red)\n",
    "nrows = ceil(Int, sqrt(length(cages))) # in the big plot\n",
    "fig, axs = plt.plt[:subplots](nrows=nrows, ncols=nrows, figsize=(20, 20),\n",
    "                          sharex=true, sharey=true)\n",
    "cage_no = 0\n",
    "for i = 1:nrows\n",
    "    for j = 1:nrows\n",
    "        cage_no += 1\n",
    "        \n",
    "        # blank panel if no cage for the panel\n",
    "        if cage_no > length(cages)\n",
    "            axs[i, j][:axis](\"off\")\n",
    "            continue\n",
    "        end\n",
    "        \n",
    "        # rotate cage so its principal axes of inertia aligned with Cartesian axes.\n",
    "        atoms, x = rotational_inertia_aligned_cage(cages[cage_no])\n",
    "        write_xyz(atoms, x, \n",
    "            \"all_cages/\" * cages[cage_no] * \"_rotational_inertia_aligned.xyz\")\n",
    "\n",
    "        # compute new moment of inertia matrix to get moments of inertia\n",
    "        #  about the princpal axes.\n",
    "        λ, v, mi = diagonlize_moment_of_inertia(atoms, x)\n",
    "        \n",
    "        colorz = [\"w\", \"w\", \"w\"]\n",
    "        \n",
    "        # can a few e.g. C atoms at the periphery throw off the moment of inertia rankings?\n",
    "        #  i.e. how sensitive is the alignment?\n",
    "        cage_radius = maximum([norm(x[:, a]) for a = 1:size(x)[2]])\n",
    "        Δλ_tol = 15.0 * cage_radius ^ 2\n",
    "        xy_symmetry = isapprox(λ[1], λ[2], atol=Δλ_tol)\n",
    "        yz_symmetry = isapprox(λ[2], λ[3], atol=Δλ_tol)\n",
    "        if xy_symmetry && yz_symmetry\n",
    "            push!(needs_further_alignment[\"xyz\"], cages[cage_no])\n",
    "            colorz[:] .= \"r\"\n",
    "        elseif xy_symmetry\n",
    "            push!(needs_further_alignment[\"xy\"], cages[cage_no])\n",
    "            colorz[1:2] .= \"r\"\n",
    "        elseif yz_symmetry\n",
    "            push!(needs_further_alignment[\"yz\"], cages[cage_no])\n",
    "            colorz[2:3] .= \"r\"\n",
    "        else\n",
    "            push!(needs_further_alignment[\"no\"], cages[cage_no])\n",
    "            @printf(\"Cage %s is robustly aligned using its principal axes of inertia\\n\", cages[cage_no])\n",
    "            write_final_aligned_cage(atoms, x, cages[cage_no])\n",
    "        end\n",
    "       \n",
    "        axs[i, j][:bar]([1, 2, 3], λ / λ[1], color=colorz, edgecolor=\"k\")\n",
    "        axs[i, j][:set_title](cages[cage_no])\n",
    "        if j == 1\n",
    "            axs[i, j][:set_ylabel](\"\\$ \\\\lambda_i / \\\\lambda_1\\$\")\n",
    "        end\n",
    "    end\n",
    "end\n",
    "plt.xticks([1, 2, 3], [\"\\$\\\\lambda_1\\$\", \"\\$\\\\lambda_2\\$\", \"\\$\\\\lambda_3\\$\"])\n",
    "plt.suptitle(\"eigenvalues of moment of inertia matrix\")\n",
    "plt.tight_layout()\n",
    "plt.savefig(\"moments_of_inertia.pdf\", format=\"pdf\")\n",
    "plt.show()"
   ]
  },
  {
   "cell_type": "markdown",
   "metadata": {},
   "source": [
    "### Point set registration to align cages where principal axes of inertia were agnostic\n",
    "\n",
    "i.e. cages present in `needs_further_alignment`.\n",
    "\n",
    "This function, given a reference cage, searches among a list of given unaligned cages for the one with the best alignment using the Coherent Drift algorithm. Then it aligns the cage with the best alignment with the reference cage `ref_cage`."
   ]
  },
  {
   "cell_type": "markdown",
   "metadata": {},
   "source": [
    "#### Compute matrix of likelihoods to play with different methods"
   ]
  },
  {
   "cell_type": "markdown",
   "metadata": {},
   "source": [
    "`ℓ[i, j]`: -ve log likelihood for transforming cage `i` to align with cage `j`."
   ]
  },
  {
   "cell_type": "code",
   "execution_count": null,
   "metadata": {},
   "outputs": [],
   "source": [
    "ℓ = zeros(length(cages), length(cages)) # -ve log likelihood\n",
    "\n",
    "@showprogress 1 \"...\" for i = 1:length(cages)\n",
    "    _, y = centered_cage_coords(cages[i]) # y b/c we transform this one.\n",
    "    for j = 1:length(cages)\n",
    "        if i == j\n",
    "            ℓ[i, j] = Inf\n",
    "            continue\n",
    "        end\n",
    "        _, x = centered_cage_coords(cages[j])\n",
    "        R, t, σ², ℓ[i, j] = CoherentPointDrift.rigid_point_set_registration(x, y, \n",
    "            w=0.0, σ²_tol=0.1, verbose=false, max_nb_em_steps=25)\n",
    "    end\n",
    "end\n",
    "\n",
    "@save \"ℓ_CPD.jld2\" ℓ"
   ]
  },
  {
   "cell_type": "markdown",
   "metadata": {},
   "source": [
    "#### idea 1: greedily align `xy`-, `yz`-, then `xyz`- degenerate-moments-cages with each other\n",
    "\n",
    "For the cages that need aligned only in `xy` or `yz` plane, we start with an absolute reference cage (the first cage in the list), then search among all other cages *in this group* for the one with the closest alignment. We then successively align the best aligned with the reference cage. The idea is that this should preserve the orientation WRT the principal axis."
   ]
  },
  {
   "cell_type": "code",
   "execution_count": 11,
   "metadata": {},
   "outputs": [
    {
     "data": {
      "text/plain": [
       "find_best_cage_to_align_with_me (generic function with 1 method)"
      ]
     },
     "execution_count": 11,
     "metadata": {},
     "output_type": "execute_result"
    }
   ],
   "source": [
    "function find_best_cage_to_align_with_me(x::Array{Float64, 2},\n",
    "                                         ys::Array{Array{Float64, 2}, 1};\n",
    "                                         cage_names::Array{String, 1}=String[])\n",
    "    nb_queries = length(ys)\n",
    "\n",
    "    σ² = [Inf for i = 1:nb_queries]\n",
    "    # loop thru all queries, see which is best aligned\n",
    "    for (i, y) in enumerate(ys)\n",
    "        if length(cage_names) > 0 \n",
    "            println(cage_names[i])\n",
    "        end\n",
    "        if size(x) == size(y) && isapprox(x, y)\n",
    "            error(\"cage == ref cage...\")\n",
    "        end\n",
    "        \n",
    "        # transformation is applied not to reference cage but the unaligned cage!\n",
    "        R, t, σ²[i], ℓ = CoherentPointDrift.rigid_point_set_registration(x, y, \n",
    "            w=0.0, σ²_tol=0.05, q_tol=0.1, verbose=false, print_ending=false)\n",
    "    end\n",
    "    # which cage had the best alignment?\n",
    "    return argmin(σ²)\n",
    "end"
   ]
  },
  {
   "cell_type": "code",
   "execution_count": 12,
   "metadata": {},
   "outputs": [
    {
     "data": {
      "text/plain": [
       "find_best_cage_to_align_to (generic function with 1 method)"
      ]
     },
     "execution_count": 12,
     "metadata": {},
     "output_type": "execute_result"
    }
   ],
   "source": [
    "# goal: transform y to best match one of the xs.\n",
    "function find_best_cage_to_align_to(y::Array{Float64, 2},\n",
    "                                    xs::Array{Array{Float64, 2}, 1};\n",
    "                                    cage_names::Array{String, 1}=String[])\n",
    "    nb_queries = length(xs)\n",
    "\n",
    "    σ² = [Inf for i = 1:nb_queries]\n",
    "    \n",
    "    # loop thru all queries, see which is best aligned\n",
    "    for (i, x) in enumerate(xs)\n",
    "        if length(cage_names) > 0 \n",
    "            println(cage_names[i])\n",
    "        end\n",
    "        if size(x) == size(y) && isapprox(x, y)\n",
    "            error(\"cage == ref cage...\")\n",
    "        end\n",
    "        \n",
    "        # transformation is applied not to reference cage but the unaligned cage!\n",
    "        R, t, σ²[i], ℓ = CoherentPointDrift.rigid_point_set_registration(x, y, \n",
    "            w=0.0, σ²_tol=0.05, q_tol=0.1, verbose=false, print_ending=false)\n",
    "    end\n",
    "    # which cage had the best alignment?\n",
    "    return argmin(σ²)\n",
    "end"
   ]
  },
  {
   "cell_type": "code",
   "execution_count": 13,
   "metadata": {},
   "outputs": [
    {
     "name": "stdout",
     "output_type": "stream",
     "text": [
      "\n",
      "\u001b[34mAligning cages with degeneracy xy\u001b[39m\n",
      "\t\treference cage: B15\n",
      "\u001b[32mFinding a cage to align with me, B15 ...\u001b[39m\n",
      "\u001b[31m\tB18 aligns best with me.\u001b[39m\n",
      "\tCoherent point drift results for this alignment: \n",
      "σ² = 0.027538, q = 37944.150053, reason for exit: variance below tol\n",
      "\u001b[32mFinding a cage to align with me, B18 ...\u001b[39m\n",
      "\u001b[31m\tB26 aligns best with me.\u001b[39m\n",
      "\tCoherent point drift results for this alignment: \n",
      "σ² = 2.727468, q = 1055.330774, reason for exit: max EM steps reached\n",
      "\u001b[32mFinding a cage to align with me, B26 ...\u001b[39m\n",
      "\u001b[31m\tMC1 aligns best with me.\u001b[39m\n",
      "\tCoherent point drift results for this alignment: \n",
      "σ² = 11.485478, q = 2169.346598, reason for exit: objective stopped decreasing\n",
      "\u001b[32mFinding a cage to align with me, MC1 ...\u001b[39m\n",
      "\u001b[31m\tC24 aligns best with me.\u001b[39m\n",
      "\tCoherent point drift results for this alignment: \n",
      "σ² = 8.031232, q = 1382.036265, reason for exit: max EM steps reached\n",
      "\u001b[32mFinding a cage to align with me, C24 ...\u001b[39m\n",
      "\u001b[31m\tRCC1c aligns best with me.\u001b[39m\n",
      "\tCoherent point drift results for this alignment: \n",
      "σ² = 7.142109, q = 1482.359446, reason for exit: objective stopped decreasing\n",
      "\u001b[32mFinding a cage to align with me, RCC1c ...\u001b[39m\n",
      "\u001b[31m\tWC3 aligns best with me.\u001b[39m\n",
      "\tCoherent point drift results for this alignment: \n",
      "σ² = 5.176361, q = 1824.640155, reason for exit: max EM steps reached\n",
      "\u001b[32mFinding a cage to align with me, WC3 ...\u001b[39m\n",
      "\u001b[31m\tMC3 aligns best with me.\u001b[39m\n",
      "\tCoherent point drift results for this alignment: \n",
      "σ² = 6.577427, q = 1558.384925, reason for exit: objective stopped decreasing\n",
      "\u001b[32mFinding a cage to align with me, MC3 ...\u001b[39m\n",
      "\u001b[31m\tHC1 aligns best with me.\u001b[39m\n",
      "\tCoherent point drift results for this alignment: \n",
      "σ² = 4.222782, q = 492.181265, reason for exit: objective stopped decreasing\n",
      "\u001b[32mFinding a cage to align with me, HC1 ...\u001b[39m\n",
      "\u001b[31m\tC1 aligns best with me.\u001b[39m\n",
      "\tCoherent point drift results for this alignment: \n",
      "σ² = 2.089074, q = 365.448486, reason for exit: objective stopped decreasing\n",
      "\u001b[32mFinding a cage to align with me, C1 ...\u001b[39m\n",
      "\u001b[31m\tC20 aligns best with me.\u001b[39m\n",
      "\tCoherent point drift results for this alignment: \n",
      "σ² = 0.169344, q = 162.680511, reason for exit: objective stopped decreasing\n",
      "\u001b[32mFinding a cage to align with me, C20 ...\u001b[39m\n",
      "\u001b[31m\tC21 aligns best with me.\u001b[39m\n",
      "\tCoherent point drift results for this alignment: \n",
      "σ² = 0.013975, q = 1700.490498, reason for exit: variance below tol\n",
      "\u001b[32mFinding a cage to align with me, C21 ...\u001b[39m\n",
      "\u001b[31m\tB1 aligns best with me.\u001b[39m\n",
      "\tCoherent point drift results for this alignment: \n",
      "σ² = 3.243407, q = 367.560190, reason for exit: objective stopped decreasing\n",
      "\u001b[32mFinding a cage to align with me, B1 ...\u001b[39m\n",
      "\u001b[31m\tCP1 aligns best with me.\u001b[39m\n",
      "\tCoherent point drift results for this alignment: \n",
      "σ² = 0.952724, q = 165.928611, reason for exit: max EM steps reached\n",
      "\u001b[32mFinding a cage to align with me, CP1 ...\u001b[39m\n",
      "\u001b[31m\tCP3 aligns best with me.\u001b[39m\n",
      "\tCoherent point drift results for this alignment: \n",
      "σ² = 1.412714, q = 233.174750, reason for exit: objective stopped decreasing\n",
      "\n",
      "\u001b[34mAligning cages with degeneracy yz\u001b[39m\n",
      "\t\treference cage: B11\n",
      "\u001b[32mFinding a cage to align with me, B11 ...\u001b[39m\n",
      "\u001b[31m\tMC2 aligns best with me.\u001b[39m\n",
      "\tCoherent point drift results for this alignment: \n",
      "σ² = 0.311578, q = 756.516775, reason for exit: max EM steps reached\n",
      "\u001b[32mFinding a cage to align with me, MC2 ...\u001b[39m\n",
      "\u001b[31m\tIC1 aligns best with me.\u001b[39m\n",
      "\tCoherent point drift results for this alignment: \n",
      "σ² = 1.000000, q = 519.443851, reason for exit: objective stopped decreasing\n",
      "\u001b[32mFinding a cage to align with me, IC1 ...\u001b[39m\n",
      "\u001b[31m\tMC6 aligns best with me.\u001b[39m\n",
      "\tCoherent point drift results for this alignment: \n",
      "σ² = 1.000000, q = 2510.538748, reason for exit: max EM steps reached\n",
      "\u001b[32mFinding a cage to align with me, MC6 ...\u001b[39m\n",
      "\u001b[31m\tC25 aligns best with me.\u001b[39m\n",
      "\tCoherent point drift results for this alignment: \n",
      "σ² = 32.433337, q = 4279.709432, reason for exit: objective stopped decreasing\n",
      "\u001b[32mFinding a cage to align with me, C25 ...\u001b[39m\n",
      "\u001b[31m\tC15 aligns best with me.\u001b[39m\n",
      "\tCoherent point drift results for this alignment: \n",
      "σ² = 7.985641, q = 1655.918716, reason for exit: objective stopped decreasing\n",
      "\u001b[32mFinding a cage to align with me, C15 ...\u001b[39m\n",
      "\u001b[31m\tC4 aligns best with me.\u001b[39m\n",
      "\tCoherent point drift results for this alignment: \n",
      "σ² = 14.766345, q = 1635.180536, reason for exit: objective stopped decreasing\n",
      "\u001b[32mFinding a cage to align with me, C4 ...\u001b[39m\n",
      "\u001b[31m\tC6 aligns best with me.\u001b[39m\n",
      "\tCoherent point drift results for this alignment: \n",
      "σ² = 0.415988, q = -5.253043, reason for exit: objective stopped decreasing\n",
      "\u001b[32mFinding a cage to align with me, C6 ...\u001b[39m\n",
      "\u001b[31m\tB6 aligns best with me.\u001b[39m\n",
      "\tCoherent point drift results for this alignment: \n",
      "σ² = 0.465918, q = -58.870748, reason for exit: objective stopped decreasing\n",
      "\u001b[32mFinding a cage to align with me, B6 ...\u001b[39m\n",
      "\u001b[31m\tB4 aligns best with me.\u001b[39m\n",
      "\tCoherent point drift results for this alignment: \n",
      "σ² = 0.265109, q = -89.621579, reason for exit: objective stopped decreasing\n",
      "\u001b[32mFinding a cage to align with me, B4 ...\u001b[39m\n",
      "\u001b[31m\tB5 aligns best with me.\u001b[39m\n",
      "\tCoherent point drift results for this alignment: \n",
      "σ² = 1.399510, q = 236.519019, reason for exit: objective stopped decreasing\n",
      "\u001b[32mFinding a cage to align with me, B5 ...\u001b[39m\n",
      "\u001b[31m\tB8 aligns best with me.\u001b[39m\n",
      "\tCoherent point drift results for this alignment: \n",
      "σ² = 0.317001, q = -49.661654, reason for exit: objective stopped decreasing\n",
      "\u001b[32mFinding a cage to align with me, B8 ...\u001b[39m\n",
      "\u001b[31m\tB9 aligns best with me.\u001b[39m\n",
      "\tCoherent point drift results for this alignment: \n",
      "σ² = 0.036776, q = -475.827015, reason for exit: variance below tol\n",
      "\u001b[32mFinding a cage to align with me, B9 ...\u001b[39m\n",
      "\u001b[31m\tCD3 aligns best with me.\u001b[39m\n",
      "\tCoherent point drift results for this alignment: \n",
      "σ² = 0.781791, q = 520.136455, reason for exit: max EM steps reached\n",
      "\u001b[32mFinding a cage to align with me, CD3 ...\u001b[39m\n",
      "\u001b[31m\tCD2 aligns best with me.\u001b[39m\n",
      "\tCoherent point drift results for this alignment: \n",
      "σ² = 2.258206, q = 416.543234, reason for exit: objective stopped decreasing\n",
      "\u001b[32mFinding a cage to align with me, CD2 ...\u001b[39m\n",
      "\u001b[31m\tC9 aligns best with me.\u001b[39m\n",
      "\tCoherent point drift results for this alignment: \n",
      "σ² = 1.954635, q = 430.556214, reason for exit: max EM steps reached\n",
      "\u001b[32mFinding a cage to align with me, C9 ...\u001b[39m\n",
      "\u001b[31m\tB2 aligns best with me.\u001b[39m\n",
      "\tCoherent point drift results for this alignment: \n",
      "σ² = 2.086349, q = 310.525961, reason for exit: objective stopped decreasing\n",
      "\u001b[32mFinding a cage to align with me, B2 ...\u001b[39m\n",
      "\u001b[31m\tWC4 aligns best with me.\u001b[39m\n",
      "\tCoherent point drift results for this alignment: \n",
      "σ² = 0.904480, q = 168.465488, reason for exit: objective stopped decreasing\n",
      "\u001b[32mFinding a cage to align with me, WC4 ...\u001b[39m\n",
      "\u001b[31m\tCB5 aligns best with me.\u001b[39m\n",
      "\tCoherent point drift results for this alignment: \n",
      "σ² = 2.981578, q = 401.023418, reason for exit: objective stopped decreasing\n",
      "\n",
      "\u001b[34mAligning cages with degeneracy xyz\u001b[39m\n",
      "\t\treference cage: A11\n",
      "\u001b[32mFinding a cage to align with me, A11 ...\u001b[39m\n",
      "\u001b[31m\tC23 aligns best with me.\u001b[39m\n",
      "\tCoherent point drift results for this alignment: \n",
      "σ² = 0.020714, q = 15186.393987, reason for exit: variance below tol\n",
      "\u001b[32mFinding a cage to align with me, C23 ...\u001b[39m\n",
      "\u001b[31m\tGC1 aligns best with me.\u001b[39m\n",
      "\tCoherent point drift results for this alignment: \n",
      "σ² = 0.009006, q = 97568.545650, reason for exit: variance below tol\n",
      "\u001b[32mFinding a cage to align with me, GC1 ...\u001b[39m\n",
      "\u001b[31m\tMC5 aligns best with me.\u001b[39m\n",
      "\tCoherent point drift results for this alignment: \n",
      "σ² = 12.009219, q = 2515.315118, reason for exit: max EM steps reached\n",
      "\u001b[32mFinding a cage to align with me, MC5 ...\u001b[39m\n",
      "\u001b[31m\tWC1 aligns best with me.\u001b[39m\n",
      "\tCoherent point drift results for this alignment: \n",
      "σ² = 3.488138, q = 1075.891737, reason for exit: objective stopped decreasing\n",
      "\u001b[32mFinding a cage to align with me, WC1 ...\u001b[39m\n",
      "\u001b[31m\tCC5 aligns best with me.\u001b[39m\n",
      "\tCoherent point drift results for this alignment: \n",
      "σ² = 5.189928, q = 1060.036504, reason for exit: objective stopped decreasing\n",
      "\u001b[32mFinding a cage to align with me, CC5 ...\u001b[39m\n",
      "\u001b[31m\tRCC1b aligns best with me.\u001b[39m\n",
      "\tCoherent point drift results for this alignment: \n",
      "σ² = 2.872430, q = 778.649168, reason for exit: max EM steps reached\n",
      "\u001b[32mFinding a cage to align with me, RCC1b ...\u001b[39m\n",
      "\u001b[31m\tB23 aligns best with me.\u001b[39m\n",
      "\tCoherent point drift results for this alignment: \n",
      "σ² = 3.748985, q = 1317.715119, reason for exit: objective stopped decreasing\n",
      "\u001b[32mFinding a cage to align with me, B23 ...\u001b[39m\n",
      "\u001b[31m\tC11 aligns best with me.\u001b[39m\n",
      "\tCoherent point drift results for this alignment: \n",
      "σ² = 3.383690, q = 984.417658, reason for exit: objective stopped decreasing\n",
      "\u001b[32mFinding a cage to align with me, C11 ...\u001b[39m\n",
      "\u001b[31m\tB13 aligns best with me.\u001b[39m\n",
      "\tCoherent point drift results for this alignment: \n",
      "σ² = 1.566136, q = 452.582599, reason for exit: objective stopped decreasing\n",
      "\u001b[32mFinding a cage to align with me, B13 ...\u001b[39m\n",
      "\u001b[31m\tRCC1a aligns best with me.\u001b[39m\n",
      "\tCoherent point drift results for this alignment: \n",
      "σ² = 3.222643, q = 879.235015, reason for exit: max EM steps reached\n",
      "\u001b[32mFinding a cage to align with me, RCC1a ...\u001b[39m\n",
      "\u001b[31m\tCC9 aligns best with me.\u001b[39m\n",
      "\tCoherent point drift results for this alignment: \n",
      "σ² = 0.729713, q = 534.101360, reason for exit: objective stopped decreasing\n",
      "\u001b[32mFinding a cage to align with me, CC9 ...\u001b[39m\n",
      "\u001b[31m\tCC10 aligns best with me.\u001b[39m\n",
      "\tCoherent point drift results for this alignment: \n",
      "σ² = 1.531709, q = 525.699960, reason for exit: objective stopped decreasing\n",
      "\u001b[32mFinding a cage to align with me, CC10 ...\u001b[39m\n",
      "\u001b[31m\tCC3 aligns best with me.\u001b[39m\n",
      "\tCoherent point drift results for this alignment: \n",
      "σ² = 2.830787, q = 635.966451, reason for exit: objective stopped decreasing\n",
      "\u001b[32mFinding a cage to align with me, CC3 ...\u001b[39m\n",
      "\u001b[31m\tCC4 aligns best with me.\u001b[39m\n",
      "\tCoherent point drift results for this alignment: \n",
      "σ² = 0.024042, q = 1901.586575, reason for exit: variance below tol\n",
      "\u001b[32mFinding a cage to align with me, CC4 ...\u001b[39m\n",
      "\u001b[31m\tRCC3a aligns best with me.\u001b[39m\n",
      "\tCoherent point drift results for this alignment: \n",
      "σ² = 0.016449, q = 8559.349005, reason for exit: variance below tol\n",
      "\u001b[32mFinding a cage to align with me, RCC3a ...\u001b[39m\n",
      "\u001b[31m\tRCC1d aligns best with me.\u001b[39m\n",
      "\tCoherent point drift results for this alignment: \n",
      "σ² = 0.707976, q = 218.032014, reason for exit: max EM steps reached\n",
      "\u001b[32mFinding a cage to align with me, RCC1d ...\u001b[39m\n",
      "\u001b[31m\tRCC3b aligns best with me.\u001b[39m\n",
      "\tCoherent point drift results for this alignment: \n",
      "σ² = 2.323100, q = 781.742004, reason for exit: objective stopped decreasing\n",
      "\u001b[32mFinding a cage to align with me, RCC3b ...\u001b[39m\n",
      "\u001b[31m\tCC2 aligns best with me.\u001b[39m\n",
      "\tCoherent point drift results for this alignment: \n",
      "σ² = 1.623348, q = 397.455777, reason for exit: objective stopped decreasing\n",
      "\u001b[32mFinding a cage to align with me, CC2 ...\u001b[39m\n",
      "\u001b[31m\tCC1 aligns best with me.\u001b[39m\n",
      "\tCoherent point drift results for this alignment: \n",
      "σ² = 0.775478, q = 100.750180, reason for exit: objective stopped decreasing\n",
      "\u001b[32mFinding a cage to align with me, CC1 ...\u001b[39m\n",
      "\u001b[31m\tC8 aligns best with me.\u001b[39m\n",
      "\tCoherent point drift results for this alignment: \n",
      "σ² = 1.525262, q = 275.876983, reason for exit: max EM steps reached\n",
      "\u001b[32mFinding a cage to align with me, C8 ...\u001b[39m\n",
      "\u001b[31m\tC5 aligns best with me.\u001b[39m\n",
      "\tCoherent point drift results for this alignment: \n",
      "σ² = 0.022736, q = -800.802091, reason for exit: variance below tol\n",
      "\u001b[32mFinding a cage to align with me, C5 ...\u001b[39m\n",
      "\u001b[31m\tC2 aligns best with me.\u001b[39m\n",
      "\tCoherent point drift results for this alignment: \n",
      "σ² = 2.073288, q = 336.187077, reason for exit: max EM steps reached\n"
     ]
    }
   ],
   "source": [
    "for pl in [\"xy\", \"yz\", \"xyz\"]\n",
    "    printstyled(\"\\nAligning cages with degeneracy \" * pl * \"\\n\", color=:blue)\n",
    "    \n",
    "    aligned = [false for i = 1:length(needs_further_alignment[pl])]\n",
    "    \n",
    "    align_to = needs_further_alignment[pl][1] # need to start somewhere; ref cage.\n",
    "    println(\"\\t\\treference cage: \", align_to)\n",
    "    aligned[needs_further_alignment[pl] .== align_to] .= true\n",
    "    atoms, x = rotational_inertia_aligned_cage(align_to)\n",
    "    write_final_aligned_cage(atoms, x, align_to)\n",
    "    \n",
    "    while sum(.! aligned) != 0\n",
    "        # read in cage to which we will align. an already-aligned cage.\n",
    "        #   x b/c we will keep this cage's coords\n",
    "        atoms, x = aligned_and_centered_cage(align_to) # \"me\"\n",
    "        printstyled(\"Finding a cage to align with me, \" * align_to * \" ...\\n\", color=:green)\n",
    "\n",
    "        # build candidate y's among cages not yet aligned\n",
    "        unaligned_cages = needs_further_alignment[pl][.! aligned]\n",
    "        ys = [rotational_inertia_aligned_cage(cage)[2] for cage in unaligned_cages]\n",
    "\n",
    "        # find cage that can be best aligned to me (`align_to`)\n",
    "        i_aligns_with_me_best = find_best_cage_to_align_with_me(x, ys) #, cage_names=unaligned_cages)\n",
    "        align_with_me = unaligned_cages[i_aligns_with_me_best]\n",
    "        printstyled(\"\\t\" * align_with_me * \" aligns best with me.\\n\", color=:red)\n",
    "        \n",
    "        # find transformation to align this cage with me (`align_to`)\n",
    "        atoms, y = rotational_inertia_aligned_cage(align_with_me)\n",
    "        println(\"\\tCoherent point drift results for this alignment: \")\n",
    "        R, t, σ², ℓ = CoherentPointDrift.rigid_point_set_registration(x, y, \n",
    "                w=0.0, σ²_tol=0.05, q_tol=0.1, verbose=false, print_ending=true)\n",
    "\n",
    "        # transform, save.\n",
    "        write_final_aligned_cage(atoms, R * y, align_with_me)  \n",
    "\n",
    "        # update alignment status\n",
    "        aligned[needs_further_alignment[pl] .== align_with_me] .= true\n",
    "\n",
    "        # now me = this cage to keep pulling in cages\n",
    "        align_to = align_with_me\n",
    "    end\n",
    "end"
   ]
  },
  {
   "cell_type": "markdown",
   "metadata": {},
   "source": [
    "to treat xyz-degenerate cages diffferently?"
   ]
  },
  {
   "cell_type": "code",
   "execution_count": null,
   "metadata": {},
   "outputs": [],
   "source": [
    "aligned = [false for i = 1:length(needs_further_alignment[\"xyz\"])]\n",
    "\n",
    "printstyled(\"\\nAligning cages with degeneracy xyz\\n\", color=:blue)\n",
    "\n",
    "for align_me in needs_further_alignment[\"xyz\"]\n",
    "    printstyled(\"Finding a cage to align \" * align_me * \" to...\\n\", color=:green)\n",
    "    \n",
    "    if aligned[needs_further_alignment[\"xyz\"] .== align_me][1]\n",
    "        @printf(\"\\t%s already been aligned!\", align_me)\n",
    "        continue\n",
    "    end\n",
    "    \n",
    "    atoms, y = rotational_inertia_aligned_cage(align_me)\n",
    "    \n",
    "    # find best cage to align to out of xy, yz, and other xyz cages.\n",
    "    candidates_to_align_to = vcat(needs_further_alignment[\"xy\"], needs_further_alignment[\"yz\"], \n",
    "        needs_further_alignment[\"xyz\"])\n",
    "    filter!(blah -> blah != align_me, candidates_to_align_to) # don't try to align to itself\n",
    "    xs = [rotational_inertia_aligned_cage(cage)[2] for cage in candidates_to_align_to]\n",
    "    \n",
    "    i_align_to = find_best_cage_to_align_to(y, xs) #, cage_names=candidates_to_align_to)\n",
    "    align_to = candidates_to_align_to[i_align_to]\n",
    "    printstyled(\"\\tbest aligned with \" * align_to, color=:red)\n",
    "\n",
    "    x = rand(2, 2) # ovewrite later\n",
    "    # if the best cage to align to is in \"xyz\", align these two, remove from pool\n",
    "    if align_to in needs_further_alignment[\"xyz\"][.! aligned]\n",
    "        _atoms, x = rotational_inertia_aligned_cage(align_to)\n",
    "        write_final_aligned_cage(_atoms, x, align_to)\n",
    "        aligned[needs_further_alignment[\"xyz\"] .== align_to] .= true\n",
    "        printstyled(\", another cage w xyz degeneracy that hasn't been aligned. aligning this pair\\n\", color=:red)\n",
    "    else # already aligned cage\n",
    "        _, x = aligned_and_centered_cage(align_to)\n",
    "        printstyled(\", an already-aligned cage.\\n\", color=:red)\n",
    "    end\n",
    "        \n",
    "    println(\"\\tCoherent point drift results for this alignment: \")\n",
    "    R, t, σ², ℓ = CoherentPointDrift.rigid_point_set_registration(x, y, \n",
    "                  w=0.0, σ²_tol=0.05, q_tol=0.1, verbose=false, print_ending=true)\n",
    "    write_final_aligned_cage(atoms, R * y, align_me)\n",
    "\n",
    "    aligned[needs_further_alignment[\"xyz\"] .== align_me] .= true\n",
    "end"
   ]
  },
  {
   "cell_type": "markdown",
   "metadata": {},
   "source": [
    "#### idea 2 align all of these to each other, only the first cage align with some cage in the PAI-robust set.\n",
    "pick similar pair, align those, then next most similar pair..."
   ]
  },
  {
   "cell_type": "code",
   "execution_count": null,
   "metadata": {},
   "outputs": [],
   "source": [
    "all_needs_further_alignment = vcat(needs_further_alignment[\"xy\"],\n",
    "                                   needs_further_alignment[\"yz\"],\n",
    "                                   needs_further_alignment[\"xyz\"])\n",
    "\n",
    "ℓ = zeros(length(all_needs_further_alignment), length(all_needs_further_alignment)) # -ve log likelihood\n",
    "\n",
    "@showprogress 1 \"...\" for i = 1:length(all_needs_further_alignment)\n",
    "    _, y = centered_cage_coords(all_needs_further_alignment[i]) # y b/c we transform this one.\n",
    "    for j = 1:length(all_needs_further_alignment)\n",
    "        if i == j\n",
    "            ℓ[i, j] = Inf\n",
    "            continue\n",
    "        end\n",
    "        _, x = centered_cage_coords(all_needs_further_alignment[j])\n",
    "        R, t, σ², ℓ[i, j] = CoherentPointDrift.rigid_point_set_registration(x, y, \n",
    "            w=0.0, σ²_tol=0.1, verbose=false, max_nb_em_steps=25)\n",
    "    end\n",
    "end\n",
    "\n",
    "@save \"ℓ_CPD.jld2\" ℓ"
   ]
  },
  {
   "cell_type": "markdown",
   "metadata": {},
   "source": [
    "viz matrix. is it symmetric?"
   ]
  },
  {
   "cell_type": "code",
   "execution_count": null,
   "metadata": {},
   "outputs": [],
   "source": [
    "aligned = [false for i = 1:length(all_needs_further_alignment)]\n",
    "\n",
    "# \n",
    "while sum(.! aligned) > 0\n",
    "    # pick most similar pair.\n",
    "    \n",
    "end"
   ]
  },
  {
   "cell_type": "markdown",
   "metadata": {},
   "source": [
    "#### idea 3: greedily align `xy`-, `yz`-, then `xyz`- degenerate-moments-cages with the cages whose principal axes of inertia are not degenerate."
   ]
  },
  {
   "cell_type": "code",
   "execution_count": null,
   "metadata": {},
   "outputs": [],
   "source": [
    "aligned = [false for i = 1:length(cages)]\n",
    "for cage in needs_further_alignment[\"no\"]\n",
    "    aligned[cage .== cages[:]] .= true\n",
    "end\n",
    "\n",
    "for pl in [\"xyz\", \"xy\", \"yz\"]\n",
    "    # pick a cage that we will align with one of the currently aligned ones.\n",
    "    align_this_cage = pop!(needs_further_alignment[pl])\n",
    "    \n",
    "    # read in cage we wanna align\n",
    "    #   y b/c we will translate coords of this\n",
    "    atoms, y = centered_cage_coords(align_this_cage) \n",
    "    \n",
    "    # build candidate x's among already-aligned cages\n",
    "    #   ... the coords aligned w principal axes of inertia\n",
    "    aligned_cages = cages[aligned]\n",
    "    xs = [rotational_inertia_aligned_cage(cage)[2] for cage in aligned_cages]\n",
    "    \n",
    "    # cage that can be best aligned to ref. cage\n",
    "    i_best_cage_to_align_to = find_best_cage_to_align_to(y, xs)\n",
    "    best_cage_to_align_to = aligned_cages[i_best_cage_to_align_to]\n",
    "    \n",
    "    # find transformation to align this cage with the ref cage.\n",
    "    _, x = rotational_inertia_aligned_cage(best_cage_to_align_to)\n",
    "    R, t, σ², ℓ = CoherentPointDrift.rigid_point_set_registration(x, y, \n",
    "            w=0.0, σ²_tol=0.1, verbose=false)\n",
    "    \n",
    "    # conduct rotation, save.\n",
    "    @printf(\"Aligning %s to %s\\n\", align_this_cage, best_cage_to_align_to)\n",
    "    write_xyz(atoms, R * y, \"all_cages/\" * align_this_cage * \"_final_alignment.xyz\")\n",
    "    aligned[cages[:] .== align_this_cage] .= true\n",
    "end"
   ]
  },
  {
   "cell_type": "code",
   "execution_count": null,
   "metadata": {},
   "outputs": [],
   "source": [
    "for alignment_plane in [\"xy\", \"yz\"]\n",
    "    nb_cages_to_align = length(needs_further_alignment[alignment_plane])\n",
    "    @printf(\"\\nAligning %d cages in the %s plane\\n\", nb_cages_to_align, alignment_plane)\n",
    "    \n",
    "    # keep track of which of these cages has been aligned\n",
    "    has_been_aligned = [false for i = 1:nb_cages_to_align]\n",
    "    \n",
    "    # the first cage must be the absolute reference for this plane.\n",
    "    #  say it's been aligned.\n",
    "    #  write it to file as a CPD-aligned cage to facilitate `find_and_align_closest`\n",
    "    ref_cage = needs_further_alignment[alignment_plane][1]\n",
    "    has_been_aligned[1] = true\n",
    "    atoms, x = rotational_inertia_aligned_cage(ref_cage)\n",
    "    write_xyz(atoms, x, \n",
    "        \"all_cages/\" * ref_cage * \"_cpd_aligned.xyz\")\n",
    "    @printf(\"\\tAbsolute reference cage for %s aligned cages is %s\\n\", \n",
    "        alignment_plane, ref_cage)\n",
    "    \n",
    "    # recursively align closest cage until all have been aligned.\n",
    "    while sum(.! has_been_aligned) > 0\n",
    "        # overwrite reference cage with the one that was just aligned.\n",
    "        ref_cage = find_and_align_closest(ref_cage, \n",
    "            needs_further_alignment[alignment_plane][.! has_been_aligned], true)\n",
    "\n",
    "        # update alignment status of the cage that was just aligned (`ref_cage`)\n",
    "        has_been_aligned[needs_further_alignment[alignment_plane] .== ref_cage] .= true\n",
    "        # now the cage that was just aligned will be the reference cage to find a\n",
    "        #   close\n",
    "    end\n",
    "end"
   ]
  },
  {
   "cell_type": "markdown",
   "metadata": {},
   "source": [
    "For cages where we are completely agnostic, find the best match among all aligned cages that need further alignment, then align this cage with that."
   ]
  },
  {
   "cell_type": "code",
   "execution_count": null,
   "metadata": {},
   "outputs": [],
   "source": [
    "for cage in needs_further_alignment[\"xyz\"]\n",
    "    all_cages_needing_further_alignment = vcat([needs_further_alignment[pl] for pl in [\"xyz\", \"xy\", \"yz\"]]...)\n",
    "    filter!(x -> x != cage, all_cages_needing_further_alignment)\n",
    "    \n",
    "    # find best aligned cage but don't actually align.\n",
    "    best_aligned_cage = find_and_align_closest(cage, \n",
    "            all_cages_needing_further_alignment, false)\n",
    "    \n",
    "    # align the cage with the best aligned\n",
    "    atoms_ref, x_ref = rotational_inertia_aligned_cage(best_aligned_cage)\n",
    "    atoms, x = \n",
    "    R, t, σ², ℓ = CoherentPointDrift.rigid_point_set_registration(x_ref, x, \n",
    "            w=0.0, σ²_tol=0.1, verbose=false)\n",
    "\n",
    "    # write result to file\n",
    "    write_xyz(atoms, R * x, \n",
    "        \"all_cages/\" * unaligned_cages[i_closest] * \"_cpd_aligned.xyz\")\n",
    "end"
   ]
  },
  {
   "cell_type": "markdown",
   "metadata": {},
   "source": [
    "#### Aligned is aligned\n",
    "\n",
    "Whether a cage was determininstically aligned with its principal axes of inertia or by the coherent point drift algo, it is named `cage * \"_final_aligned.xyz\"` to easily load in the aligned cage."
   ]
  },
  {
   "cell_type": "markdown",
   "metadata": {},
   "source": [
    "## Generate 3D void space images\n",
    "Superimpose a regular 3D grid of points centered at the cage center of mass. \n",
    "Compute the potential energy of a Helium probe at each grid point.\n",
    "If the energy is less than a certain value, that point is declared \"accessible\".\n",
    "Think of this as a CAT scan for cages!"
   ]
  },
  {
   "cell_type": "markdown",
   "metadata": {},
   "source": [
    "Set up computation of potential energy of Helium probe in the cages"
   ]
  },
  {
   "cell_type": "code",
   "execution_count": 14,
   "metadata": {},
   "outputs": [],
   "source": [
    "he = Molecule(\"He\")\n",
    "\n",
    "cutoffradius = 14.0 # vdw cutoff radius\n",
    "ljff = LJForceField(\"UFF.csv\", cutoffradius=cutoffradius, mixing_rules=\"geometric\");"
   ]
  },
  {
   "cell_type": "markdown",
   "metadata": {},
   "source": [
    "Write padded .cif files of the cages for molecular simulations. \n",
    "In the same loop, determine what size of snapshot we need to encapsulate all cages."
   ]
  },
  {
   "cell_type": "code",
   "execution_count": 15,
   "metadata": {},
   "outputs": [
    {
     "name": "stdout",
     "output_type": "stream",
     "text": [
      "aligned and centered cages written to .xyz in all_cages/*_aligned.xyz\n",
      "see data/crystals for .cif's padded by cutoffradius for molecular simulations'\n",
      "Largest cage: :MC6\n"
     ]
    }
   ],
   "source": [
    "snapshot_dim = 0.0 # find max dimension we need for snapshot to include all atoms of all cages\n",
    "biggest_cage = \"\"\n",
    "\n",
    "for cage in cages\n",
    "    # read in aligned and centered cage\n",
    "    atoms, x = aligned_and_centered_cage(cage)\n",
    "    # observe max dimension so we know size of snapshot to take.\n",
    "    x_span = 2.0 * maximum(abs.(x))\n",
    "    if x_span > snapshot_dim # 2 b/c centered at zero\n",
    "        snapshot_dim = x_span\n",
    "        biggest_cage = cage\n",
    "    end\n",
    "    \n",
    "    #\n",
    "    # write to .cif for molecular simulation\n",
    "    #\n",
    "    # make sure with PBCs no interactions are included by padding\n",
    "    box = Box([x_span + 2 * cutoffradius for blah = 1:3]..., \n",
    "              [π/2 for blah = 1:3]...)\n",
    "    # when writing .cif, shift coords so they are in [0, 1]^3\n",
    "    #    so in .cif center of mass is center of box.\n",
    "    x_shift = [x_span + 2 * cutoffradius for blah = 1:3] / 2.0\n",
    "    framework = Framework(cage, box, \n",
    "                          Atoms(atoms, x), \n",
    "                          Charges(Array{Float64, 1}(undef, 0), Array{Float64, 2}(undef, 0, 0))\n",
    "                          )\n",
    "    write_cif(framework, \n",
    "        @sprintf(\"data/crystals/%s_aligned.cif\", cage))\n",
    "end\n",
    "\n",
    "println(\"aligned and centered cages written to .xyz in all_cages/*_aligned.xyz\")\n",
    "println(\"see data/crystals for .cif's padded by cutoffradius for molecular simulations'\")\n",
    "println(\"Largest cage: :\", biggest_cage)"
   ]
  },
  {
   "cell_type": "code",
   "execution_count": 16,
   "metadata": {},
   "outputs": [
    {
     "name": "stdout",
     "output_type": "stream",
     "text": [
      "Dimension of snapshot to fit all porous cages (Å): 41.0\n"
     ]
    },
    {
     "data": {
      "text/plain": [
       "Bravais unit cell of a crystal.\n",
       "\tUnit cell angles α = 90.000000 deg. β = 90.000000 deg. γ = 90.000000 deg.\n",
       "\tUnit cell dimensions a = 41.000000 Å. b = 41.000000 Å, c = 41.000000 Å\n",
       "\tVolume of unit cell: 68921.000000 Å³\n"
      ]
     },
     "execution_count": 16,
     "metadata": {},
     "output_type": "execute_result"
    }
   ],
   "source": [
    "snapshot_dim = ceil(snapshot_dim)\n",
    "println(\"Dimension of snapshot to fit all porous cages (Å): \", snapshot_dim)\n",
    "\n",
    "const center_of_box = [snapshot_dim / 2.0 for d = 1:3]\n",
    "\n",
    "const snapshot_box = Box(snapshot_dim, snapshot_dim, snapshot_dim, π/2, π/2, π/2)"
   ]
  },
  {
   "cell_type": "markdown",
   "metadata": {},
   "source": [
    "Discretize space; `x_grid_pts` ranges from `-snapshot_dim` to `snapshot_dim` so it overlays the cage coordinates."
   ]
  },
  {
   "cell_type": "code",
   "execution_count": 17,
   "metadata": {},
   "outputs": [
    {
     "data": {
      "text/plain": [
       "50-element Array{Float64,1}:\n",
       " -20.5              \n",
       " -19.663265306122447\n",
       " -18.8265306122449  \n",
       " -17.989795918367346\n",
       " -17.153061224489797\n",
       " -16.316326530612244\n",
       " -15.479591836734695\n",
       " -14.642857142857142\n",
       " -13.806122448979592\n",
       " -12.96938775510204 \n",
       " -12.13265306122449 \n",
       " -11.295918367346939\n",
       " -10.459183673469388\n",
       "   ⋮                \n",
       "  11.295918367346939\n",
       "  12.132653061224488\n",
       "  12.96938775510204 \n",
       "  13.806122448979593\n",
       "  14.642857142857146\n",
       "  15.479591836734691\n",
       "  16.316326530612244\n",
       "  17.153061224489797\n",
       "  17.98979591836735 \n",
       "  18.826530612244895\n",
       "  19.663265306122447\n",
       "  20.5              "
      ]
     },
     "execution_count": 17,
     "metadata": {},
     "output_type": "execute_result"
    }
   ],
   "source": [
    "const nb_grid_pts = 50\n",
    "const x_grid_pts = collect(range(0, stop=snapshot_dim, length=nb_grid_pts)) .- snapshot_dim / 2.0"
   ]
  },
  {
   "cell_type": "markdown",
   "metadata": {},
   "source": [
    "Build data matrix `A`, whose rows are the flattened snapshots of a particular cage."
   ]
  },
  {
   "cell_type": "code",
   "execution_count": 18,
   "metadata": {},
   "outputs": [
    {
     "name": "stdout",
     "output_type": "stream",
     "text": [
      "see data/grids for .cube visualizations of the cage scans\n"
     ]
    },
    {
     "data": {
      "text/plain": [
       "(74, 125000)"
      ]
     },
     "execution_count": 18,
     "metadata": {},
     "output_type": "execute_result"
    }
   ],
   "source": [
    "A = zeros(Float64, length(cages), nb_grid_pts ^ 3)\n",
    "\n",
    "for (c, cage) in enumerate(cages)\n",
    "    # read in aligned and centered cage\n",
    "    atoms, x = aligned_and_centered_cage(cage)\n",
    "    \n",
    "    # assert snapshot box is big enough\n",
    "    @assert(all(x .< maximum(x_grid_pts)) && all(x .> minimum(x_grid_pts)),\n",
    "        \"atoms outside snapshot!\")\n",
    "    \n",
    "    # convert cage to a list of LJSphere's for PorousMaterials.jl\n",
    "    ljspheres = Atoms(atoms, x)\n",
    "    \n",
    "    # preallocate grid; choose origin here solely for visualization\n",
    "    # when we write to a .cube file. the origin passed to `Grid`\n",
    "    # is so the cage is centered at the origin in the viz. (checked)\n",
    "    grid = Grid(snapshot_box, (nb_grid_pts, nb_grid_pts, nb_grid_pts), \n",
    "                zeros(Float64, nb_grid_pts, nb_grid_pts, nb_grid_pts), \n",
    "                :accessibility, -center_of_box)\n",
    "        \n",
    "    for i = 1:nb_grid_pts, j = 1:nb_grid_pts, k = 1:nb_grid_pts\n",
    "        # what grid pt is here inside the loop?\n",
    "        x_grid_pt = [x_grid_pts[i], x_grid_pts[j], x_grid_pts[k]]\n",
    "        \n",
    "        # put helium at this grid pt\n",
    "        translate_to!(he, x_grid_pt)\n",
    "        \n",
    "        # compute potential energy of He adsorbate here\n",
    "        energy = vdw_energy_no_PBC(he, ljspheres, ljff)\n",
    "        \n",
    "        # if framework atom overlaps with cage atom... energy > k T\n",
    "        if energy > 298.0\n",
    "            grid.data[i, j, k] = 1.0\n",
    "        end\n",
    "    end\n",
    "    \n",
    "    # save grid for visualization\n",
    "    write_cube(grid, cages[c] * \".cube\", verbose=false)\n",
    "    \n",
    "    # add flattened grid as a row of the matrix `A`\n",
    "    A[c, :] = grid.data[:]\n",
    "    \n",
    "    # assert that we can recover the snapshot by reshaping the rows of A\n",
    "    @assert(isapprox(\n",
    "            reshape(A[c, :], (nb_grid_pts, nb_grid_pts, nb_grid_pts)),\n",
    "            grid.data)\n",
    "           )\n",
    "end\n",
    "\n",
    "println(\"see data/grids for .cube visualizations of the cage scans\")\n",
    "size(A)"
   ]
  },
  {
   "cell_type": "markdown",
   "metadata": {},
   "source": [
    "Look at rank of $A$. Do any two cages have the same representation?"
   ]
  },
  {
   "cell_type": "code",
   "execution_count": 19,
   "metadata": {},
   "outputs": [
    {
     "name": "stdout",
     "output_type": "stream",
     "text": [
      "rank of A: 74\n"
     ]
    }
   ],
   "source": [
    "println(\"rank of A: \", rank(A))\n",
    "for i = 1:length(cages)\n",
    "    for j = (i+1):length(cages)\n",
    "        if norm(A[i, :] - A[j, :]) < 5.0\n",
    "            @printf(\"Cages %s and %s hv same raw representation!\", cages[i], cages[j])\n",
    "        end\n",
    "    end\n",
    "    # just in case...\n",
    "    if all(A[i, :] .== 0.0) || all(A[i, :] == 1.0)\n",
    "        println(\"Cage is all zeros or all ones! \", cages[i])\n",
    "    end\n",
    "end"
   ]
  },
  {
   "cell_type": "markdown",
   "metadata": {},
   "source": [
    "Compute the average cage."
   ]
  },
  {
   "cell_type": "code",
   "execution_count": 20,
   "metadata": {},
   "outputs": [
    {
     "name": "stdout",
     "output_type": "stream",
     "text": [
      "See /home/simoncor/latent_cage_space/data/grids/average_cage.cube\n",
      "37368/125000 pixels nonzero in average cage\n"
     ]
    }
   ],
   "source": [
    "average_cage = zeros(Float64, nb_grid_pts ^ 3)\n",
    "for c = 1:length(cages)\n",
    "    average_cage += A[c, :]\n",
    "end\n",
    "average_cage /= length(cages)\n",
    "\n",
    "# write to .cube\n",
    "grid = Grid(snapshot_box, (nb_grid_pts, nb_grid_pts, nb_grid_pts), \n",
    "            reshape(average_cage, (nb_grid_pts, nb_grid_pts, nb_grid_pts)), \n",
    "            :accessibility, -center_of_box)\n",
    "\n",
    "write_cube(grid, \"average_cage.cube\")\n",
    "@printf(\"%d/%d pixels nonzero in average cage\\n\", sum(average_cage .!= 0), length(average_cage))"
   ]
  },
  {
   "cell_type": "markdown",
   "metadata": {},
   "source": [
    "Subtract off the average cage from each cage."
   ]
  },
  {
   "cell_type": "code",
   "execution_count": 21,
   "metadata": {},
   "outputs": [],
   "source": [
    "for c = 1:length(cages)\n",
    "    A[c, :] = A[c, :] - average_cage\n",
    "end"
   ]
  },
  {
   "cell_type": "markdown",
   "metadata": {},
   "source": [
    "At this point, if $\\mathbf{x_i}$ is a feature vector (a row of `A`), then $\\sum_i \\mathbf{x_i} = \\mathbf{0}$. See [here](https://epubs.siam.org/doi/pdf/10.1137/S0036144501387517)."
   ]
  },
  {
   "cell_type": "code",
   "execution_count": 22,
   "metadata": {},
   "outputs": [],
   "source": [
    "x_sum = zeros(nb_grid_pts ^ 3)\n",
    "for c = 1:length(cages)\n",
    "    x_sum += A[c, :]\n",
    "end\n",
    "@assert(all(isapprox.(x_sum, zeros(nb_grid_pts ^ 3), atol=1e-5)))"
   ]
  },
  {
   "cell_type": "markdown",
   "metadata": {},
   "source": [
    "Visualize the matrix (half of a joke)"
   ]
  },
  {
   "cell_type": "code",
   "execution_count": 23,
   "metadata": {},
   "outputs": [
    {
     "data": {
      "image/png": "[encoded data removed]",
      "text/plain": [
       "PyPlot.Figure(PyObject <Figure size 1600x200 with 1 Axes>)"
      ]
     },
     "metadata": {},
     "output_type": "display_data"
    }
   ],
   "source": [
    "plt.matshow(A)\n",
    "plt.yticks([0, length(cages)-1])\n",
    "plt.tight_layout()\n",
    "plt.savefig(\"data_matrix_viz.png\", format=\"png\", dpi=300, bbox_inches=\"tight\")"
   ]
  },
  {
   "cell_type": "markdown",
   "metadata": {},
   "source": [
    "How many columns are all zeros?"
   ]
  },
  {
   "cell_type": "code",
   "execution_count": 24,
   "metadata": {},
   "outputs": [
    {
     "data": {
      "text/plain": [
       "87632"
      ]
     },
     "execution_count": 24,
     "metadata": {},
     "output_type": "execute_result"
    }
   ],
   "source": [
    "sum(sum(abs.(A), dims=1) .== 0.0)"
   ]
  },
  {
   "cell_type": "code",
   "execution_count": 25,
   "metadata": {},
   "outputs": [
    {
     "data": {
      "text/plain": [
       "73"
      ]
     },
     "execution_count": 25,
     "metadata": {},
     "output_type": "execute_result"
    }
   ],
   "source": [
    "rank(A)"
   ]
  },
  {
   "cell_type": "markdown",
   "metadata": {},
   "source": [
    "Perform the SVD decomposition of the data matrix"
   ]
  },
  {
   "cell_type": "code",
   "execution_count": 26,
   "metadata": {},
   "outputs": [
    {
     "name": "stdout",
     "output_type": "stream",
     "text": [
      "size of U: (74, 74)\n",
      "# singular values: 74\n",
      "size of Vᵀ: (74, 125000)\n"
     ]
    }
   ],
   "source": [
    "UΣVᵀ = svd(A)\n",
    "\n",
    "println(\"size of U: \", size(UΣVᵀ.U))\n",
    "println(\"# singular values: \", length(UΣVᵀ.S))\n",
    "println(\"size of Vᵀ: \", size(UΣVᵀ.Vt))\n",
    "\n",
    "@assert(isapprox(A, UΣVᵀ.U * diagm(0 => UΣVᵀ.S) * UΣVᵀ.Vt))"
   ]
  },
  {
   "cell_type": "code",
   "execution_count": 27,
   "metadata": {},
   "outputs": [
    {
     "data": {
      "image/png": "[encoded data removed]",
      "text/plain": [
       "PyPlot.Figure(PyObject <Figure size 640x480 with 1 Axes>)"
      ]
     },
     "metadata": {},
     "output_type": "display_data"
    },
    {
     "data": {
      "image/png": "[encoded data removed]",
      "text/plain": [
       "PyPlot.Figure(PyObject <Figure size 640x480 with 1 Axes>)"
      ]
     },
     "metadata": {},
     "output_type": "display_data"
    }
   ],
   "source": [
    "plt.figure()\n",
    "plt.plt[:hist](UΣVᵀ.S, color=\"g\")\n",
    "plt.xlabel(\"singular value\")\n",
    "plt.ylabel(\"# singular values\")\n",
    "plt.xlim(xmin=0)\n",
    "plt.savefig(\"distn_of_svs.png\", format=\"png\", dpi=300)\n",
    "\n",
    "plt.figure()\n",
    "plt.plot(1:length(UΣVᵀ.S), UΣVᵀ.S, color=\"g\", marker=\"o\")\n",
    "plt.xlabel(\"\\$i\\$\")\n",
    "plt.ylabel(\"singular value \\$\\\\sigma_i\\$\")\n",
    "plt.title(\"Ranked singular values\")\n",
    "plt.savefig(\"svs_ordered.png\", format=\"png\", dpi=300)"
   ]
  },
  {
   "cell_type": "markdown",
   "metadata": {},
   "source": [
    "ratio of norm of error to norm of $A$.\n",
    "See pg. 19 of \n",
    "> A Singularly Valuable Decomposition: The SVD of a Matrix. Dan Kalman"
   ]
  },
  {
   "cell_type": "code",
   "execution_count": 28,
   "metadata": {},
   "outputs": [
    {
     "data": {
      "image/png": "[encoded data removed]",
      "text/plain": [
       "PyPlot.Figure(PyObject <Figure size 640x480 with 1 Axes>)"
      ]
     },
     "metadata": {},
     "output_type": "display_data"
    }
   ],
   "source": [
    "relative_err = 1.0 .- sqrt.([sum(UΣVᵀ.S[1:i] .^ 2) for i = 1:length(UΣVᵀ.S)] / sum(UΣVᵀ.S .^ 2))\n",
    "relative_err = vcat([1.0], relative_err)\n",
    "\n",
    "fig = plt.figure()\n",
    "plt.xlabel(\"Rank of approximation, \\$\\\\nu\\$\")\n",
    "plt.ylabel(\"relative error \\$||\\\\mathbf{A}-\\\\mathbf{A}_\\\\nu||_F/||\\\\mathbf{A}||_F \\$\")\n",
    "plt.plot(0:length(UΣVᵀ.S), relative_err, marker=\"o\")\n",
    "plt.savefig(\"relative_err_with_svs.png\", format=\"png\", dpi=300)"
   ]
  },
  {
   "cell_type": "markdown",
   "metadata": {},
   "source": [
    "Take the latent space as a composition of the first `r` singular vectors.\n",
    "Select `r` so that we recover a certain fraction of the energy, `fraction_energy_recovered`."
   ]
  },
  {
   "cell_type": "code",
   "execution_count": 29,
   "metadata": {},
   "outputs": [
    {
     "name": "stdout",
     "output_type": "stream",
     "text": [
      "\u001b[31m21 singular values results in relative error 0.144907; setting latent dim = 21.\u001b[39m\n"
     ]
    }
   ],
   "source": [
    "# assert singular values are sorted\n",
    "@assert(sortperm(UΣVᵀ.S) == reverse([i for i = 1:length(UΣVᵀ.S)]))\n",
    "\n",
    "desired_relative_err = 0.15\n",
    "ν = findfirst(relative_err .< desired_relative_err) # number of singular values to include\n",
    "\n",
    "printstyled(@sprintf(\"%d singular values results in relative error %f; setting latent dim = %d.\\n\",\n",
    "    ν, relative_err[ν], ν), color=:red)\n",
    "\n",
    "x_latent = UΣVᵀ.U[:, 1:ν] * diagm(0 => UΣVᵀ.S[1:ν])\n",
    "@assert(isapprox(x_latent, A * UΣVᵀ.V[:, 1:ν]), \"UΣ != AV\")\n",
    "@assert(size(x_latent) == (length(cages), ν))"
   ]
  },
  {
   "cell_type": "markdown",
   "metadata": {},
   "source": [
    "use t-SNE to embed latent representation in 2D"
   ]
  },
  {
   "cell_type": "code",
   "execution_count": 30,
   "metadata": {},
   "outputs": [
    {
     "name": "stderr",
     "output_type": "stream",
     "text": [
      "\u001b[32mComputing t-SNE  2%|█                                   |  ETA: 0:00:04\u001b[39m\n",
      "\u001b[32mComputing t-SNE 11%|████                                |  ETA: 0:00:03\u001b[39m\n",
      "\u001b[32mComputing t-SNE 16%|██████                              |  ETA: 0:00:03\u001b[39m\n",
      "\u001b[32mComputing t-SNE 20%|███████                             |  ETA: 0:00:03\u001b[39m\n",
      "\u001b[32mComputing t-SNE 24%|█████████                           |  ETA: 0:00:02\u001b[39m\n",
      "\u001b[32mComputing t-SNE 29%|██████████                          |  ETA: 0:00:02\u001b[39m\n",
      "\u001b[32mComputing t-SNE 33%|████████████                        |  ETA: 0:00:02\u001b[39m\n",
      "\u001b[32mComputing t-SNE 38%|██████████████                      |  ETA: 0:00:02\u001b[39m\n",
      "\u001b[32mComputing t-SNE 42%|███████████████                     |  ETA: 0:00:02\u001b[39m\n",
      "\u001b[32mComputing t-SNE 47%|█████████████████                   |  ETA: 0:00:01\u001b[39m\n",
      "\u001b[32mComputing t-SNE 51%|██████████████████                  |  ETA: 0:00:01\u001b[39m\n",
      "\u001b[32mComputing t-SNE 56%|████████████████████                |  ETA: 0:00:01\u001b[39m\n",
      "\u001b[32mComputing t-SNE 60%|██████████████████████              |  ETA: 0:00:01\u001b[39m\n",
      "\u001b[32mComputing t-SNE 65%|███████████████████████             |  ETA: 0:00:01\u001b[39m\n",
      "\u001b[32mComputing t-SNE 69%|█████████████████████████           |  ETA: 0:00:01\u001b[39m\n",
      "\u001b[32mComputing t-SNE 73%|██████████████████████████          |  ETA: 0:00:01\u001b[39m\n",
      "\u001b[32mComputing t-SNE 78%|████████████████████████████        |  ETA: 0:00:01\u001b[39m\n",
      "\u001b[32mComputing t-SNE 82%|█████████████████████████████       |  ETA: 0:00:00\u001b[39m\n",
      "\u001b[32mComputing t-SNE 86%|███████████████████████████████     |  ETA: 0:00:00\u001b[39m\n",
      "\u001b[32mComputing t-SNE 90%|█████████████████████████████████   |  ETA: 0:00:00\u001b[39m\n",
      "\u001b[32mComputing t-SNE 95%|██████████████████████████████████  |  ETA: 0:00:00\u001b[39m\n",
      "\u001b[32mComputing t-SNE100%|████████████████████████████████████|  ETA: 0:00:00\u001b[39m\n",
      "\u001b[32mComputing t-SNE100%|████████████████████████████████████| Time: 0:00:02\u001b[39m\n",
      "\u001b[34m  KL_divergence:  0.2458\u001b[39m\n"
     ]
    },
    {
     "data": {
      "text/plain": [
       "(74, 2)"
      ]
     },
     "execution_count": 30,
     "metadata": {},
     "output_type": "execute_result"
    }
   ],
   "source": [
    "Random.seed!(1234)\n",
    "x_tsne = tsne(x_latent, 2, 0, 100000, 5.0);\n",
    "size(x_tsne)"
   ]
  },
  {
   "cell_type": "markdown",
   "metadata": {},
   "source": [
    "write 2D t-SNE latent dim to file for D3 interactive viz"
   ]
  },
  {
   "cell_type": "code",
   "execution_count": 31,
   "metadata": {},
   "outputs": [],
   "source": [
    "latent_dim_file = open(\"latent_dim.csv\", \"w\")\n",
    "@printf(latent_dim_file, \"cage_image,x1,x2\\n\")\n",
    "for (c, cage) in enumerate(cages)\n",
    "    @printf(latent_dim_file, \"%s_aligned.png,%f,%f\\n\", cage, x_tsne[c, :]...)\n",
    "end\n",
    "close(latent_dim_file)"
   ]
  },
  {
   "cell_type": "code",
   "execution_count": 32,
   "metadata": {},
   "outputs": [
    {
     "data": {
      "image/png": "[encoded data removed]",
      "text/plain": [
       "PyPlot.Figure(PyObject <Figure size 700x700 with 1 Axes>)"
      ]
     },
     "metadata": {},
     "output_type": "display_data"
    }
   ],
   "source": [
    "plt.figure(figsize=(7, 7))\n",
    "plt.scatter(x_tsne[:, 1], x_tsne[:, 2], color=\"g\")\n",
    "# for i = 1:length(cages)\n",
    "#     plt.annotate(cages[i], (x_tsne[i, 1], x_tsne[i, 2]))\n",
    "# end\n",
    "texts = []\n",
    "for i = 1:length(cages)\n",
    "    push!(texts,\n",
    "        plt.annotate(cages[i], (x_tsne[i, 1], x_tsne[i, 2]))\n",
    "        )\n",
    "end\n",
    "adjustText.adjust_text(texts)\n",
    "plt.xlabel(\"latent dim. 1\")\n",
    "plt.ylabel(\"latent dim. 2\")\n",
    "plt.axis(\"equal\")\n",
    "plt.title(\"latent cage space\")\n",
    "plt.tight_layout()\n",
    "plt.savefig(\"latent_cage_space_2D.pdf\", format=\"pdf\", dpi=300)\n",
    "plt.show()"
   ]
  },
  {
   "cell_type": "markdown",
   "metadata": {},
   "source": [
    "... t-SNE to embed in 3D"
   ]
  },
  {
   "cell_type": "code",
   "execution_count": null,
   "metadata": {},
   "outputs": [],
   "source": [
    "x_tsne_3D = tsne(x_latent, 3, 0, 10000, 5.0);\n",
    "\n",
    "figure()\n",
    "scatter3D(x_tsne_3D[:, 1], x_tsne_3D[:, 2], x_tsne_3D[:, 3])\n",
    "show()"
   ]
  },
  {
   "cell_type": "markdown",
   "metadata": {},
   "source": [
    "## Correlation between latent space and cage descriptors from `pywindow`"
   ]
  },
  {
   "cell_type": "markdown",
   "metadata": {},
   "source": [
    "Crude cage size descriptors:\n",
    "\n",
    "* `molecule_diameter`: if we could stuff the cage molecule into a sphere, how big would the sphere need to be?\n",
    "* `void_diameter`: distance between center of mass of the molecule and the closest atom, corrected for appropriate vdW radii and multiplied by 2.\n",
    "\n",
    "See:\n",
    "\n",
    "> M. Miklitz, S. Jiang, R. Clowes, M. E. Briggs, A. I. Cooper and K. E. Jelfs, Computational Screening of Porous Organic Molecules for Xenon/Krypton Separation, J. Phys. Chem. C, 2017, 121, 15211–15222.\n",
    "\n",
    "We computed these from `pywindow`:\n",
    "\n",
    "> M. Miklitz, K. E. Jelfs. pywindow: Automated Structural Analysis of Molecular Pores. ChemRxiv.\n",
    "\n",
    "(checked WC3 in Table 1 for correspondence of those we computed.) See `cage_descriptors.ipynb`."
   ]
  },
  {
   "cell_type": "code",
   "execution_count": null,
   "metadata": {},
   "outputs": [],
   "source": [
    "df_descriptors = CSV.read(\"pywindow_cage_descriptors.csv\")\n",
    "head(df_descriptors)"
   ]
  },
  {
   "cell_type": "markdown",
   "metadata": {},
   "source": [
    "Put in an array with same order as `cages` for easy plotting"
   ]
  },
  {
   "cell_type": "code",
   "execution_count": null,
   "metadata": {},
   "outputs": [],
   "source": [
    "pore_diameters = zeros(length(cages))\n",
    "molecule_diameters = zeros(length(cages))\n",
    "nb_windows = zeros(Int, length(cages))\n",
    "for (i, cage) in enumerate(cages)\n",
    "    idx_this_cage = df_descriptors[:cage] .== cage\n",
    "    @assert(sum(idx_this_cage) == 1, @sprintf(\"%s not found in df_descriptors (or multiple)!\", cage))\n",
    "    pore_diameters[i] = df_descriptors[idx_this_cage, :pore_diameter_A][1]\n",
    "    molecule_diameters[i] = df_descriptors[idx_this_cage, :molecule_diameter_A][1]\n",
    "    nb_windows[i] = df_descriptors[idx_this_cage, :nb_windows][1]\n",
    "end"
   ]
  },
  {
   "cell_type": "markdown",
   "metadata": {},
   "source": [
    "Visualize distribution of descriptors among the cages."
   ]
  },
  {
   "cell_type": "code",
   "execution_count": null,
   "metadata": {},
   "outputs": [],
   "source": [
    "figure()\n",
    "plt[:hist](pore_diameters, color=\"b\", alpha=0.2, label=\"cavity\")\n",
    "plt[:hist](molecule_diameters, color=\"r\", alpha=0.2, label=\"molecule\")\n",
    "legend()\n",
    "xlabel(\"diameter (Å)\")\n",
    "ylabel(\"# cages\")\n",
    "savefig(\"pywindow_descriptors_distn.png\", format=\"png\", dpi=300)"
   ]
  },
  {
   "cell_type": "markdown",
   "metadata": {},
   "source": [
    "Visualize distribution of the number of windows"
   ]
  },
  {
   "cell_type": "code",
   "execution_count": null,
   "metadata": {},
   "outputs": [],
   "source": [
    "fig = figure()\n",
    "plt[:hist](nb_windows, bins=0:10)\n",
    "xlabel(\"# of windows into cavity\")\n",
    "ylabel(\"# of cages\")"
   ]
  },
  {
   "cell_type": "markdown",
   "metadata": {},
   "source": [
    "Assess if clustering picks on up the descriptors.\n",
    "Color according to pore diameters, make size according to molecule diameter.\n",
    "the marker size is the area, so we should make the size on the order of `molecule_diameter^2`."
   ]
  },
  {
   "cell_type": "code",
   "execution_count": null,
   "metadata": {},
   "outputs": [],
   "source": [
    "figure(figsize=(8, 7))\n",
    "scatter(x_tsne[:, 1], x_tsne[:, 2],\n",
    "    c=pore_diameters,\n",
    "    s=molecule_diameters .^ 2 / maximum(molecule_diameters .^ 2) * 35.0,\n",
    "    vmax=15.0\n",
    ")\n",
    "texts = []\n",
    "for i = 1:length(cages)\n",
    "    push!(texts,\n",
    "        annotate(cages[i], (x_tsne[i, 1], x_tsne[i, 2]))\n",
    "        )\n",
    "end\n",
    "adjustText.adjust_text(texts)\n",
    "# for i = 1:length(cages)\n",
    "#     plt.annotate(cages[i], (x_tsne[i, 1], x_tsne[i, 2]))\n",
    "# end\n",
    "cbar = colorbar(extend=\"max\", label=\"cavity diameter (Å)\")\n",
    "title(\"latent cage space\")\n",
    "xlabel(\"latent dim. 1\")\n",
    "ylabel(\"latent dim. 2\")\n",
    "axis(\"equal\")\n",
    "tight_layout()\n",
    "savefig(\"cage_space_colored_by_diams_2D.png\", format=\"png\", dpi=300)\n",
    "show()"
   ]
  },
  {
   "cell_type": "markdown",
   "metadata": {},
   "source": [
    "hypothesis that first eigencage picks up the pore size."
   ]
  },
  {
   "cell_type": "code",
   "execution_count": null,
   "metadata": {},
   "outputs": [],
   "source": [
    "fig = figure()\n",
    "scatter(pore_diameters, UΣVᵀ.U[:, 1] * UΣVᵀ.S[1], color=\"C1\")\n",
    "xlabel(\"cavity diameter (Å)\")\n",
    "ylabel(\"first component of latent representation\")\n",
    "savefig(\"first_component_captures_pore_diameter.pdf\", format=\"pdf\")"
   ]
  },
  {
   "cell_type": "markdown",
   "metadata": {},
   "source": [
    "Assess if clustering picks up on # windows "
   ]
  },
  {
   "cell_type": "code",
   "execution_count": null,
   "metadata": {},
   "outputs": [],
   "source": [
    "cmap = get_cmap(\"Pastel1\", maximum(nb_windows) - minimum(nb_windows)+1)\n",
    "\n",
    "figure(figsize=(8, 7))\n",
    "scatter(x_tsne[:, 1], x_tsne[:, 2],\n",
    "    c=nb_windows, cmap=cmap, vmin=minimum(nb_windows)-0.5, vmax=maximum(nb_windows)+0.5\n",
    ")\n",
    "texts = []\n",
    "for i = 1:length(cages)\n",
    "    push!(texts,\n",
    "        annotate(cages[i], (x_tsne[i, 1], x_tsne[i, 2]))\n",
    "        )\n",
    "end\n",
    "adjustText.adjust_text(texts)\n",
    "# for i = 1:length(cages)\n",
    "#     plt.annotate(cages[i], (x_tsne[i, 1], x_tsne[i, 2]))\n",
    "# end\n",
    "#cbar = plt.colorbar(extend=\"max\", label=\"cavity diameter (Å)\")\n",
    "title(\"latent cage space\")\n",
    "xlabel(\"latent dim. 1\")\n",
    "ylabel(\"latent dim. 2\")\n",
    "axis(\"equal\")\n",
    "colorbar(label=\"# of windows to cavity\")\n",
    "tight_layout()\n",
    "savefig(\"cage_space_colored_by_nb_windows.png\", format=\"png\", dpi=300)\n",
    "show()"
   ]
  },
  {
   "cell_type": "code",
   "execution_count": null,
   "metadata": {},
   "outputs": [],
   "source": [
    "fig = figure(figsize=(8, 7))\n",
    "ax = fig[:add_subplot](111, projection=\"3d\")\n",
    "\n",
    "ax[:scatter](x_tsne_3D[:, 1], x_tsne_3D[:, 2], x_tsne_3D[:, 3],\n",
    "    c=pore_diameters,\n",
    "    s=molecule_diameters .^ 2 / maximum(molecule_diameters .^ 2) * 35.0,\n",
    "    vmax=15.0)\n",
    "for i = 1:length(cages)\n",
    "    ax[:text](x_tsne_3D[i, 1], x_tsne_3D[i, 2], x_tsne_3D[i, 3], cages[i])\n",
    "end\n",
    "xlabel(\"latent dim. 1\")\n",
    "ylabel(\"latent dim. 2\")\n",
    "zlabel(\"latent dim. 3\")\n",
    "title(\"latent cage space\")\n",
    "tight_layout()\n",
    "savefig(\"cage_space_colored_by_diams_3D.png\", format=\"png\", dpi=300)\n",
    "show()"
   ]
  },
  {
   "cell_type": "markdown",
   "metadata": {},
   "source": [
    "### Visualize the eigen-cages\n",
    "i.e. discovered concepts, which are the rows of $\\mathbf{V}^T$."
   ]
  },
  {
   "cell_type": "code",
   "execution_count": null,
   "metadata": {},
   "outputs": [],
   "source": [
    "for concept_id = 1:ν\n",
    "    x_concept = transpose(UΣVᵀ.V)[concept_id, :] # flattened\n",
    "    x_concept = reshape(x_concept, (nb_grid_pts, nb_grid_pts, nb_grid_pts))\n",
    "\n",
    "    grid = Grid(snapshot_box, (nb_grid_pts, nb_grid_pts, nb_grid_pts), \n",
    "                reshape(x_concept, (nb_grid_pts, nb_grid_pts, nb_grid_pts)), \n",
    "                :accessibility, -center_of_box)\n",
    "\n",
    "    write_cube(grid, @sprintf(\"eigencage%d.cube\", concept_id))\n",
    "end"
   ]
  },
  {
   "cell_type": "markdown",
   "metadata": {},
   "source": [
    "### reconstruct a material as singular values are added"
   ]
  },
  {
   "cell_type": "code",
   "execution_count": null,
   "metadata": {},
   "outputs": [],
   "source": [
    "which_cage = \"B25\"\n",
    "cage_id = findfirst(cages .== which_cage)\n",
    "\n",
    "for sv = 1:14\n",
    "    # approximate matrix\n",
    "    A_ν = UΣVᵀ.U[:, 1:sv] * diagm(0 => UΣVᵀ.S[1:sv]) * transpose(UΣVᵀ.V[:, 1:sv])\n",
    "    # reconstruction\n",
    "    x = A_ν[cage_id, :] .+ average_cage\n",
    "    \n",
    "    grid = Grid(snapshot_box, (nb_grid_pts, nb_grid_pts, nb_grid_pts), \n",
    "            reshape(x, (nb_grid_pts, nb_grid_pts, nb_grid_pts)), \n",
    "            :accessibility, -center_of_box)\n",
    "\n",
    "    write_cube(grid, @sprintf(\"%s_reconstructed_%dsvs.cube\", which_cage, sv))\n",
    "end"
   ]
  },
  {
   "cell_type": "markdown",
   "metadata": {},
   "source": [
    "### Compare latent space with Henry coefficients\n",
    "From Melanie: UFF, 14 A cutoff, geometric mixing rules, 298.0 K"
   ]
  },
  {
   "cell_type": "code",
   "execution_count": null,
   "metadata": {},
   "outputs": [],
   "source": [
    "dfs = Dict{String, DataFrame}()\n",
    "for gas in [\"He\", \"Kr\", \"Xe\"]\n",
    "    dfs[gas] = CSV.read(\"henry_coefs/\" * gas * \"_cage_KH.csv\")\n",
    "end\n",
    "dfs[\"He\"]"
   ]
  },
  {
   "cell_type": "code",
   "execution_count": null,
   "metadata": {},
   "outputs": [],
   "source": [
    "df_new = DataFrame(cage=String[], KH_Xe=Float64[], KH_Kr=Float64[])\n",
    "for row in eachrow(dfs[\"Xe\"])\n",
    "    kh_he = dfs[\"He\"][dfs[\"He\"][:cage] .== row[:cage], \n",
    "        Symbol(\"KH_mol/(m³-bar)\")][1]\n",
    "    kh_kr = dfs[\"Kr\"][dfs[\"Kr\"][:cage] .== row[:cage], \n",
    "        Symbol(\"KH_mol/(m³-bar)\")][1]\n",
    "    push!(df_new, [row[:cage], row[Symbol(\"KH_mol/(m³-bar)\")] - kh_he, kh_kr - kh_he])\n",
    "end\n",
    "df_new[:Xe_Kr_selectivity] = df_new[:KH_Xe] ./ df_new[:KH_Kr]\n",
    "head(df_new)"
   ]
  },
  {
   "cell_type": "code",
   "execution_count": null,
   "metadata": {},
   "outputs": [],
   "source": [
    "S_Xe_kr = [df_new[df_new[:cage] .== cage * \"_aligned.cif\", \n",
    "        :Xe_Kr_selectivity][1] for cage in cages][:]"
   ]
  },
  {
   "cell_type": "code",
   "execution_count": null,
   "metadata": {},
   "outputs": [],
   "source": [
    "figure(figsize=(8, 7))\n",
    "scatter(x_tsne[:, 1], x_tsne[:, 2],\n",
    "    s=35,\n",
    "    c=S_Xe_kr,\n",
    "    norm=PyPlot.matplotlib[:colors][:LogNorm](),\n",
    "    cmap=\"plasma\"\n",
    ")\n",
    "texts = []\n",
    "for i = 1:length(cages)\n",
    "    push!(texts,\n",
    "        annotate(cages[i], (x_tsne[i, 1], x_tsne[i, 2]))\n",
    "        )\n",
    "end\n",
    "adjustText.adjust_text(texts)\n",
    "# for i = 1:length(cages)\n",
    "#     plt.annotate(cages[i], (x_tsne[i, 1], x_tsne[i, 2]))\n",
    "# end\n",
    "cbar = colorbar(extend=\"max\", label=\"simulated Xe/Kr selectivity\")\n",
    "title(\"latent cage space\")\n",
    "xlabel(\"latent dim. 1\")\n",
    "ylabel(\"latent dim. 2\")\n",
    "axis(\"equal\")\n",
    "tight_layout()\n",
    "savefig(\"cage_space_colored_by_S_Xe_Kr.png\", format=\"png\", dpi=300)\n",
    "show()"
   ]
  },
  {
   "cell_type": "markdown",
   "metadata": {},
   "source": [
    "Compare Henry coefficients to experimental data for noria and CC3\n",
    "\n",
    "Noria data from: 10.1002/chem.201602131\n",
    "CC3 data from: Fig 2c of DOI 10.1038/nmat4035 (plot digitized, sorry for noise; it is on a log scale)"
   ]
  },
  {
   "cell_type": "code",
   "execution_count": null,
   "metadata": {},
   "outputs": [],
   "source": [
    "df_expt = Dict(\"noria\" => Dict(\"Xe\" => CSV.read(\"noria/Xe_expt_298K.csv\"),\n",
    "                               \"Kr\" => CSV.read(\"noria/Kr_expt_298K.csv\")\n",
    "                               ),\n",
    "               \"CC3\"   => Dict(\"Xe\" => CSV.read(\"cc3/Xe_expt_298K.csv\"),\n",
    "                               \"Kr\" => CSV.read(\"cc3/Kr_expt_298K.csv\")\n",
    "                               )\n",
    "               )"
   ]
  },
  {
   "cell_type": "code",
   "execution_count": null,
   "metadata": {},
   "outputs": [],
   "source": [
    "gas_colorz = Dict(\"Xe\" => \"C1\", \"Kr\" => \"C2\")\n",
    "markerz = Dict(\"Xe\" => \"s\", \"Kr\" => \"s\")\n",
    "xtal_name = Dict(\"noria\" => \"NC2_aligned.cif\", \"CC3\" => \"CC3_aligned.cif\")\n",
    "\n",
    "for cage in [\"noria\", \"CC3\"]\n",
    "    fig = figure()\n",
    "    xlabel(\"pressure (bar)\")\n",
    "    ylabel(\"gas uptake (mmol/g)\")\n",
    "    \n",
    "    P = collect(range(0, stop=1, length=50))\n",
    "    KH_He =  dfs[\"He\"][dfs[\"He\"][:cage] .== xtal_name[cage], Symbol(\"KH_mmol/(g-bar)\")][1]\n",
    "    for gas in [\"Xe\", \"Kr\"]\n",
    "        # plot experimental data\n",
    "        if cage == \"noria\"\n",
    "            df_expt[cage][gas][Symbol(\"P(bar)\")] = df_expt[cage][gas][Symbol(\"P(torr)\")] * 0.00133322\n",
    "        end\n",
    "        scatter(df_expt[cage][gas][Symbol(\"P(bar)\")], \n",
    "                    df_expt[cage][gas][Symbol(\"L(mmol/g)\")], label=gas,\n",
    "                    color=gas_colorz[gas], marker=markerz[gas])\n",
    "        \n",
    "        # grab simulated henry coeff and plot resulting henry's law\n",
    "        KH =  dfs[gas][dfs[gas][:cage] .== xtal_name[cage], Symbol(\"KH_mmol/(g-bar)\")][1]\n",
    "        nH = (KH - KH_He) * P\n",
    "        idx_keep = nH .< 1.0\n",
    "        plot(P[idx_keep], nH[idx_keep], color=gas_colorz[gas])\n",
    "    end\n",
    "    title(cage)\n",
    "    legend()\n",
    "    tight_layout()\n",
    "    savefig(cage * \"_expt_sim_comparison.png\", format=\"png\")\n",
    "end"
   ]
  },
  {
   "cell_type": "markdown",
   "metadata": {},
   "source": [
    "## A walk through latent space"
   ]
  },
  {
   "cell_type": "code",
   "execution_count": null,
   "metadata": {},
   "outputs": [],
   "source": [
    "cage_i = \"DC1\"\n",
    "cage_j = \"CC9\"\n",
    "\n",
    "idx_i = findfirst(cages[:] .== cage_i)\n",
    "idx_j = findfirst(cages[:] .== cage_j)\n",
    "\n",
    "x_latent_i = (UΣVᵀ.U[:, 1:ν] * diagm(0 => UΣVᵀ.S[1:ν]))[idx_i, :]\n",
    "x_latent_j = (UΣVᵀ.U[:, 1:ν] * diagm(0 => UΣVᵀ.S[1:ν]))[idx_j, :]\n",
    "# c is interpreting parameter\n",
    "for c in 0.0:0.2:1.0\n",
    "    x_latent_fictitious = c * x_latent_i + (1 - c) * x_latent_j\n",
    "    x_fictitious = x_latent_fictitious' * UΣVᵀ.V[:, 1:ν]'\n",
    "    x_fictitious = x_fictitious' # back to column vector\n",
    "    # add average cage\n",
    "    x_fictitious = x_fictitious + average_cage\n",
    "    grid = Grid(snapshot_box, (nb_grid_pts, nb_grid_pts, nb_grid_pts), \n",
    "               reshape(x_fictitious, (nb_grid_pts, nb_grid_pts, nb_grid_pts)),\n",
    "               :accessibility, -center_of_box)\n",
    "    write_cube(grid, @sprintf(\"%s_%s_interpolation_c_%.2f.cube\", cage_i, cage_j, c))\n",
    "end"
   ]
  },
  {
   "cell_type": "markdown",
   "metadata": {},
   "source": [
    "## Radar plots \n",
    "(cool was to visualize a high-dimensional representation but not used in the paper)"
   ]
  },
  {
   "cell_type": "code",
   "execution_count": null,
   "metadata": {},
   "outputs": [],
   "source": [
    "function draw_radar_plot(x::Array{Float64, 1})\n",
    "    n_dims = length(x)\n",
    "    angles = range(0, stop = 2 * π, length = n_dims + 1)[1:end-1]\n",
    "    # make periodic\n",
    "    x = vcat(x, [x[1]])\n",
    "    angles = vcat(angles, [angles[1]])\n",
    "    labels = [\"c$i\" for i = 1:n_dims]\n",
    "    \n",
    "    fig = figure()\n",
    "    ax = fig[:add_subplot](111, polar=true)\n",
    "    ax[:grid](true)\n",
    "    ax[:set_thetagrids](angles * 180.0 / π, labels)  # Set the label for each axis\n",
    "    ax[:plot](angles, x, \"-o\", linewidth=2)  # Draw the plot (or the frame on the radar chart)\n",
    "    ax[:fill](angles, x, alpha=0.25)  #Fulfill the area\n",
    "end\n",
    "\n",
    "function draw_radar_plot(x::Array{Float64, 2})\n",
    "    n_dims = size(x)[2]\n",
    "    angles = range(0, stop = 2 * π, length = n_dims + 1)[1:end-1]\n",
    "    # make periodic\n",
    "    angles = vcat(angles, [angles[1]])\n",
    "    labels = [\"c$i\" for i = 1:n_dims]\n",
    "    \n",
    "    fig = figure()\n",
    "    ax = fig[:add_subplot](111, polar=true)\n",
    "    ax[:grid](true)\n",
    "    ax[:set_thetagrids](angles * 180.0 / π, labels)  # Set the label for each axis\n",
    "    for i = 1:size(x)[1]\n",
    "        x_viz = vcat(x[i, :], [x[i, 1]])\n",
    "        ax[:plot](angles, x_viz, \"-o\", linewidth=0.5)  # Draw the plot (or the frame on the radar chart)\n",
    "        # ax[:fill](angles, x_viz, alpha=0.25)  #Fulfill the area\n",
    "    end\n",
    "    @warn \"think this might beed to be transpose\"\n",
    "end\n",
    "\n",
    "draw_radar_plot(x_latent[1, 1:5])\n",
    "draw_radar_plot(x_latent[1, :])\n",
    "draw_radar_plot(x_latent)\n",
    "#ax.set_rlim(0,250)"
   ]
  },
  {
   "cell_type": "code",
   "execution_count": null,
   "metadata": {},
   "outputs": [],
   "source": []
  }
 ],
 "metadata": {
  "kernelspec": {
   "display_name": "Julia 1.0.1",
   "language": "julia",
   "name": "julia-1.0"
  },
  "language_info": {
   "file_extension": ".jl",
   "mimetype": "application/julia",
   "name": "julia",
   "version": "1.0.1"
  }
 },
 "nbformat": 4,
 "nbformat_minor": 2
}
