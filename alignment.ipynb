{
 "cells": [
  {
   "cell_type": "code",
   "execution_count": null,
   "metadata": {},
   "outputs": [],
   "source": [
    "using PorousMaterials # Pkg.clone(\"https://github.com/SimonEnsemble/PorousMaterials.jl\", \"v0.1.1\")\n",
    "using DelimitedFiles\n",
    "using LinearAlgebra\n",
    "using JLD2\n",
    "using CoherentPointDrift\n",
    "import Bio3DView"
   ]
  },
  {
   "cell_type": "markdown",
   "metadata": {},
   "source": [
    "# Database of cages\n",
    "\n",
    "Cage database CDB41 (41 cages) from [here](https://github.com/marcinmiklitz/CDB41). Cleaned of solvent. Thanks to Kim Jelfs and M. Miklitz for kindly providing the cages.\n",
    "\n",
    "Reference:\n",
    "> M. Miklitz, S. Jiang, R. Clowes, M. E. Briggs, A. I. Cooper and K. E. Jelfs, Computational Screening of Porous Organic Molecules for Xenon/Krypton Separation, J. Phys. Chem. C, 2017. DOI: 10.1021/acs.jpcc.7b03848\n",
    "\n",
    "Other set of 33 cages from the .xyz files deposited as ESI of DOI 10.1038/s41467-018-05271-9\n",
    "\n",
    "> R. L. Greenaway, V. Santolini, M. J. Bennison, B. M. Alston, C. J. Pugh, M. A. Little, M. Miklitz, E. G. B. Eden-Rump, R. Clowes, A. Shakil, H. J. Cuthbertson, H. Armstrong, M. E. Briggs, K. E. Jelfs & A. I. Cooper. High-throughput discovery of organic cages and catenanes using computational screening fused with robotic synthesis. Nature Communications, 2018. DOI: 10.1038/s41467-018-05271-9\n",
    "                                                              \n",
    "I manually looked at Fig 4 in the main text and selected those that were synthesized. Some cages required visualization to compare to Fig 4 since e.g. there are multiple versions of B23, a few of which were apparently not synthesized but only computational predictions.\n",
    "\n",
    "The `.xyz` files describing the molecular structure of all of these cages are in the directory `all_cages`."
   ]
  },
  {
   "cell_type": "code",
   "execution_count": 3,
   "metadata": {},
   "outputs": [],
   "source": [
    "cages = readdlm(\"all_cages/all_cages.txt\", String)[:];"
   ]
  },
  {
   "cell_type": "markdown",
   "metadata": {},
   "source": [
    "# Center cages\n",
    "\n",
    "The center of mass will be set to be the origin.\n",
    "Each cage will be rotated such that it is aligned with its principle moments of inertia.\n",
    "i.e. the moment of inertia matrix of an \"aligned\" cage is diagonal.\n",
    "\n",
    "\n",
    "First, a function to compute the center of mass of a group of `atoms` at Cartesian coordinates `x`, stored in the columns."
   ]
  },
  {
   "cell_type": "code",
   "execution_count": 4,
   "metadata": {},
   "outputs": [
    {
     "data": {
      "text/plain": [
       "center_of_mass (generic function with 1 method)"
      ]
     },
     "execution_count": 4,
     "metadata": {},
     "output_type": "execute_result"
    }
   ],
   "source": [
    "function center_of_mass(atoms::Array{Symbol, 1}, x::Array{Float64, 2})\n",
    "    ams = read_atomic_masses()\n",
    "    com = [0.0, 0.0, 0.0]\n",
    "    total_mass = 0.0\n",
    "    for (i, atom) in enumerate(atoms)\n",
    "        com += ams[atom] * x[:, i]\n",
    "        total_mass += ams[atom]\n",
    "    end\n",
    "    return com / total_mass\n",
    "end"
   ]
  },
  {
   "cell_type": "code",
   "execution_count": 5,
   "metadata": {},
   "outputs": [
    {
     "data": {
      "text/plain": [
       "centered_cage_coords (generic function with 1 method)"
      ]
     },
     "execution_count": 5,
     "metadata": {},
     "output_type": "execute_result"
    }
   ],
   "source": [
    "function centered_cage_coords(cage::AbstractString)\n",
    "    # read in raw .xyz from `all_cages`\n",
    "    atoms, x = read_xyz(\"all_cages/\" * cage * \".xyz\")\n",
    "    \n",
    "    # compute center of mass\n",
    "    x_com = center_of_mass(atoms, x)\n",
    "    \n",
    "    # shift coords so that cage is centered\n",
    "    x = x .- x_com\n",
    "    \n",
    "    # write centered cage coords\n",
    "    write_xyz(atoms, x, \"centered_cages/\" * cage * \".xyz\")\n",
    "    \n",
    "    return atoms, x\n",
    "end"
   ]
  },
  {
   "cell_type": "markdown",
   "metadata": {},
   "source": [
    "# Porosity point clouds"
   ]
  },
  {
   "cell_type": "code",
   "execution_count": 6,
   "metadata": {},
   "outputs": [
    {
     "data": {
      "text/plain": [
       "3×5000 Array{Float64,2}:\n",
       " -1.52856   0.548317  -2.80718  -0.618359  …  -0.638938  -3.91158   1.50711\n",
       "  2.17832  -2.14988   -3.82797   1.68525      -0.316719  -5.42064   1.1806 \n",
       " -1.41596  -1.56452    4.2871    1.26862       0.764409   4.01625  -1.71362"
      ]
     },
     "execution_count": 6,
     "metadata": {},
     "output_type": "execute_result"
    }
   ],
   "source": [
    "function generate_porosity_point_cloud(atoms::Array{Symbol, 1}, x::Array{Float64, 2}, \n",
    "                                       nb_pts_in_porosity_cloud::Int, snapshot_radius::Union{Nothing, Float64})\n",
    "    # store points in void space here.\n",
    "    x_porosity_cloud = zeros(3, nb_pts_in_porosity_cloud)\n",
    "\n",
    "    # determine if void space via potential energy of He\n",
    "    he = Molecule(\"He\")\n",
    "    ljff = LJForceField(\"UFF.csv\", cutoffradius=14.0, mixing_rules=\"geometric\")\n",
    "    ljspheres = Atoms(atoms, x)\n",
    "\n",
    "    # compute radius of the molecule; this determines variance of Gaussian if snapshot size not provided\n",
    "    if snapshot_radius == nothing\n",
    "        snapshot_radius = maximum([norm(x[:, a]) for a = 1:length(atoms)])\n",
    "    end\n",
    "    \n",
    "    n_hits = 0\n",
    "    while n_hits < nb_pts_in_porosity_cloud\n",
    "        # bias insertions towards center\n",
    "        x_insert = randn(3) * snapshot_radius / 3 # scale smaller to bias describing core more.\n",
    "        if norm(x_insert) > snapshot_radius\n",
    "            continue\n",
    "        end\n",
    "\n",
    "        # put helium at this grid pt\n",
    "        translate_to!(he, x_insert)\n",
    "\n",
    "        # compute potential energy of He adsorbate here\n",
    "        energy = vdw_energy_no_PBC(he, ljspheres, ljff)\n",
    "\n",
    "        if energy < 298.0\n",
    "            n_hits += 1\n",
    "            x_porosity_cloud[:, n_hits] = x_insert\n",
    "        end\n",
    "    end\n",
    "    \n",
    "    return x_porosity_cloud\n",
    "end\n",
    "\n",
    "atoms, x = centered_cage_coords(\"B13\")\n",
    "generate_porosity_point_cloud(atoms, x, 5000, nothing)"
   ]
  },
  {
   "cell_type": "markdown",
   "metadata": {},
   "source": [
    "# Rotate to align principal axes of rotation with Cartesian axes"
   ]
  },
  {
   "cell_type": "markdown",
   "metadata": {},
   "source": [
    "Next, a function to compute the moment of inertia matrix of a group of `atoms` at Cartesian positions `x`. \n",
    "\n",
    "See <a href=\"https://chem.libretexts.org/Textbook_Maps/Physical_and_Theoretical_Chemistry_Textbook_Maps/Map%3A_Physical_Chemistry_(McQuarrie_and_Simon)/13%3A_Molecular_Spectroscopy/13-08._The_Rotational_Spectrum_of_a_Polyatomic_Molecule_Depends_Upon_the_Principal_Moments_of_Inertia_of_the_Molecule\">Chemistry Libre Texts</a> moment of inertia formulas."
   ]
  },
  {
   "cell_type": "code",
   "execution_count": 7,
   "metadata": {},
   "outputs": [
    {
     "data": {
      "text/plain": [
       "moment_of_inertia (generic function with 1 method)"
      ]
     },
     "execution_count": 7,
     "metadata": {},
     "output_type": "execute_result"
    }
   ],
   "source": [
    "function moment_of_inertia(x::Array{Float64, 2})\n",
    "    # moment of inertia matrix `mi`\n",
    "    mi = zeros(Float64, 3, 3)\n",
    "    for i = 1:3\n",
    "        for j = 1:3\n",
    "            for a = 1:size(x)[2]\n",
    "                if i == j\n",
    "                    ids = collect(setdiff(Set([1, 2, 3]), Set([i])))\n",
    "                    mi[i, j] += sum(x[ids, a] .^ 2)\n",
    "                else\n",
    "                    mi[i, j] -= x[i, a] * x[j, a]\n",
    "                end\n",
    "            end\n",
    "        end\n",
    "    end\n",
    "    \n",
    "    # should be symmetric!\n",
    "    @assert isapprox(mi, mi')\n",
    "        \n",
    "    return mi\n",
    "end"
   ]
  },
  {
   "cell_type": "code",
   "execution_count": 8,
   "metadata": {},
   "outputs": [
    {
     "data": {
      "text/plain": [
       "viewcage (generic function with 1 method)"
      ]
     },
     "execution_count": 8,
     "metadata": {},
     "output_type": "execute_result"
    }
   ],
   "source": [
    "viewcage(cage::AbstractString) = Bio3DView.viewfile(\"final_aligned_cages/\" * cage * \".xyz\", \"xyz\")"
   ]
  },
  {
   "cell_type": "code",
   "execution_count": 9,
   "metadata": {},
   "outputs": [
    {
     "data": {
      "text/plain": [
       "read_final_aligned_cage (generic function with 1 method)"
      ]
     },
     "execution_count": 9,
     "metadata": {},
     "output_type": "execute_result"
    }
   ],
   "source": [
    "write_final_aligned_cage(atoms::Array{Symbol, 1}, x::Array{Float64, 2}, cage::AbstractString) = write_xyz(atoms, x, \"final_aligned_cages/\" * cage * \".xyz\")\n",
    "read_final_aligned_cage(cage::AbstractString) = read_xyz(atoms, x, \"final_aligned_cages/\" * cage * \".xyz\")"
   ]
  },
  {
   "cell_type": "code",
   "execution_count": 11,
   "metadata": {},
   "outputs": [
    {
     "name": "stdout",
     "output_type": "stream",
     "text": [
      "\u001b[31mA11 has nearly degenerate axes of inertia\u001b[39m\n",
      "\u001b[31mB11 has nearly degenerate axes of inertia\u001b[39m\n",
      "\u001b[32mB13 has unique axes of inertia\u001b[39m\n",
      "\u001b[31mB15 has nearly degenerate axes of inertia\u001b[39m\n",
      "\u001b[31mB18 has nearly degenerate axes of inertia\u001b[39m\n",
      "\u001b[31mB1 has nearly degenerate axes of inertia\u001b[39m\n",
      "\u001b[31mB23 has nearly degenerate axes of inertia\u001b[39m\n",
      "\u001b[31mB24 has nearly degenerate axes of inertia\u001b[39m\n",
      "\u001b[31mB25 has nearly degenerate axes of inertia\u001b[39m\n",
      "\u001b[31mB26 has nearly degenerate axes of inertia\u001b[39m\n",
      "\u001b[31mB2 has nearly degenerate axes of inertia\u001b[39m\n",
      "\u001b[31mB4 has nearly degenerate axes of inertia\u001b[39m\n",
      "\u001b[31mB5 has nearly degenerate axes of inertia\u001b[39m\n",
      "\u001b[31mB6 has nearly degenerate axes of inertia\u001b[39m\n",
      "\u001b[31mB8 has nearly degenerate axes of inertia\u001b[39m\n",
      "\u001b[31mB9 has nearly degenerate axes of inertia\u001b[39m\n",
      "\u001b[31mC11 has nearly degenerate axes of inertia\u001b[39m\n",
      "\u001b[32mC13 has unique axes of inertia\u001b[39m\n",
      "\u001b[31mC15 has nearly degenerate axes of inertia\u001b[39m\n",
      "\u001b[32mC18 has unique axes of inertia\u001b[39m\n",
      "\u001b[32mC1 has unique axes of inertia\u001b[39m\n",
      "\u001b[31mC20 has nearly degenerate axes of inertia\u001b[39m\n",
      "\u001b[31mC21 has nearly degenerate axes of inertia\u001b[39m\n",
      "\u001b[31mC23 has nearly degenerate axes of inertia\u001b[39m\n",
      "\u001b[31mC24 has nearly degenerate axes of inertia\u001b[39m\n",
      "\u001b[31mC25 has nearly degenerate axes of inertia\u001b[39m\n",
      "\u001b[31mC26 has nearly degenerate axes of inertia\u001b[39m\n",
      "\u001b[32mC2 has unique axes of inertia\u001b[39m\n",
      "\u001b[31mC4 has nearly degenerate axes of inertia\u001b[39m\n",
      "\u001b[31mC5 has nearly degenerate axes of inertia\u001b[39m\n",
      "\u001b[31mC6 has nearly degenerate axes of inertia\u001b[39m\n",
      "\u001b[31mC8 has nearly degenerate axes of inertia\u001b[39m\n",
      "\u001b[31mC9 has nearly degenerate axes of inertia\u001b[39m\n",
      "\u001b[32mCB5 has unique axes of inertia\u001b[39m\n",
      "\u001b[32mCB6 has unique axes of inertia\u001b[39m\n",
      "\u001b[32mCB7 has unique axes of inertia\u001b[39m\n",
      "\u001b[31mCC10 has nearly degenerate axes of inertia\u001b[39m\n",
      "\u001b[31mCC1 has nearly degenerate axes of inertia\u001b[39m\n",
      "\u001b[31mCC2 has nearly degenerate axes of inertia\u001b[39m\n",
      "\u001b[31mCC3 has nearly degenerate axes of inertia\u001b[39m\n",
      "\u001b[31mCC4 has nearly degenerate axes of inertia\u001b[39m\n",
      "\u001b[31mCC5 has nearly degenerate axes of inertia\u001b[39m\n",
      "\u001b[31mCC9 has nearly degenerate axes of inertia\u001b[39m\n",
      "\u001b[32mCD1 has unique axes of inertia\u001b[39m\n",
      "\u001b[31mCD2 has nearly degenerate axes of inertia\u001b[39m\n",
      "\u001b[32mCD3 has unique axes of inertia\u001b[39m\n",
      "\u001b[32mCP1 has unique axes of inertia\u001b[39m\n",
      "\u001b[32mCP3 has unique axes of inertia\u001b[39m\n",
      "\u001b[32mCP4 has unique axes of inertia\u001b[39m\n",
      "\u001b[32mCP5 has unique axes of inertia\u001b[39m\n",
      "\u001b[32mDC1 has unique axes of inertia\u001b[39m\n",
      "\u001b[31mGC1 has nearly degenerate axes of inertia\u001b[39m\n",
      "\u001b[32mHC1 has unique axes of inertia\u001b[39m\n",
      "\u001b[31mIC1 has nearly degenerate axes of inertia\u001b[39m\n",
      "\u001b[32mIC2 has unique axes of inertia\u001b[39m\n",
      "\u001b[31mMC1 has nearly degenerate axes of inertia\u001b[39m\n",
      "\u001b[31mMC2 has nearly degenerate axes of inertia\u001b[39m\n",
      "\u001b[32mMC3 has unique axes of inertia\u001b[39m\n",
      "\u001b[32mMC4 has unique axes of inertia\u001b[39m\n",
      "\u001b[31mMC5 has nearly degenerate axes of inertia\u001b[39m\n",
      "\u001b[31mMC6 has nearly degenerate axes of inertia\u001b[39m\n",
      "\u001b[31mMC7 has nearly degenerate axes of inertia\u001b[39m\n",
      "\u001b[32mNC1 has unique axes of inertia\u001b[39m\n",
      "\u001b[32mNC2 has unique axes of inertia\u001b[39m\n",
      "\u001b[31mRCC1a has nearly degenerate axes of inertia\u001b[39m\n",
      "\u001b[31mRCC1b has nearly degenerate axes of inertia\u001b[39m\n",
      "\u001b[32mRCC1c has unique axes of inertia\u001b[39m\n",
      "\u001b[31mRCC1d has nearly degenerate axes of inertia\u001b[39m\n",
      "\u001b[32mRCC3a has unique axes of inertia\u001b[39m\n",
      "\u001b[31mRCC3b has nearly degenerate axes of inertia\u001b[39m\n",
      "\u001b[31mWC1 has nearly degenerate axes of inertia\u001b[39m\n",
      "\u001b[32mWC2 has unique axes of inertia\u001b[39m\n",
      "\u001b[32mWC3 has unique axes of inertia\u001b[39m\n",
      "\u001b[32mWC4 has unique axes of inertia\u001b[39m\n"
     ]
    }
   ],
   "source": [
    "nb_pts_in_pt_cloud = 50000\n",
    "\n",
    "aligned = Dict(cage => false for cage in cages)\n",
    "\n",
    "for cage in cages\n",
    "    # read in centered cage\n",
    "    atoms, x = centered_cage_coords(cage)\n",
    "    \n",
    "    # generate porosity point cloud\n",
    "    x_pt_cloud = generate_porosity_point_cloud(atoms, x, nb_pts_in_pt_cloud, nothing) # use radius of molecule for this.\n",
    "    write_xyz([:H for i = 1:nb_pts_in_pt_cloud], x_pt_cloud, \"centered_cages/porosity_point_clouds/\" * cage * \".xyz\")\n",
    "    \n",
    "    # diagnomize moment of inertia matrix\n",
    "    mi = moment_of_inertia(x_pt_cloud)\n",
    "    λ, v = eigen(mi) # columns of v are eigenvalues\n",
    "    ids = sortperm(λ, rev=true) # sort eigenvalues from large to small.\n",
    "    λ = λ[ids]\n",
    "    v = v[:, ids]\n",
    "    # tests out of paranoia\n",
    "    @assert(isapprox(mi * v, v * diagm(0 => λ)), \"eigenvectors not right\")\n",
    "    @assert(isapprox([norm(v[:, i]) for i = 1:3], ones(3)), \"eigenvectors not unit vectors\")\n",
    "    @assert(isapprox(mi, v * diagm(0 => λ) * v'))\n",
    "    # `v` is a rotation matrix b/c `mi` is symmetric and the columns are orthonormal\n",
    "    # i.e. `v` is a unitary matrix. now use it to rotate x to align with principle axes of rotation\n",
    "    @assert(isapprox(v' * v, Diagonal{Float64}(I, 3)), \"v is not unitary...\")\n",
    "    @assert (λ[1] >= λ[2]) & (λ[2] >= λ[3])\n",
    "    \n",
    "    # align principal axes of rotation of the cage with the Cartesian axes\n",
    "    write_xyz(atoms, v' * x, \"rotational_inertia_aligned_cages/\" * cage * \".xyz\")\n",
    "    \n",
    "    # look for degeneracy\n",
    "    cage_radius = maximum([norm(x[:, a]) for a = 1:size(x)[2]])\n",
    "    xy_symmetry = isapprox(λ[1], λ[2], rtol=0.01) # can use rtol b/c fixed # pts now.\n",
    "    yz_symmetry = isapprox(λ[2], λ[3], rtol=0.01)\n",
    "    if xy_symmetry || yz_symmetry\n",
    "        printstyled(cage * \" has nearly degenerate axes of inertia\\n\", color=:red)\n",
    "    else\n",
    "        aligned[cage] = true\n",
    "        write_final_aligned_cage(atoms, v' * x, cage)\n",
    "        printstyled(cage * \" has unique axes of inertia\\n\", color=:green)\n",
    "    end\n",
    "end"
   ]
  },
  {
   "cell_type": "markdown",
   "metadata": {},
   "source": [
    "# Rigid point set registration to align cages consistently where moments of inertia about principal axes are nearly degenerate"
   ]
  },
  {
   "cell_type": "markdown",
   "metadata": {},
   "source": [
    "Write porosity point clouds of rotational-inertia-aligned cages for further alignment where principal axes are nearly dgenerate. Store in `porosity_point_clouds`."
   ]
  },
  {
   "cell_type": "code",
   "execution_count": 12,
   "metadata": {},
   "outputs": [],
   "source": [
    "nb_pts_in_pt_cloud = 10000\n",
    "\n",
    "porosity_point_clouds = Dict{AbstractString, Array{Float64, 2}}()\n",
    "\n",
    "# use same dist'n of points for this one to compare cages easily\n",
    "for cage in cages\n",
    "    atoms, x = read_xyz(\"rotational_inertia_aligned_cages/\" * cage * \".xyz\")\n",
    "    porosity_point_clouds[cage] = generate_porosity_point_cloud(atoms, x, nb_pts_in_pt_cloud, nothing)\n",
    "    write_xyz([:H for i = 1:nb_pts_in_pt_cloud], porosity_point_clouds[cage], \n",
    "        \"rotational_inertia_aligned_cages/porosity_point_clouds/\" * cage * \".xyz\")\n",
    "end"
   ]
  },
  {
   "cell_type": "code",
   "execution_count": null,
   "metadata": {},
   "outputs": [],
   "source": [
    "# goal: transform y to best match one of the xs.\n",
    "function find_best_cage_to_align_to(y::Array{Float64, 2},\n",
    "                                    xs::Array{Array{Float64, 2}, 1};\n",
    "                                    cage_names::Array{String, 1}=String[])\n",
    "    nb_queries = length(xs)\n",
    "\n",
    "    ℓ = [Inf for i = 1:nb_queries]\n",
    "    \n",
    "    # loop thru all queries, see which is best aligned\n",
    "    for (i, x) in enumerate(xs)\n",
    "        if length(cage_names) > 0 \n",
    "            println(cage_names[i])\n",
    "        end\n",
    "        if size(x) == size(y) && isapprox(x, y)\n",
    "            error(\"cage == ref cage...\")\n",
    "        end\n",
    "        \n",
    "        # transformation is applied not to reference cage but the unaligned cage!\n",
    "        R, t, σ², ℓ[i] = CoherentPointDrift.rigid_point_set_registration(x, y, verbose=false,\n",
    "            w=0.0, σ²_tol=0.1, q_tol=1.0, max_nb_em_steps=25, print_ending=false)\n",
    "    end\n",
    "    # which cage had the best alignment?\n",
    "    return argmin(ℓ)\n",
    "end"
   ]
  },
  {
   "cell_type": "code",
   "execution_count": null,
   "metadata": {},
   "outputs": [],
   "source": [
    "\n",
    "for cage in cages\n",
    "    # if cage aligned uniquely with axes of inertia, carry on to the next cage.\n",
    "    if aligned[cage]\n",
    "        printstyled(cage * \" aligned via principal axes of inertia\\n\", color=:yellow)\n",
    "        continue\n",
    "    end\n",
    "    \n",
    "    # cage is unaligned. find best to align to among already-aligned cages\n",
    "    printstyled(\"Aligning \" * cage * \" to ...\", color=:green)\n",
    "\n",
    "    aligned_cages = cages[[aligned[cage] for cage in cages]]\n",
    "    # get their porosity point clouds\n",
    "    xs = [porosity_point_clouds[cage] for cage in aligned_cages]\n",
    "    # y is this cage's point cloud\n",
    "    y = porosity_point_clouds[cage]\n",
    "    # find best cage to align to\n",
    "    i_align_to = find_best_cage_to_align_to(y, xs)# , cage_names=aligned_cages)\n",
    "    align_to = aligned_cages[i_align_to]\n",
    "    printstyled(align_to * \"\\n\", color=:red)\n",
    "    println(\"\\tCoherent point drift params: \")\n",
    "    \n",
    "    R, t, σ², ℓ = CoherentPointDrift.rigid_point_set_registration(xs[i_align_to], y, verbose=false,\n",
    "            w=0.0, σ²_tol=0.1, q_tol=1.0, max_nb_em_steps=25, print_ending=true)\n",
    "    \n",
    "    atoms, y = centered_cage_coords(cage)\n",
    "    write_final_aligned_cage(atoms, R * y, cage)\n",
    "    aligned[cage] = true\n",
    "end"
   ]
  },
  {
   "cell_type": "code",
   "execution_count": null,
   "metadata": {},
   "outputs": [],
   "source": [
    "x = generate_porosity_point_cloud(\"CC3\", 50000, 20.0)\n",
    "y = generate_porosity_point_cloud(\"NC2\", 5000, nothing)"
   ]
  }
 ],
 "metadata": {
  "kernelspec": {
   "display_name": "Julia 1.0.1",
   "language": "julia",
   "name": "julia-1.0"
  },
  "language_info": {
   "file_extension": ".jl",
   "mimetype": "application/julia",
   "name": "julia",
   "version": "1.0.1"
  }
 },
 "nbformat": 4,
 "nbformat_minor": 2
}
