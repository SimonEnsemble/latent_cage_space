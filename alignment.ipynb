{
 "cells": [
  {
   "cell_type": "code",
   "execution_count": 1,
   "metadata": {},
   "outputs": [
    {
     "name": "stderr",
     "output_type": "stream",
     "text": [
      "┌ Info: Recompiling stale cache file /home/simoncor/.julia/compiled/v1.0/CoherentPointDrift/5euOV.ji for CoherentPointDrift [f2ea4a43-f43b-53f6-b5b7-a2d2ad69993e]\n",
      "└ @ Base loading.jl:1187\n",
      "┌ Warning: Package CoherentPointDrift does not have Printf in its dependencies:\n",
      "│ - If you have CoherentPointDrift checked out for development and have\n",
      "│   added Printf as a dependency but haven't updated your primary\n",
      "│   environment's manifest file, try `Pkg.resolve()`.\n",
      "│ - Otherwise you may need to report an issue with CoherentPointDrift\n",
      "└ Loading Printf into CoherentPointDrift from project dependency, future warnings for CoherentPointDrift are suppressed.\n"
     ]
    }
   ],
   "source": [
    "using PorousMaterials # Pkg.clone(\"https://github.com/SimonEnsemble/PorousMaterials.jl\", \"v0.1.1\")\n",
    "using DelimitedFiles\n",
    "using LinearAlgebra\n",
    "using JLD2\n",
    "using CoherentPointDrift\n",
    "using Bio3DView"
   ]
  },
  {
   "cell_type": "markdown",
   "metadata": {},
   "source": [
    "# Database of cages\n",
    "\n",
    "Cage database CDB41 (41 cages) from [here](https://github.com/marcinmiklitz/CDB41). Cleaned of solvent. Thanks to Kim Jelfs and M. Miklitz for kindly providing the cages.\n",
    "\n",
    "Reference:\n",
    "> M. Miklitz, S. Jiang, R. Clowes, M. E. Briggs, A. I. Cooper and K. E. Jelfs, Computational Screening of Porous Organic Molecules for Xenon/Krypton Separation, J. Phys. Chem. C, 2017. DOI: 10.1021/acs.jpcc.7b03848\n",
    "\n",
    "Other set of 33 cages from the .xyz files deposited as ESI of DOI 10.1038/s41467-018-05271-9\n",
    "\n",
    "> R. L. Greenaway, V. Santolini, M. J. Bennison, B. M. Alston, C. J. Pugh, M. A. Little, M. Miklitz, E. G. B. Eden-Rump, R. Clowes, A. Shakil, H. J. Cuthbertson, H. Armstrong, M. E. Briggs, K. E. Jelfs & A. I. Cooper. High-throughput discovery of organic cages and catenanes using computational screening fused with robotic synthesis. Nature Communications, 2018. DOI: 10.1038/s41467-018-05271-9\n",
    "                                                              \n",
    "I manually looked at Fig 4 in the main text and selected those that were synthesized. Some cages required visualization to compare to Fig 4 since e.g. there are multiple versions of B23, a few of which were apparently not synthesized but only computational predictions.\n",
    "\n",
    "The `.xyz` files describing the molecular structure of all of these cages are in the directory `all_cages`."
   ]
  },
  {
   "cell_type": "code",
   "execution_count": 2,
   "metadata": {},
   "outputs": [
    {
     "data": {
      "text/plain": [
       "Array{String,1}"
      ]
     },
     "execution_count": 2,
     "metadata": {},
     "output_type": "execute_result"
    }
   ],
   "source": [
    "cages = readdlm(\"all_cages/all_cages.txt\", String)[:];\n",
    "typeof(cages)"
   ]
  },
  {
   "cell_type": "markdown",
   "metadata": {},
   "source": [
    "# Center cages\n",
    "\n",
    "The center of mass will be set to be the origin.\n",
    "Each cage will be rotated such that it is aligned with its principle moments of inertia.\n",
    "i.e. the moment of inertia matrix of an \"aligned\" cage is diagonal.\n",
    "\n",
    "\n",
    "First, a function to compute the center of mass of a group of `atoms` at Cartesian coordinates `x`, stored in the columns."
   ]
  },
  {
   "cell_type": "code",
   "execution_count": 3,
   "metadata": {},
   "outputs": [
    {
     "data": {
      "text/plain": [
       "center_of_mass (generic function with 1 method)"
      ]
     },
     "execution_count": 3,
     "metadata": {},
     "output_type": "execute_result"
    }
   ],
   "source": [
    "function center_of_mass(atoms::Array{Symbol, 1}, x::Array{Float64, 2})\n",
    "    ams = read_atomic_masses()\n",
    "    com = [0.0, 0.0, 0.0]\n",
    "    total_mass = 0.0\n",
    "    for (i, atom) in enumerate(atoms)\n",
    "        com += ams[atom] * x[:, i]\n",
    "        total_mass += ams[atom]\n",
    "    end\n",
    "    return com / total_mass\n",
    "end"
   ]
  },
  {
   "cell_type": "code",
   "execution_count": 4,
   "metadata": {},
   "outputs": [
    {
     "data": {
      "text/plain": [
       "centered_cage_coords (generic function with 1 method)"
      ]
     },
     "execution_count": 4,
     "metadata": {},
     "output_type": "execute_result"
    }
   ],
   "source": [
    "function centered_cage_coords(cage::AbstractString)\n",
    "    # read in raw .xyz from `all_cages`\n",
    "    atoms, x = read_xyz(\"all_cages/$cage.xyz\")\n",
    "    \n",
    "    # compute center of mass\n",
    "    x_com = center_of_mass(atoms, x)\n",
    "    \n",
    "    # shift coords so that cage is centered\n",
    "    x = x .- x_com\n",
    "    \n",
    "    return atoms, x\n",
    "end"
   ]
  },
  {
   "cell_type": "markdown",
   "metadata": {},
   "source": [
    "# Porosity point clouds"
   ]
  },
  {
   "cell_type": "code",
   "execution_count": 24,
   "metadata": {},
   "outputs": [
    {
     "data": {
      "text/plain": [
       "3×10000 Array{Float64,2}:\n",
       " -1.99856   -2.18259  -5.41155   2.08153   …   4.32682  0.746028  -5.80039 \n",
       "  0.117932   1.10406  -5.16204  -1.94333      -6.48904  3.83171   -0.774724\n",
       " -0.703482  -1.73386   1.29056  -0.727438      0.17646  7.84768   -5.56926 "
      ]
     },
     "execution_count": 24,
     "metadata": {},
     "output_type": "execute_result"
    }
   ],
   "source": [
    "function generate_porosity_point_cloud(cage::AbstractString, nb_pts_in_porosity_cloud::Int, snapshot_radius::Union{Nothing, Float64})\n",
    "    # store points in void space here.\n",
    "    x_porosity_cloud = zeros(3, nb_pts_in_porosity_cloud)\n",
    "    \n",
    "    # read in centered cage coordinates\n",
    "    atoms, x = centered_cage_coords(cage)\n",
    "\n",
    "    # determine if void space via potential energy of He\n",
    "    he = Molecule(\"He\")\n",
    "    ljff = LJForceField(\"UFF.csv\", cutoffradius=14.0, mixing_rules=\"geometric\")\n",
    "    ljspheres = Atoms(atoms, x)\n",
    "\n",
    "    # compute radius of the molecule; this determines variance of Gaussian if snapshot size not provided\n",
    "    if snapshot_radius == nothing\n",
    "        snapshot_radius = maximum([norm(x[:, a]) for a = 1:length(atoms)])\n",
    "    end\n",
    "    \n",
    "    n_hits = 0\n",
    "    while n_hits < nb_pts_in_porosity_cloud\n",
    "        # bias insertions towards center\n",
    "        x_insert = randn(3) * snapshot_radius / 3 # scale smaller to bias describing core more.\n",
    "        if norm(x_insert) > snapshot_radius\n",
    "            continue\n",
    "        end\n",
    "\n",
    "        # put helium at this grid pt\n",
    "        translate_to!(he, x_insert)\n",
    "\n",
    "        # compute potential energy of He adsorbate here\n",
    "        energy = vdw_energy_no_PBC(he, ljspheres, ljff)\n",
    "\n",
    "        if energy < 298.0\n",
    "            n_hits += 1\n",
    "            x_porosity_cloud[:, n_hits] = x_insert\n",
    "        end\n",
    "    end\n",
    "    \n",
    "    # write to file\n",
    "    write_xyz([:H for i = 1:nb_pts_in_porosity_cloud], x_porosity_cloud, \"all_cages/\" * cage * \"_porosity_cloud.xyz\")\n",
    "    \n",
    "    return x_porosity_cloud\n",
    "end\n",
    "\n",
    "generate_porosity_point_cloud(\"CC3\", 10000, nothing)"
   ]
  },
  {
   "cell_type": "markdown",
   "metadata": {},
   "source": [
    "# Rotate to align principal axes of rotation with Cartesian axes"
   ]
  },
  {
   "cell_type": "markdown",
   "metadata": {},
   "source": [
    "Next, a function to compute the moment of inertia matrix of a group of `atoms` at Cartesian positions `x`. \n",
    "\n",
    "See <a href=\"https://chem.libretexts.org/Textbook_Maps/Physical_and_Theoretical_Chemistry_Textbook_Maps/Map%3A_Physical_Chemistry_(McQuarrie_and_Simon)/13%3A_Molecular_Spectroscopy/13-08._The_Rotational_Spectrum_of_a_Polyatomic_Molecule_Depends_Upon_the_Principal_Moments_of_Inertia_of_the_Molecule\">Chemistry Libre Texts</a> moment of inertia formulas."
   ]
  },
  {
   "cell_type": "code",
   "execution_count": 7,
   "metadata": {},
   "outputs": [
    {
     "data": {
      "text/plain": [
       "moment_of_inertia (generic function with 1 method)"
      ]
     },
     "execution_count": 7,
     "metadata": {},
     "output_type": "execute_result"
    }
   ],
   "source": [
    "function moment_of_inertia(x::Array{Float64, 2})\n",
    "    # moment of inertia matrix `mi`\n",
    "    mi = zeros(Float64, 3, 3)\n",
    "    for i = 1:3\n",
    "        for j = 1:3\n",
    "            for a = 1:size(x)[2]\n",
    "                if i == j\n",
    "                    ids = collect(setdiff(Set([1, 2, 3]), Set([i])))\n",
    "                    mi[i, j] += sum(x[ids, a] .^ 2)\n",
    "                else\n",
    "                    mi[i, j] -= x[i, a] * x[j, a]\n",
    "                end\n",
    "            end\n",
    "        end\n",
    "    end\n",
    "    \n",
    "    # should be symmetric!\n",
    "    @assert isapprox(mi, mi')\n",
    "        \n",
    "    return mi\n",
    "end"
   ]
  },
  {
   "cell_type": "code",
   "execution_count": 8,
   "metadata": {},
   "outputs": [
    {
     "data": {
      "text/plain": [
       "viewcage (generic function with 1 method)"
      ]
     },
     "execution_count": 8,
     "metadata": {},
     "output_type": "execute_result"
    }
   ],
   "source": [
    "write_final_aligned_cage(atoms, x, cage) = write_xyz(atoms, x, \"all_cages/\" * cage * \"_final_pt_cloud_alignment.xyz\")\n",
    "aligned_and_centered_cage(cage::AbstractString) = read_xyz(\"all_cages/\" * cage * \"_final_pt_cloud_alignment.xyz\")\n",
    "viewcage(cage::AbstractString) = viewfile(\"all_cages/\" * cage * \"_final_pt_cloud_alignment.xyz\", \"xyz\")"
   ]
  },
  {
   "cell_type": "code",
   "execution_count": 10,
   "metadata": {},
   "outputs": [
    {
     "name": "stdout",
     "output_type": "stream",
     "text": [
      "\u001b[31mA11 has nearly degenerate axes of inertia\u001b[39m\n",
      "\u001b[31mB11 has nearly degenerate axes of inertia\u001b[39m\n",
      "\u001b[32mB13 has unique axes of inertia\u001b[39m\n",
      "\u001b[31mB15 has nearly degenerate axes of inertia\u001b[39m\n",
      "\u001b[31mB18 has nearly degenerate axes of inertia\u001b[39m\n",
      "\u001b[31mB1 has nearly degenerate axes of inertia\u001b[39m\n",
      "\u001b[31mB23 has nearly degenerate axes of inertia\u001b[39m\n",
      "\u001b[31mB24 has nearly degenerate axes of inertia\u001b[39m\n",
      "\u001b[31mB25 has nearly degenerate axes of inertia\u001b[39m\n",
      "\u001b[31mB26 has nearly degenerate axes of inertia\u001b[39m\n",
      "\u001b[32mB2 has unique axes of inertia\u001b[39m\n",
      "\u001b[31mB4 has nearly degenerate axes of inertia\u001b[39m\n",
      "\u001b[31mB5 has nearly degenerate axes of inertia\u001b[39m\n",
      "\u001b[31mB6 has nearly degenerate axes of inertia\u001b[39m\n",
      "\u001b[31mB8 has nearly degenerate axes of inertia\u001b[39m\n",
      "\u001b[32mB9 has unique axes of inertia\u001b[39m\n",
      "\u001b[32mC11 has unique axes of inertia\u001b[39m\n",
      "\u001b[32mC13 has unique axes of inertia\u001b[39m\n",
      "\u001b[31mC15 has nearly degenerate axes of inertia\u001b[39m\n",
      "\u001b[31mC18 has nearly degenerate axes of inertia\u001b[39m\n",
      "\u001b[31mC1 has nearly degenerate axes of inertia\u001b[39m\n",
      "\u001b[32mC20 has unique axes of inertia\u001b[39m\n",
      "\u001b[31mC21 has nearly degenerate axes of inertia\u001b[39m\n",
      "\u001b[31mC23 has nearly degenerate axes of inertia\u001b[39m\n",
      "\u001b[31mC24 has nearly degenerate axes of inertia\u001b[39m\n",
      "\u001b[31mC25 has nearly degenerate axes of inertia\u001b[39m\n",
      "\u001b[31mC26 has nearly degenerate axes of inertia\u001b[39m\n",
      "\u001b[31mC2 has nearly degenerate axes of inertia\u001b[39m\n",
      "\u001b[31mC4 has nearly degenerate axes of inertia\u001b[39m\n",
      "\u001b[31mC5 has nearly degenerate axes of inertia\u001b[39m\n",
      "\u001b[31mC6 has nearly degenerate axes of inertia\u001b[39m\n",
      "\u001b[31mC8 has nearly degenerate axes of inertia\u001b[39m\n",
      "\u001b[31mC9 has nearly degenerate axes of inertia\u001b[39m\n",
      "\u001b[32mCB5 has unique axes of inertia\u001b[39m\n",
      "\u001b[32mCB6 has unique axes of inertia\u001b[39m\n",
      "\u001b[32mCB7 has unique axes of inertia\u001b[39m\n",
      "\u001b[31mCC10 has nearly degenerate axes of inertia\u001b[39m\n",
      "\u001b[31mCC1 has nearly degenerate axes of inertia\u001b[39m\n",
      "\u001b[31mCC2 has nearly degenerate axes of inertia\u001b[39m\n",
      "\u001b[31mCC3 has nearly degenerate axes of inertia\u001b[39m\n",
      "\u001b[31mCC4 has nearly degenerate axes of inertia\u001b[39m\n",
      "\u001b[31mCC5 has nearly degenerate axes of inertia\u001b[39m\n",
      "\u001b[31mCC9 has nearly degenerate axes of inertia\u001b[39m\n",
      "\u001b[32mCD1 has unique axes of inertia\u001b[39m\n",
      "\u001b[31mCD2 has nearly degenerate axes of inertia\u001b[39m\n",
      "\u001b[31mCD3 has nearly degenerate axes of inertia\u001b[39m\n",
      "\u001b[32mCP1 has unique axes of inertia\u001b[39m\n",
      "\u001b[32mCP3 has unique axes of inertia\u001b[39m\n",
      "\u001b[32mCP4 has unique axes of inertia\u001b[39m\n",
      "\u001b[32mCP5 has unique axes of inertia\u001b[39m\n",
      "\u001b[31mDC1 has nearly degenerate axes of inertia\u001b[39m\n",
      "\u001b[31mGC1 has nearly degenerate axes of inertia\u001b[39m\n",
      "\u001b[31mHC1 has nearly degenerate axes of inertia\u001b[39m\n",
      "\u001b[31mIC1 has nearly degenerate axes of inertia\u001b[39m\n",
      "\u001b[32mIC2 has unique axes of inertia\u001b[39m\n",
      "\u001b[31mMC1 has nearly degenerate axes of inertia\u001b[39m\n",
      "\u001b[31mMC2 has nearly degenerate axes of inertia\u001b[39m\n",
      "\u001b[32mMC3 has unique axes of inertia\u001b[39m\n",
      "\u001b[32mMC4 has unique axes of inertia\u001b[39m\n",
      "\u001b[31mMC5 has nearly degenerate axes of inertia\u001b[39m\n",
      "\u001b[31mMC6 has nearly degenerate axes of inertia\u001b[39m\n",
      "\u001b[31mMC7 has nearly degenerate axes of inertia\u001b[39m\n",
      "\u001b[32mNC1 has unique axes of inertia\u001b[39m\n",
      "\u001b[32mNC2 has unique axes of inertia\u001b[39m\n",
      "\u001b[31mRCC1a has nearly degenerate axes of inertia\u001b[39m\n",
      "\u001b[31mRCC1b has nearly degenerate axes of inertia\u001b[39m\n",
      "\u001b[32mRCC1c has unique axes of inertia\u001b[39m\n",
      "\u001b[31mRCC1d has nearly degenerate axes of inertia\u001b[39m\n",
      "\u001b[31mRCC3a has nearly degenerate axes of inertia\u001b[39m\n",
      "\u001b[31mRCC3b has nearly degenerate axes of inertia\u001b[39m\n",
      "\u001b[31mWC1 has nearly degenerate axes of inertia\u001b[39m\n",
      "\u001b[32mWC2 has unique axes of inertia\u001b[39m\n",
      "\u001b[32mWC3 has unique axes of inertia\u001b[39m\n",
      "\u001b[31mWC4 has nearly degenerate axes of inertia\u001b[39m\n"
     ]
    }
   ],
   "source": [
    "nb_pts_in_pt_cloud = 50000\n",
    "\n",
    "aligned = Dict(cage => false for cage in cages)\n",
    "\n",
    "for cage in cages\n",
    "    x = generate_porosity_point_cloud(cage, nb_pts_in_pt_cloud, nothing) # use radius of molecule for this.\n",
    "\n",
    "    mi = moment_of_inertia(x)\n",
    "    \n",
    "    # diagnomize moment of inertia matrix\n",
    "    λ, v = eigen(mi) # columns of v are eigenvalues\n",
    "    ids = sortperm(λ, rev=true) # sort eigenvalues from large to small.\n",
    "    λ = λ[ids]\n",
    "    v = v[:, ids]\n",
    "    # tests out of paranoia\n",
    "    @assert(isapprox(mi * v, v * diagm(0 => λ)), \"eigenvectors not right\")\n",
    "    @assert(isapprox([norm(v[:, i]) for i = 1:3], ones(3)), \"eigenvectors not unit vectors\")\n",
    "    @assert(isapprox(mi, v * diagm(0 => λ) * v'))\n",
    "    # `v` is a rotation matrix b/c `mi` is symmetric and the columns are orthonormal\n",
    "    # i.e. `v` is a unitary matrix. now use it to rotate x to align with principle axes of rotation\n",
    "    @assert(isapprox(v' * v, Diagonal{Float64}(I, 3)), \"v is not unitary...\")\n",
    "    @assert (λ[1] >= λ[2]) & (λ[2] >= λ[3])\n",
    "    \n",
    "    # rotate the cage such that it is aligned with its principle axes of inertia\n",
    "    atoms, x = centered_cage_coords(cage)\n",
    "    filename = \"all_cages/\" * cage * \"_point_cloud_inertia_aligned.xyz\"\n",
    "    write_xyz(atoms, v' * x, filename) # transpose of v is rotation matrix\n",
    "    \n",
    "    # look for degeneracy\n",
    "    cage_radius = maximum([norm(x[:, a]) for a = 1:size(x)[2]])\n",
    "   # Δλ_tol = nb_pts_in_pt_cloud * 0.001 * cage_radiu s ^ 2\n",
    "    xy_symmetry = isapprox(λ[1], λ[2], rtol=0.01) # can use rtol b/c fixed # pts now.\n",
    "    yz_symmetry = isapprox(λ[2], λ[3], rtol=0.01)\n",
    "    if xy_symmetry || yz_symmetry\n",
    "        printstyled(cage * \" has nearly degenerate axes of inertia\\n\", color=:red)\n",
    "    else\n",
    "        aligned[cage] = true\n",
    "        write_final_aligned_cage(atoms, v' * x, cage)\n",
    "        printstyled(cage * \" has unique axes of inertia\\n\", color=:green)\n",
    "    end\n",
    "end"
   ]
  },
  {
   "cell_type": "markdown",
   "metadata": {},
   "source": [
    "# Rigid point set registration to align cages consistently where moments of inertia about principal axes are nearly degenerate"
   ]
  },
  {
   "cell_type": "code",
   "execution_count": 11,
   "metadata": {},
   "outputs": [
    {
     "data": {
      "text/plain": [
       "find_best_cage_to_align_to (generic function with 1 method)"
      ]
     },
     "execution_count": 11,
     "metadata": {},
     "output_type": "execute_result"
    }
   ],
   "source": [
    "# goal: transform y to best match one of the xs.\n",
    "function find_best_cage_to_align_to(y::Array{Float64, 2},\n",
    "                                    xs::Array{Array{Float64, 2}, 1};\n",
    "                                    cage_names::Array{String, 1}=String[])\n",
    "    nb_queries = length(xs)\n",
    "\n",
    "    ℓ = [Inf for i = 1:nb_queries]\n",
    "    \n",
    "    # loop thru all queries, see which is best aligned\n",
    "    for (i, x) in enumerate(xs)\n",
    "        if length(cage_names) > 0 \n",
    "            println(cage_names[i])\n",
    "        end\n",
    "        if size(x) == size(y) && isapprox(x, y)\n",
    "            error(\"cage == ref cage...\")\n",
    "        end\n",
    "        \n",
    "        # transformation is applied not to reference cage but the unaligned cage!\n",
    "        R, t, σ², ℓ[i] = CoherentPointDrift.rigid_point_set_registration(x, y, verbose=false,\n",
    "            w=0.0, σ²_tol=0.1, q_tol=1.0, max_nb_em_steps=25, print_ending=false)\n",
    "    end\n",
    "    # which cage had the best alignment?\n",
    "    return argmin(ℓ)\n",
    "end"
   ]
  },
  {
   "cell_type": "code",
   "execution_count": 14,
   "metadata": {},
   "outputs": [
    {
     "name": "stdout",
     "output_type": "stream",
     "text": [
      "\u001b[33mA11 aligned via principal axes of inertia\u001b[39m\n",
      "\u001b[33mB11 aligned via principal axes of inertia\u001b[39m\n",
      "\u001b[33mB13 aligned via principal axes of inertia\u001b[39m\n",
      "\u001b[33mB15 aligned via principal axes of inertia\u001b[39m\n",
      "\u001b[33mB18 aligned via principal axes of inertia\u001b[39m\n",
      "\u001b[33mB1 aligned via principal axes of inertia\u001b[39m\n",
      "\u001b[33mB23 aligned via principal axes of inertia\u001b[39m\n",
      "\u001b[33mB24 aligned via principal axes of inertia\u001b[39m\n",
      "\u001b[33mB25 aligned via principal axes of inertia\u001b[39m\n",
      "\u001b[33mB26 aligned via principal axes of inertia\u001b[39m\n",
      "\u001b[33mB2 aligned via principal axes of inertia\u001b[39m\n",
      "\u001b[33mB4 aligned via principal axes of inertia\u001b[39m\n",
      "\u001b[33mB5 aligned via principal axes of inertia\u001b[39m\n",
      "\u001b[33mB6 aligned via principal axes of inertia\u001b[39m\n",
      "\u001b[33mB8 aligned via principal axes of inertia\u001b[39m\n",
      "\u001b[33mB9 aligned via principal axes of inertia\u001b[39m\n",
      "\u001b[33mC11 aligned via principal axes of inertia\u001b[39m\n",
      "\u001b[33mC13 aligned via principal axes of inertia\u001b[39m\n",
      "\u001b[33mC15 aligned via principal axes of inertia\u001b[39m\n",
      "\u001b[33mC18 aligned via principal axes of inertia\u001b[39m\n",
      "\u001b[33mC1 aligned via principal axes of inertia\u001b[39m\n",
      "\u001b[33mC20 aligned via principal axes of inertia\u001b[39m\n",
      "\u001b[33mC21 aligned via principal axes of inertia\u001b[39m\n",
      "\u001b[33mC23 aligned via principal axes of inertia\u001b[39m\n",
      "\u001b[33mC24 aligned via principal axes of inertia\u001b[39m\n",
      "\u001b[33mC25 aligned via principal axes of inertia\u001b[39m\n",
      "\u001b[33mC26 aligned via principal axes of inertia\u001b[39m\n",
      "\u001b[33mC2 aligned via principal axes of inertia\u001b[39m\n",
      "\u001b[33mC4 aligned via principal axes of inertia\u001b[39m\n",
      "\u001b[33mC5 aligned via principal axes of inertia\u001b[39m\n",
      "\u001b[33mC6 aligned via principal axes of inertia\u001b[39m\n",
      "\u001b[33mC8 aligned via principal axes of inertia\u001b[39m\n",
      "\u001b[33mC9 aligned via principal axes of inertia\u001b[39m\n",
      "\u001b[33mCB5 aligned via principal axes of inertia\u001b[39m\n",
      "\u001b[33mCB6 aligned via principal axes of inertia\u001b[39m\n",
      "\u001b[33mCB7 aligned via principal axes of inertia\u001b[39m\n",
      "\u001b[33mCC10 aligned via principal axes of inertia\u001b[39m\n",
      "\u001b[33mCC1 aligned via principal axes of inertia\u001b[39m\n",
      "\u001b[33mCC2 aligned via principal axes of inertia\u001b[39m\n",
      "\u001b[33mCC3 aligned via principal axes of inertia\u001b[39m\n",
      "\u001b[33mCC4 aligned via principal axes of inertia\u001b[39m\n",
      "\u001b[33mCC5 aligned via principal axes of inertia\u001b[39m\n",
      "\u001b[33mCC9 aligned via principal axes of inertia\u001b[39m\n",
      "\u001b[33mCD1 aligned via principal axes of inertia\u001b[39m\n",
      "\u001b[33mCD2 aligned via principal axes of inertia\u001b[39m\n",
      "\u001b[33mCD3 aligned via principal axes of inertia\u001b[39m\n",
      "\u001b[33mCP1 aligned via principal axes of inertia\u001b[39m\n",
      "\u001b[33mCP3 aligned via principal axes of inertia\u001b[39m\n",
      "\u001b[33mCP4 aligned via principal axes of inertia\u001b[39m\n",
      "\u001b[33mCP5 aligned via principal axes of inertia\u001b[39m\n",
      "\u001b[33mDC1 aligned via principal axes of inertia\u001b[39m\n",
      "\u001b[33mGC1 aligned via principal axes of inertia\u001b[39m\n",
      "\u001b[33mHC1 aligned via principal axes of inertia\u001b[39m\n",
      "\u001b[33mIC1 aligned via principal axes of inertia\u001b[39m\n",
      "\u001b[33mIC2 aligned via principal axes of inertia\u001b[39m\n",
      "\u001b[33mMC1 aligned via principal axes of inertia\u001b[39m\n",
      "\u001b[33mMC2 aligned via principal axes of inertia\u001b[39m\n",
      "\u001b[33mMC3 aligned via principal axes of inertia\u001b[39m\n",
      "\u001b[33mMC4 aligned via principal axes of inertia\u001b[39m\n",
      "\u001b[33mMC5 aligned via principal axes of inertia\u001b[39m\n",
      "\u001b[33mMC6 aligned via principal axes of inertia\u001b[39m\n",
      "\u001b[33mMC7 aligned via principal axes of inertia\u001b[39m\n",
      "\u001b[33mNC1 aligned via principal axes of inertia\u001b[39m\n",
      "\u001b[33mNC2 aligned via principal axes of inertia\u001b[39m\n",
      "\u001b[33mRCC1a aligned via principal axes of inertia\u001b[39m\n",
      "\u001b[33mRCC1b aligned via principal axes of inertia\u001b[39m\n",
      "\u001b[33mRCC1c aligned via principal axes of inertia\u001b[39m\n",
      "\u001b[33mRCC1d aligned via principal axes of inertia\u001b[39m\n",
      "\u001b[33mRCC3a aligned via principal axes of inertia\u001b[39m\n",
      "\u001b[33mRCC3b aligned via principal axes of inertia\u001b[39m\n",
      "\u001b[33mWC1 aligned via principal axes of inertia\u001b[39m\n",
      "\u001b[33mWC2 aligned via principal axes of inertia\u001b[39m\n",
      "\u001b[33mWC3 aligned via principal axes of inertia\u001b[39m\n",
      "\u001b[33mWC4 aligned via principal axes of inertia\u001b[39m\n"
     ]
    },
    {
     "name": "stderr",
     "output_type": "stream",
     "text": [
      "WARNING: both Bio3DView and PorousMaterials export \"Box\"; uses of it in module Main must be qualified\n"
     ]
    }
   ],
   "source": [
    "nb_pts_in_pt_cloud = 5000\n",
    "# use same dist'n of points for this one to compare cages easily\n",
    "porosity_point_clouds = Dict(cage => generate_porosity_point_cloud(cage, nb_pts_in_pt_cloud, 20.0) for cage in cages)\n",
    "\n",
    "for cage in cages\n",
    "    # if cage aligned uniquely with axes of inertia, carry on to the next cage.\n",
    "    if aligned[cage]\n",
    "        printstyled(cage * \" aligned via principal axes of inertia\\n\", color=:yellow)\n",
    "        continue\n",
    "    end\n",
    "    \n",
    "    # cage is unaligned. find best to align to among already-aligned cages\n",
    "    printstyled(\"Aligning \" * cage * \" to ...\", color=:green)\n",
    "\n",
    "    aligned_cages = cages[[aligned[cage] for cage in cages]]\n",
    "    # get their porosity point clouds\n",
    "    xs = [porosity_point_clouds[cage] for cage in aligned_cages]\n",
    "    # y is this cage's point cloud\n",
    "    y = porosity_point_clouds[cage]\n",
    "    # find best cage to align to\n",
    "    i_align_to = find_best_cage_to_align_to(y, xs)# , cage_names=aligned_cages)\n",
    "    align_to = aligned_cages[i_align_to]\n",
    "    printstyled(align_to * \"\\n\", color=:red)\n",
    "    println(\"\\tCoherent point drift params: \")\n",
    "    \n",
    "    R, t, σ², ℓ = CoherentPointDrift.rigid_point_set_registration(xs[i_align_to], y, verbose=false,\n",
    "            w=0.0, σ²_tol=0.1, q_tol=1.0, max_nb_em_steps=25, print_ending=true)\n",
    "    \n",
    "    atoms, y = centered_cage_coords(cage)\n",
    "    write_final_aligned_cage(atoms, R * y, cage)\n",
    "    aligned[cage] = true\n",
    "end"
   ]
  },
  {
   "cell_type": "code",
   "execution_count": null,
   "metadata": {},
   "outputs": [],
   "source": []
  }
 ],
 "metadata": {
  "kernelspec": {
   "display_name": "Julia 1.0.1",
   "language": "julia",
   "name": "julia-1.0"
  },
  "language_info": {
   "file_extension": ".jl",
   "mimetype": "application/julia",
   "name": "julia",
   "version": "1.0.1"
  }
 },
 "nbformat": 4,
 "nbformat_minor": 2
}
