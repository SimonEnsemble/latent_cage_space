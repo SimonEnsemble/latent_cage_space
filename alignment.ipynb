{
 "cells": [
  {
   "cell_type": "code",
   "execution_count": 1,
   "metadata": {},
   "outputs": [],
   "source": [
    "using PorousMaterials # Pkg.clone(\"https://github.com/SimonEnsemble/PorousMaterials.jl\", \"v0.1.1\")\n",
    "using DelimitedFiles\n",
    "using LinearAlgebra\n",
    "using JLD2\n",
    "using CoherentPointDrift\n",
    "import Bio3DView\n",
    "using Printf\n",
    "import PyPlot\n",
    "using Random"
   ]
  },
  {
   "cell_type": "markdown",
   "metadata": {},
   "source": [
    "# Database of cages\n",
    "\n",
    "Cage database CDB41 (41 cages) from [here](https://github.com/marcinmiklitz/CDB41). Cleaned of solvent. Thanks to Kim Jelfs and M. Miklitz for kindly providing the cages.\n",
    "\n",
    "Reference:\n",
    "> M. Miklitz, S. Jiang, R. Clowes, M. E. Briggs, A. I. Cooper and K. E. Jelfs, Computational Screening of Porous Organic Molecules for Xenon/Krypton Separation, J. Phys. Chem. C, 2017. DOI: 10.1021/acs.jpcc.7b03848\n",
    "\n",
    "Other set of 33 cages from the .xyz files deposited as ESI of DOI 10.1038/s41467-018-05271-9\n",
    "\n",
    "> R. L. Greenaway, V. Santolini, M. J. Bennison, B. M. Alston, C. J. Pugh, M. A. Little, M. Miklitz, E. G. B. Eden-Rump, R. Clowes, A. Shakil, H. J. Cuthbertson, H. Armstrong, M. E. Briggs, K. E. Jelfs & A. I. Cooper. High-throughput discovery of organic cages and catenanes using computational screening fused with robotic synthesis. Nature Communications, 2018. DOI: 10.1038/s41467-018-05271-9\n",
    "                                                              \n",
    "I manually looked at Fig 4 in the main text and selected those that were synthesized. Some cages required visualization to compare to Fig 4 since e.g. there are multiple versions of B23, a few of which were apparently not synthesized but only computational predictions.\n",
    "\n",
    "The `.xyz` files describing the molecular structure of all of these cages are in the directory `all_cages`."
   ]
  },
  {
   "cell_type": "code",
   "execution_count": 2,
   "metadata": {},
   "outputs": [],
   "source": [
    "cages = readdlm(\"all_cages/all_cages.txt\", String)[:];"
   ]
  },
  {
   "cell_type": "markdown",
   "metadata": {},
   "source": [
    "# Center cages\n",
    "\n",
    "The center of mass will be set to be the origin.\n",
    "Each cage will be rotated such that it is aligned with its principle moments of inertia.\n",
    "i.e. the moment of inertia matrix of an \"aligned\" cage is diagonal.\n",
    "\n",
    "\n",
    "First, a function to compute the center of mass of a group of `atoms` at Cartesian coordinates `x`, stored in the columns."
   ]
  },
  {
   "cell_type": "code",
   "execution_count": 3,
   "metadata": {},
   "outputs": [
    {
     "data": {
      "text/plain": [
       "center_of_mass (generic function with 1 method)"
      ]
     },
     "execution_count": 3,
     "metadata": {},
     "output_type": "execute_result"
    }
   ],
   "source": [
    "function center_of_mass(atoms::Array{Symbol, 1}, x::Array{Float64, 2})\n",
    "    ams = read_atomic_masses()\n",
    "    com = [0.0, 0.0, 0.0]\n",
    "    total_mass = 0.0\n",
    "    for (i, atom) in enumerate(atoms)\n",
    "        com += ams[atom] * x[:, i]\n",
    "        total_mass += ams[atom]\n",
    "    end\n",
    "    return com / total_mass\n",
    "end"
   ]
  },
  {
   "cell_type": "code",
   "execution_count": 4,
   "metadata": {},
   "outputs": [
    {
     "data": {
      "text/plain": [
       "centered_cage_coords (generic function with 1 method)"
      ]
     },
     "execution_count": 4,
     "metadata": {},
     "output_type": "execute_result"
    }
   ],
   "source": [
    "function centered_cage_coords(cage::AbstractString)\n",
    "    # read in raw .xyz from `all_cages`\n",
    "    atoms, x = read_xyz(\"all_cages/\" * cage * \".xyz\")\n",
    "    \n",
    "    # compute center of mass\n",
    "    x_com = center_of_mass(atoms, x)\n",
    "    \n",
    "    # shift coords so that cage is centered\n",
    "    x = x .- x_com\n",
    "    \n",
    "    # write centered cage coords\n",
    "    write_xyz(atoms, x, \"centered_cages/\" * cage * \".xyz\")\n",
    "    \n",
    "    return atoms, x\n",
    "end"
   ]
  },
  {
   "cell_type": "markdown",
   "metadata": {},
   "source": [
    "# Porosity point clouds"
   ]
  },
  {
   "cell_type": "code",
   "execution_count": 5,
   "metadata": {},
   "outputs": [
    {
     "data": {
      "text/plain": [
       "generate_porosity_point_cloud (generic function with 1 method)"
      ]
     },
     "execution_count": 5,
     "metadata": {},
     "output_type": "execute_result"
    }
   ],
   "source": [
    "function generate_porosity_point_cloud(atoms::Array{Symbol, 1}, \n",
    "                                       x::Array{Float64, 2}, \n",
    "                                       nb_pts_in_porosity_cloud::Int, \n",
    "                                       snapshot_radius::Union{Nothing, Float64};\n",
    "                                       gaussian_scaler::Float64=3.0)\n",
    "    # store points in void space here.\n",
    "    x_porosity_cloud = zeros(3, nb_pts_in_porosity_cloud)\n",
    "\n",
    "    # determine if void space via potential energy of He\n",
    "    he = Molecule(\"He\")\n",
    "    ljff = LJForceField(\"UFF.csv\", cutoffradius=14.0, mixing_rules=\"geometric\")\n",
    "    ljspheres = Atoms(atoms, x)\n",
    "\n",
    "    # compute radius of the molecule; this determines variance of Gaussian if snapshot size not provided\n",
    "    if snapshot_radius == nothing\n",
    "        snapshot_radius = maximum([norm(x[:, a]) for a = 1:length(atoms)])\n",
    "    end\n",
    "    \n",
    "    n_hits = 0\n",
    "    while n_hits < nb_pts_in_porosity_cloud\n",
    "        # bias insertions towards center\n",
    "        x_insert = randn(3) * snapshot_radius / gaussian_scaler # scale smaller to bias describing core more.\n",
    "        if norm(x_insert) > snapshot_radius\n",
    "            continue\n",
    "        end\n",
    "\n",
    "        # put helium at this grid pt\n",
    "        translate_to!(he, x_insert)\n",
    "\n",
    "        # compute potential energy of He adsorbate here\n",
    "        energy = vdw_energy_no_PBC(he, ljspheres, ljff)\n",
    "\n",
    "        if energy < 298.0\n",
    "            n_hits += 1\n",
    "            x_porosity_cloud[:, n_hits] = x_insert\n",
    "        end\n",
    "    end\n",
    "    \n",
    "    return x_porosity_cloud\n",
    "end\n",
    "\n",
    "# atoms, x = centered_cage_coords(\"B1\")\n",
    "# x = generate_porosity_point_cloud(atoms, x, 10000, nothing)\n",
    "# write_xyz([:H for i = 1:10000], x, \"test.xyz\")"
   ]
  },
  {
   "cell_type": "markdown",
   "metadata": {},
   "source": [
    "# Rotate to align principal axes of rotation with Cartesian axes"
   ]
  },
  {
   "cell_type": "markdown",
   "metadata": {},
   "source": [
    "Next, a function to compute the moment of inertia matrix of a group of `atoms` at Cartesian positions `x`. \n",
    "\n",
    "See <a href=\"https://chem.libretexts.org/Textbook_Maps/Physical_and_Theoretical_Chemistry_Textbook_Maps/Map%3A_Physical_Chemistry_(McQuarrie_and_Simon)/13%3A_Molecular_Spectroscopy/13-08._The_Rotational_Spectrum_of_a_Polyatomic_Molecule_Depends_Upon_the_Principal_Moments_of_Inertia_of_the_Molecule\">Chemistry Libre Texts</a> moment of inertia formulas."
   ]
  },
  {
   "cell_type": "code",
   "execution_count": 6,
   "metadata": {},
   "outputs": [
    {
     "data": {
      "text/plain": [
       "moment_of_inertia (generic function with 1 method)"
      ]
     },
     "execution_count": 6,
     "metadata": {},
     "output_type": "execute_result"
    }
   ],
   "source": [
    "function moment_of_inertia(x::Array{Float64, 2})\n",
    "    # moment of inertia matrix `mi`\n",
    "    mi = zeros(Float64, 3, 3)\n",
    "    for i = 1:3\n",
    "        for j = 1:3\n",
    "            for a = 1:size(x)[2]\n",
    "                if i == j\n",
    "                    ids = collect(setdiff(Set([1, 2, 3]), Set([i])))\n",
    "                    mi[i, j] += sum(x[ids, a] .^ 2)\n",
    "                else\n",
    "                    mi[i, j] -= x[i, a] * x[j, a]\n",
    "                end\n",
    "            end\n",
    "        end\n",
    "    end\n",
    "    \n",
    "    # should be symmetric!\n",
    "    @assert isapprox(mi, mi')\n",
    "        \n",
    "    return mi\n",
    "end"
   ]
  },
  {
   "cell_type": "code",
   "execution_count": 7,
   "metadata": {},
   "outputs": [
    {
     "data": {
      "text/plain": [
       "viewcage (generic function with 1 method)"
      ]
     },
     "execution_count": 7,
     "metadata": {},
     "output_type": "execute_result"
    }
   ],
   "source": [
    "viewcage(cage::AbstractString) = Bio3DView.viewfile(\"final_aligned_cages/\" * cage * \".xyz\", \"xyz\")"
   ]
  },
  {
   "cell_type": "code",
   "execution_count": 36,
   "metadata": {},
   "outputs": [
    {
     "data": {
      "text/plain": [
       "read_rotational_inertia_aligned_cage (generic function with 1 method)"
      ]
     },
     "execution_count": 36,
     "metadata": {},
     "output_type": "execute_result"
    }
   ],
   "source": [
    "for dir in [\"final_aligned_cages\", \"rotational_inertia_aligned_cages\", \"centered_cages\"]\n",
    "    isdir(dir) ? nothing : mkdir(dir)\n",
    "    isdir(joinpath(dir, \"porosity_point_clouds\")) ? nothing : mkdir(joinpath(dir, \"porosity_point_clouds\"))\n",
    "end\n",
    "\n",
    "write_final_aligned_cage(atoms::Array{Symbol, 1}, x::Array{Float64, 2}, cage::AbstractString) = write_xyz(atoms, x, \"final_aligned_cages/\" * cage * \".xyz\")\n",
    "read_final_aligned_cage(cage::AbstractString) = read_xyz(\"final_aligned_cages/\" * cage * \".xyz\")\n",
    "\n",
    "write_rotational_inertia_aligned_cage(atoms::Array{Symbol, 1}, x::Array{Float64, 2}, cage::AbstractString) = write_xyz(atoms, x, \"rotational_inertia_aligned_cages/\" * cage * \".xyz\")\n",
    "read_rotational_inertia_aligned_cage(cage::AbstractString) = read_xyz(\"rotational_inertia_aligned_cages/\" * cage * \".xyz\")"
   ]
  },
  {
   "cell_type": "code",
   "execution_count": 9,
   "metadata": {},
   "outputs": [
    {
     "name": "stdout",
     "output_type": "stream",
     "text": [
      "\u001b[31mA11 has nearly degenerate axes of inertia\u001b[39m\n",
      "\u001b[31mB11 has nearly degenerate axes of inertia\u001b[39m\n",
      "\u001b[32mB13 has unique axes of inertia\u001b[39m\n",
      "\u001b[31mB15 has nearly degenerate axes of inertia\u001b[39m\n",
      "\u001b[31mB18 has nearly degenerate axes of inertia\u001b[39m\n",
      "\u001b[31mB1 has nearly degenerate axes of inertia\u001b[39m\n",
      "\u001b[31mB23 has nearly degenerate axes of inertia\u001b[39m\n",
      "\u001b[31mB24 has nearly degenerate axes of inertia\u001b[39m\n",
      "\u001b[31mB25 has nearly degenerate axes of inertia\u001b[39m\n",
      "\u001b[31mB26 has nearly degenerate axes of inertia\u001b[39m\n",
      "\u001b[31mB2 has nearly degenerate axes of inertia\u001b[39m\n",
      "\u001b[31mB4 has nearly degenerate axes of inertia\u001b[39m\n",
      "\u001b[31mB5 has nearly degenerate axes of inertia\u001b[39m\n",
      "\u001b[31mB6 has nearly degenerate axes of inertia\u001b[39m\n",
      "\u001b[31mB8 has nearly degenerate axes of inertia\u001b[39m\n",
      "\u001b[31mB9 has nearly degenerate axes of inertia\u001b[39m\n",
      "\u001b[31mC11 has nearly degenerate axes of inertia\u001b[39m\n",
      "\u001b[32mC13 has unique axes of inertia\u001b[39m\n",
      "\u001b[31mC15 has nearly degenerate axes of inertia\u001b[39m\n",
      "\u001b[31mC18 has nearly degenerate axes of inertia\u001b[39m\n",
      "\u001b[31mC1 has nearly degenerate axes of inertia\u001b[39m\n",
      "\u001b[32mC20 has unique axes of inertia\u001b[39m\n",
      "\u001b[31mC21 has nearly degenerate axes of inertia\u001b[39m\n",
      "\u001b[31mC23 has nearly degenerate axes of inertia\u001b[39m\n",
      "\u001b[31mC24 has nearly degenerate axes of inertia\u001b[39m\n",
      "\u001b[31mC25 has nearly degenerate axes of inertia\u001b[39m\n",
      "\u001b[31mC26 has nearly degenerate axes of inertia\u001b[39m\n",
      "\u001b[31mC2 has nearly degenerate axes of inertia\u001b[39m\n",
      "\u001b[31mC4 has nearly degenerate axes of inertia\u001b[39m\n",
      "\u001b[31mC5 has nearly degenerate axes of inertia\u001b[39m\n",
      "\u001b[31mC6 has nearly degenerate axes of inertia\u001b[39m\n",
      "\u001b[31mC8 has nearly degenerate axes of inertia\u001b[39m\n",
      "\u001b[31mC9 has nearly degenerate axes of inertia\u001b[39m\n",
      "\u001b[32mCB5 has unique axes of inertia\u001b[39m\n",
      "\u001b[32mCB6 has unique axes of inertia\u001b[39m\n",
      "\u001b[32mCB7 has unique axes of inertia\u001b[39m\n",
      "\u001b[31mCC10 has nearly degenerate axes of inertia\u001b[39m\n",
      "\u001b[31mCC1 has nearly degenerate axes of inertia\u001b[39m\n",
      "\u001b[31mCC2 has nearly degenerate axes of inertia\u001b[39m\n",
      "\u001b[31mCC3 has nearly degenerate axes of inertia\u001b[39m\n",
      "\u001b[31mCC4 has nearly degenerate axes of inertia\u001b[39m\n",
      "\u001b[31mCC5 has nearly degenerate axes of inertia\u001b[39m\n",
      "\u001b[31mCC9 has nearly degenerate axes of inertia\u001b[39m\n",
      "\u001b[32mCD1 has unique axes of inertia\u001b[39m\n",
      "\u001b[31mCD2 has nearly degenerate axes of inertia\u001b[39m\n",
      "\u001b[31mCD3 has nearly degenerate axes of inertia\u001b[39m\n",
      "\u001b[32mCP1 has unique axes of inertia\u001b[39m\n",
      "\u001b[32mCP3 has unique axes of inertia\u001b[39m\n",
      "\u001b[32mCP4 has unique axes of inertia\u001b[39m\n",
      "\u001b[32mCP5 has unique axes of inertia\u001b[39m\n",
      "\u001b[31mDC1 has nearly degenerate axes of inertia\u001b[39m\n",
      "\u001b[31mGC1 has nearly degenerate axes of inertia\u001b[39m\n",
      "\u001b[31mHC1 has nearly degenerate axes of inertia\u001b[39m\n",
      "\u001b[31mIC1 has nearly degenerate axes of inertia\u001b[39m\n",
      "\u001b[32mIC2 has unique axes of inertia\u001b[39m\n",
      "\u001b[31mMC1 has nearly degenerate axes of inertia\u001b[39m\n",
      "\u001b[31mMC2 has nearly degenerate axes of inertia\u001b[39m\n",
      "\u001b[32mMC3 has unique axes of inertia\u001b[39m\n",
      "\u001b[31mMC4 has nearly degenerate axes of inertia\u001b[39m\n",
      "\u001b[31mMC5 has nearly degenerate axes of inertia\u001b[39m\n",
      "\u001b[31mMC6 has nearly degenerate axes of inertia\u001b[39m\n",
      "\u001b[31mMC7 has nearly degenerate axes of inertia\u001b[39m\n",
      "\u001b[32mNC1 has unique axes of inertia\u001b[39m\n",
      "\u001b[32mNC2 has unique axes of inertia\u001b[39m\n",
      "\u001b[31mRCC1a has nearly degenerate axes of inertia\u001b[39m\n",
      "\u001b[31mRCC1b has nearly degenerate axes of inertia\u001b[39m\n",
      "\u001b[31mRCC1c has nearly degenerate axes of inertia\u001b[39m\n",
      "\u001b[31mRCC1d has nearly degenerate axes of inertia\u001b[39m\n",
      "\u001b[32mRCC3a has unique axes of inertia\u001b[39m\n",
      "\u001b[31mRCC3b has nearly degenerate axes of inertia\u001b[39m\n",
      "\u001b[31mWC1 has nearly degenerate axes of inertia\u001b[39m\n",
      "\u001b[32mWC2 has unique axes of inertia\u001b[39m\n",
      "\u001b[32mWC3 has unique axes of inertia\u001b[39m\n",
      "\u001b[31mWC4 has nearly degenerate axes of inertia\u001b[39m\n"
     ]
    }
   ],
   "source": [
    "Random.seed!(1337); # set random number seed for complete reproducibility\n",
    "\n",
    "nb_pts_in_pt_cloud = 100000\n",
    "\n",
    "aligned = Dict(cage => false for cage in cages)\n",
    "\n",
    "for cage in cages\n",
    "    # read in centered cage\n",
    "    atoms, x = centered_cage_coords(cage)\n",
    "    \n",
    "    # generate porosity point cloud\n",
    "    x_pt_cloud = generate_porosity_point_cloud(atoms, x, nb_pts_in_pt_cloud, nothing) # use radius of molecule for this.\n",
    "    write_xyz([:H for i = 1:nb_pts_in_pt_cloud], x_pt_cloud, \n",
    "        \"centered_cages/porosity_point_clouds/\" * cage * \".xyz\")\n",
    "    \n",
    "    # diagnomize moment of inertia matrix\n",
    "    mi = moment_of_inertia(x_pt_cloud)\n",
    "    λ, v = eigen(mi) # columns of v are eigenvalues\n",
    "    ids = sortperm(λ, rev=true) # sort eigenvalues from large to small.\n",
    "    λ = λ[ids]\n",
    "    v = v[:, ids]\n",
    "    # tests out of paranoia\n",
    "    @assert(isapprox(mi * v, v * diagm(0 => λ)), \"eigenvectors not right\")\n",
    "    @assert(isapprox([norm(v[:, i]) for i = 1:3], ones(3)), \"eigenvectors not unit vectors\")\n",
    "    @assert(isapprox(mi, v * diagm(0 => λ) * v'))\n",
    "    # `v` is a rotation matrix b/c `mi` is symmetric and the columns are orthonormal\n",
    "    # i.e. `v` is a unitary matrix. now use it to rotate x to align with principle axes of rotation\n",
    "    @assert(isapprox(v' * v, Diagonal{Float64}(I, 3)), \"v is not unitary...\")\n",
    "    @assert (λ[1] >= λ[2]) & (λ[2] >= λ[3])\n",
    "    \n",
    "    # align principal axes of rotation of the cage with the Cartesian axes\n",
    "    write_rotational_inertia_aligned_cage(atoms, v' * x, cage)\n",
    "    \n",
    "    # look for degeneracy\n",
    "    xy_symmetry = isapprox(λ[1], λ[2], rtol=0.01) # can use rtol b/c fixed # pts now.\n",
    "    yz_symmetry = isapprox(λ[2], λ[3], rtol=0.01)\n",
    "    if xy_symmetry || yz_symmetry\n",
    "        printstyled(cage * \" has nearly degenerate axes of inertia\\n\", color=:red)\n",
    "    else\n",
    "        aligned[cage] = true\n",
    "        write_final_aligned_cage(atoms, v' * x, cage)\n",
    "        printstyled(cage * \" has unique axes of inertia\\n\", color=:green)\n",
    "    end\n",
    "end"
   ]
  },
  {
   "cell_type": "markdown",
   "metadata": {},
   "source": [
    "Write to file list of cages where principal axes of inertia are authoratative on how to align."
   ]
  },
  {
   "cell_type": "code",
   "execution_count": 10,
   "metadata": {},
   "outputs": [],
   "source": [
    "rotational_inertia_aligned_cages = cages[[aligned[cage] for cage in cages]]\n",
    "@save \"rotational_inertia_aligned_cages.jld2\" rotational_inertia_aligned_cages"
   ]
  },
  {
   "cell_type": "markdown",
   "metadata": {},
   "source": [
    "# Rigid point set registration to align cages consistently where moments of inertia about principal axes are nearly degenerate"
   ]
  },
  {
   "cell_type": "markdown",
   "metadata": {},
   "source": [
    "Write porosity point clouds of rotational-inertia-aligned cages for further alignment where principal axes are nearly dgenerate. Store in `rotational_inertia_aligned_cages/porosity_point_clouds`."
   ]
  },
  {
   "cell_type": "code",
   "execution_count": 11,
   "metadata": {},
   "outputs": [
    {
     "data": {
      "text/plain": [
       "write_porosity_pt_cloud_rot_aligned (generic function with 1 method)"
      ]
     },
     "execution_count": 11,
     "metadata": {},
     "output_type": "execute_result"
    }
   ],
   "source": [
    "read_porosity_pt_cloud_rot_aligned(cage::AbstractString) = read_xyz(\"rotational_inertia_aligned_cages/porosity_point_clouds/\" * cage * \".xyz\")[2]\n",
    "write_porosity_pt_cloud_rot_aligned(x_pt_cloud::Array{Float64, 2}, cage::AbstractString) = write_xyz(\n",
    "    [:H for i = 1:nb_pts_in_pt_cloud], \n",
    "    x_pt_cloud, \n",
    "    \"rotational_inertia_aligned_cages/porosity_point_clouds/\" * cage * \".xyz\")"
   ]
  },
  {
   "cell_type": "code",
   "execution_count": 12,
   "metadata": {},
   "outputs": [],
   "source": [
    "Random.seed!(1337); # set random number seed for complete reproducibility\n",
    "\n",
    "nb_pts_in_pt_cloud = 5000\n",
    "\n",
    "porosity_point_clouds = Dict{AbstractString, Array{Float64, 2}}()\n",
    "\n",
    "# use same dist'n of points for this one to compare cages easily\n",
    "for cage in cages\n",
    "    atoms, x = read_rotational_inertia_aligned_cage(cage)\n",
    "    \n",
    "    porosity_point_clouds[cage] = generate_porosity_point_cloud(atoms, x, nb_pts_in_pt_cloud, nothing, gaussian_scaler=5.0)\n",
    "    \n",
    "    write_porosity_pt_cloud_rot_aligned(porosity_point_clouds[cage], cage)\n",
    "end"
   ]
  },
  {
   "cell_type": "code",
   "execution_count": 21,
   "metadata": {},
   "outputs": [
    {
     "data": {
      "text/plain": [
       "find_pair_to_align (generic function with 1 method)"
      ]
     },
     "execution_count": 21,
     "metadata": {},
     "output_type": "execute_result"
    }
   ],
   "source": [
    "function read_jld_file_results(cage_y::AbstractString, cage_x::AbstractString; verbose::Bool=false)\n",
    "    jldfilename = jldopen(@sprintf(\"cpd_results/align_%s_to_%s_5000_pts.jld2\", cage_y, cage_x))\n",
    "    R = read(jldfilename, \"R\")\n",
    "    σ² = read(jldfilename, \"σ²\")\n",
    "    ℓ = read(jldfilename, \"ℓ\")\n",
    "    @assert read(jldfilename, \"cage_y\") == cage_y\n",
    "    @assert read(jldfilename, \"cage_x\") == cage_x\n",
    "    close(jldfilename)\n",
    "    return R, σ², ℓ\n",
    "end\n",
    "\n",
    "function find_pair_to_align(cage_ys::Array{String, 1}, cage_xs::Array{String, 1})\n",
    "    # look at all possible pairs, align cage_y to cage_x, record likelihood of alignment.\n",
    "    pairz = Tuple{String, String}[]\n",
    "    ℓs = Float64[]\n",
    "    σ²s = Float64[]\n",
    "    \n",
    "    for cage_y in cage_ys\n",
    "        for cage_x in cage_xs\n",
    "            if cage_y == cage_x\n",
    "                continue\n",
    "            end\n",
    "            \n",
    "            R, σ², ℓ = read_jld_file_results(cage_y, cage_x)\n",
    "            \n",
    "            push!(ℓs, ℓ)\n",
    "            push!(σ²s, σ²)\n",
    "            push!(pairz, (cage_y, cage_x))\n",
    "        end\n",
    "    end\n",
    "    # align the pair where the negative log likelihood is smallest.\n",
    "    best_pair = pairz[argmin(ℓs)]\n",
    "    return best_pair[1], best_pair[2]\n",
    "end"
   ]
  },
  {
   "cell_type": "markdown",
   "metadata": {},
   "source": [
    "recompute point cloud b/c errors accumate after applying tons of rotation matrices"
   ]
  },
  {
   "cell_type": "code",
   "execution_count": null,
   "metadata": {},
   "outputs": [
    {
     "name": "stdout",
     "output_type": "stream",
     "text": [
      "\u001b[33mAligning cage CC2 to CP1...\u001b[39m\n",
      "\tσ² = 0.015086, q = -3677.423211, EM steps taken = 29, reason for exit: objective stopped decreasing, time: 0.51146 min\n",
      "\tσ² =0.015085777281872348\n",
      "\u001b[33mAligning cage WC4 to CP3...\u001b[39m\n",
      "\tσ² = 0.008693, q = -3589.858398, EM steps taken = 7, reason for exit: variance below tol, time: 0.12245 min\n",
      "\tσ² =0.00869322002778381\n",
      "\u001b[33mAligning cage HC1 to CP4...\u001b[39m\n",
      "\tσ² = 0.012425, q = -4056.918338, EM steps taken = 30, reason for exit: max EM steps reached, time: 0.51935 min\n",
      "\tσ² =0.012425356489769834\n",
      "\u001b[33mAligning cage CD2 to CP3...\u001b[39m\n",
      "\tσ² = 0.009909, q = -3357.107481, EM steps taken = 11, reason for exit: variance below tol, time: 0.22643 min\n",
      "\tσ² =0.009909385088460265\n",
      "\u001b[33mAligning cage CC9 to CP1...\u001b[39m\n",
      "\tσ² = 0.018169, q = -3361.442735, EM steps taken = 30, reason for exit: max EM steps reached, time: 0.50326 min\n",
      "\tσ² =0.01816935658507176\n",
      "\u001b[33mAligning cage CC4 to CP3...\u001b[39m\n",
      "\tσ² = 0.009938, q = -3102.480090, EM steps taken = 30, reason for exit: variance below tol, time: 0.51164 min\n",
      "\tσ² =0.009938042490319883\n",
      "\u001b[33mAligning cage CC3 to CP3...\u001b[39m\n",
      "\tσ² = 0.009495, q = -2977.766910, EM steps taken = 17, reason for exit: variance below tol, time: 0.27781 min\n",
      "\tσ² =0.009494798987210742\n",
      "\u001b[33mAligning cage RCC3b to CP3...\u001b[39m\n",
      "\tσ² = 0.013310, q = -3440.134343, EM steps taken = 20, reason for exit: objective stopped decreasing, time: 0.32613 min\n",
      "\tσ² =0.01330962084968193\n",
      "\u001b[33mAligning cage RCC1d to CB5...\u001b[39m\n",
      "\tσ² = 0.024238, q = -3723.364449, EM steps taken = 30, reason for exit: max EM steps reached, time: 0.49661 min\n",
      "\tσ² =0.024238362943918672\n",
      "\u001b[33mAligning cage CC10 to CP1...\u001b[39m\n",
      "\tσ² = 0.008767, q = -1269.488314, EM steps taken = 5, reason for exit: variance below tol, time: 0.08634 min\n",
      "\tσ² =0.008767127510882954\n",
      "\u001b[33mAligning cage CD3 to CB7...\u001b[39m\n",
      "\tσ² = 0.026543, q = -2994.432262, EM steps taken = 30, reason for exit: max EM steps reached, time: 0.48964 min\n",
      "\tσ² =0.026543458075149223\n",
      "\u001b[33mAligning cage A11 to CD1...\u001b[39m\n",
      "\tσ² = 0.028142, q = -2618.847802, EM steps taken = 26, reason for exit: objective stopped decreasing, time: 0.42500 min\n",
      "\tσ² =0.028142344634004984\n",
      "\u001b[33mAligning cage B11 to CD1...\u001b[39m\n",
      "\tσ² = 0.024076, q = -2747.931489, EM steps taken = 30, reason for exit: max EM steps reached, time: 0.48867 min\n",
      "\tσ² =0.024076355013608768\n",
      "\u001b[33mAligning cage CC1 to CP4...\u001b[39m\n",
      "\tσ² = 0.008213, q = -2220.329997, EM steps taken = 4, reason for exit: variance below tol, time: 0.06825 min\n",
      "\tσ² =0.008213455598433332\n",
      "\u001b[33mAligning cage RCC1c to CB5...\u001b[39m\n",
      "\tσ² = 0.025968, q = -3551.966209, EM steps taken = 27, reason for exit: objective stopped decreasing, time: 0.42374 min\n",
      "\tσ² =0.025968035497628078\n",
      "\u001b[33mAligning cage B23 to CD1...\u001b[39m\n",
      "\tσ² = 0.020548, q = -2224.667427, EM steps taken = 30, reason for exit: max EM steps reached, time: 0.47150 min\n",
      "\tσ² =0.020547788528188903\n",
      "\u001b[33mAligning cage CC5 to CC1...\u001b[39m\n",
      "\tσ² = 0.019564, q = -1604.298228, EM steps taken = 30, reason for exit: max EM steps reached, time: 0.47850 min\n",
      "\tσ² =0.01956394969659929\n",
      "\u001b[33mAligning cage C11 to CB7...\u001b[39m\n",
      "\tσ² = 0.044102, q = -2512.935910, EM steps taken = 30, reason for exit: max EM steps reached, time: 0.48734 min\n",
      "\tσ² =0.0441016155050905\n",
      "\u001b[33mAligning cage C23 to CD1...\u001b[39m\n",
      "\tσ² = 0.023661, q = -2076.442217, EM steps taken = 30, reason for exit: max EM steps reached, time: 0.48989 min\n",
      "\tσ² =0.023660896350270983\n",
      "\u001b[33mAligning cage MC4 to CC1...\u001b[39m\n",
      "\tσ² = 0.036299, q = -2323.269017, EM steps taken = 19, reason for exit: objective stopped decreasing, time: 0.30216 min\n",
      "\tσ² =0.03629866521697568\n",
      "\u001b[33mAligning cage MC7 to CD1...\u001b[39m\n",
      "\tσ² = 0.008669, q = 1749.976480, EM steps taken = 23, reason for exit: variance below tol, time: 0.35501 min\n",
      "\tσ² =0.008669053956196876\n",
      "\u001b[33mAligning cage WC1 to CP4...\u001b[39m\n",
      "\tσ² = 0.009781, q = 1395.535056, EM steps taken = 4, reason for exit: variance below tol, time: 0.06746 min\n",
      "\tσ² =0.009780776097703286\n",
      "\u001b[33mAligning cage B15 to CC2...\u001b[39m\n",
      "\tσ² = 0.044423, q = -1916.189750, EM steps taken = 29, reason for exit: objective stopped decreasing, time: 0.47045 min\n",
      "\tσ² =0.04442298404922652\n",
      "\u001b[33mAligning cage MC5 to CD2...\u001b[39m\n",
      "\tσ² = 0.017601, q = -57.741557, EM steps taken = 30, reason for exit: max EM steps reached, time: 0.48512 min\n",
      "\tσ² =0.017601270025957395\n",
      "\u001b[33mAligning cage C15 to CC2...\u001b[39m\n",
      "\tσ² = 0.027326, q = -1262.916699, EM steps taken = 30, reason for exit: max EM steps reached, time: 0.48981 min\n",
      "\tσ² =0.027326130557319934\n",
      "\u001b[33mAligning cage B24 to CD3...\u001b[39m\n",
      "\tσ² = 0.048902, q = -1943.821943, EM steps taken = 15, reason for exit: objective stopped decreasing, time: 0.23912 min\n",
      "\tσ² =0.048901552992795284\n",
      "\u001b[33mAligning cage MC2 to HC1...\u001b[39m\n",
      "\tσ² = 0.043549, q = -1884.654397, EM steps taken = 30, reason for exit: max EM steps reached, time: 0.50278 min\n",
      "\tσ² =0.04354922151374073\n",
      "\u001b[33mAligning cage C24 to IC2...\u001b[39m\n",
      "\tσ² = 0.026403, q = -1028.642542, EM steps taken = 30, reason for exit: max EM steps reached, time: 0.49085 min\n",
      "\tσ² =0.026403216880121667\n",
      "\u001b[33mAligning cage DC1 to CP1...\u001b[39m\n",
      "\tσ² = 0.015742, q = 339.712377, EM steps taken = 30, reason for exit: max EM steps reached, time: 0.49001 min\n",
      "\tσ² =0.015741661145809\n",
      "\u001b[33mAligning cage MC1 to HC1...\u001b[39m\n",
      "\tσ² = 0.039922, q = -1463.173391, EM steps taken = 12, reason for exit: objective stopped decreasing, time: 0.19561 min\n",
      "\tσ² =0.039922154298829504\n",
      "\u001b[33mAligning cage B18 to RCC1d...\u001b[39m\n",
      "\tσ² = 0.073880, q = -1732.360703, EM steps taken = 9, reason for exit: objective stopped decreasing, time: 0.14576 min\n",
      "\tσ² =0.07388046518390123\n",
      "\u001b[33mAligning cage B25 to NC2...\u001b[39m\n",
      "\tσ² = 0.028123, q = -1105.215242, EM steps taken = 30, reason for exit: max EM steps reached, time: 0.47898 min\n",
      "\tσ² =0.028123464637059746\n",
      "\u001b[33mAligning cage C18 to CC4...\u001b[39m\n",
      "\tσ² = 0.042056, q = -1514.933474, EM steps taken = 20, reason for exit: objective stopped decreasing, time: 0.32550 min\n",
      "\tσ² =0.042056492150954\n",
      "\u001b[33mAligning cage C25 to CD3...\u001b[39m\n",
      "\tσ² = 0.019207, q = 1743.243931, EM steps taken = 30, reason for exit: max EM steps reached, time: 0.47793 min\n",
      "\tσ² =0.019206750046288107\n",
      "\u001b[33mAligning cage GC1 to RCC1d...\u001b[39m\n",
      "\tσ² = 0.068127, q = -1488.047625, EM steps taken = 30, reason for exit: max EM steps reached, time: 0.48794 min\n",
      "\tσ² =0.06812739623574514\n",
      "\u001b[33mAligning cage B26 to RCC1d...\u001b[39m\n",
      "\tσ² = 0.057110, q = -1616.749541, EM steps taken = 30, reason for exit: max EM steps reached, time: 0.56361 min\n",
      "\tσ² =0.057109602039491315\n",
      "\u001b[33mAligning cage IC1 to CC3...\u001b[39m\n",
      "\tσ² = 0.041871, q = -1129.779990, EM steps taken = 30, reason for exit: max EM steps reached, time: 0.58667 min\n",
      "\tσ² =0.041870906704693574\n",
      "\u001b[33mAligning cage C26 to RCC1d...\u001b[39m\n",
      "\tσ² = 0.040595, q = -1247.963225, EM steps taken = 19, reason for exit: objective stopped decreasing, time: 0.35491 min\n",
      "\tσ² =0.04059478130038739\n",
      "\u001b[33mAligning cage RCC1b to CB5...\u001b[39m\n",
      "\tσ² = 0.061175, q = -2554.227385, EM steps taken = 30, reason for exit: max EM steps reached, time: 0.57983 min\n",
      "\tσ² =0.06117516449849791\n",
      "\u001b[33mAligning cage MC6 to B24...\u001b[39m\n",
      "\tσ² = 0.052231, q = 420.532758, EM steps taken = 30, reason for exit: max EM steps reached, time: 0.54182 min\n",
      "\tσ² =0.052230965206248585\n",
      "\u001b[33mAligning cage RCC1a to CP4...\u001b[39m\n",
      "\tσ² = 0.092946, q = -1992.622787, EM steps taken = 30, reason for exit: max EM steps reached, time: 0.58175 min\n",
      "\tσ² =0.09294561976028065\n",
      "\u001b[33mAligning cage B1 to CP4...\u001b[39m\n",
      "\tσ² = 0.119653, q = -818.459707, EM steps taken = 24, reason for exit: objective stopped decreasing, time: 0.46711 min\n",
      "\tσ² =0.11965325899536607\n",
      "\u001b[33mAligning cage B2 to B1...\u001b[39m\n",
      "\tσ² = 0.027362, q = -3571.863501, EM steps taken = 30, reason for exit: max EM steps reached, time: 0.55262 min\n",
      "\tσ² =0.02736163956908331\n",
      "\u001b[33mAligning cage B9 to B2...\u001b[39m\n",
      "\tσ² = 0.026243, q = -3298.097387, EM steps taken = 30, reason for exit: max EM steps reached, time: 0.56710 min\n",
      "\tσ² =0.026242874137823793\n",
      "\u001b[33mAligning cage C8 to B2...\u001b[39m\n",
      "\tσ² = 0.019137, q = -3218.437297, EM steps taken = 30, reason for exit: max EM steps reached, time: 0.55527 min\n",
      "\tσ² =0.019136596976965545\n",
      "\u001b[33mAligning cage C2 to B1...\u001b[39m\n",
      "\tσ² = "
     ]
    }
   ],
   "source": [
    "@load \"rotational_inertia_aligned_cages.jld2\"\n",
    "aligned = Dict(cage => (cage in rotational_inertia_aligned_cages) for cage in cages)\n",
    "# rotation_matrix_applied = Dict(cage => diagm(0 => [1.0, 1.0, 1.0]) for cage in cages) # diagonal matrix applied\n",
    "\n",
    "nb_pts_in_pt_cloud = 1000\n",
    "\n",
    "while sum([! aligned[cage] for cage in cages]) > 0\n",
    "    ###\n",
    "    #  remake list of aligned and unaligned cages\n",
    "    ###\n",
    "    aligned_cages = cages[[aligned[cage] for cage in cages]] # cage_x's since these will not be rotated\n",
    "    unaligned_cages = cages[[! aligned[cage] for cage in cages]] # cage_y's since all are to be rotated\n",
    "    \n",
    "    ###\n",
    "    #  loop thru all possible (unaligned_cages, aligned_cages) pairs to align\n",
    "    #     select pair to align via min -ve log likelihood in coherent point drift algo\n",
    "    ###\n",
    "    cage_y, cage_x = find_pair_to_align(unaligned_cages, aligned_cages)\n",
    "    printstyled(@sprintf(\"Aligning cage %s to %s...\\n\", cage_y, cage_x), color=:yellow)\n",
    "    @assert cage_x in aligned_cages\n",
    "    @assert cage_y in unaligned_cages\n",
    "    \n",
    "    # read in cage_x from its final aligned position (this is an aligned cage!)\n",
    "    atoms_x, x = read_final_aligned_cage(cage_x)\n",
    "    x_pt_cloud = generate_porosity_point_cloud(atoms_x, x, nb_pts_in_pt_cloud, \n",
    "                                               nothing, gaussian_scaler=5.0)\n",
    "    \n",
    "    atoms_y, y = read_rotational_inertia_aligned_cage(cage_y)\n",
    "    \n",
    "#     # best guess for the rotation matrix, perform rotation now.\n",
    "#     R, σ², ℓ = read_jld_file_results(cage_y, cage_x) # but cage_X may hv been transformed previously!\n",
    "#     rotation_matrix_applied[cage_y] = R\n",
    "#     y = R * rotation_matrix_applied[cage_x] * y # overwrite y with best guess for rotation\n",
    "    \n",
    "    y_pt_cloud = generate_porosity_point_cloud(atoms_y, y, nb_pts_in_pt_cloud, \n",
    "                                               nothing, gaussian_scaler=5.0)\n",
    "    \n",
    "    # transformation is applied to the unaligned cage!\n",
    "    R, t, σ², ℓ = CoherentPointDrift.rigid_point_set_registration(x_pt_cloud, y_pt_cloud, verbose=false,\n",
    "                       w=0.0, σ²_tol=0.01, q_tol=0.1, max_nb_em_steps=30, print_ending=true)\n",
    "    \n",
    "    println(\"\\tσ² =\", σ²)\n",
    "#     write_final_aligned_cage(atoms_y, R * rotation_matrix_applied[cage_x] * y, cage_y)\n",
    "    write_final_aligned_cage(atoms_y, R * y, cage_y)\n",
    "    \n",
    "    aligned[cage_y] = true\n",
    "end"
   ]
  },
  {
   "cell_type": "markdown",
   "metadata": {},
   "source": [
    "some quick testing"
   ]
  },
  {
   "cell_type": "code",
   "execution_count": 18,
   "metadata": {},
   "outputs": [
    {
     "name": "stdout",
     "output_type": "stream",
     "text": [
      "\tEM step: 1\n",
      "\t\tobjective: 18402.060571107446\n",
      "\t\tσ² = 1.492326237511174\n",
      "\tEM step: 2\n",
      "\t\tobjective: 10449.044870983\n",
      "\t\tσ² = 0.7043175096573946\n",
      "\tEM step: 3\n",
      "\t\tobjective: 3256.2527452541653\n",
      "\t\tσ² = 0.26348590756512374\n",
      "\tEM step: 4\n",
      "\t\tobjective: -4034.2150143792005\n",
      "\t\tσ² = 0.12463334255387065\n",
      "\tEM step: 5\n",
      "\t\tobjective: -9208.048990139023\n",
      "\t\tσ² = 0.07152371867097487\n",
      "\tEM step: 6\n",
      "\t\tobjective: -13017.741121099516\n",
      "\t\tσ² = 0.046911359281435826\n",
      "\tEM step: 7\n",
      "\t\tobjective: -15847.911421277868\n",
      "\t\tσ² = 0.03425065980486494\n",
      "\tEM step: 8\n",
      "\t\tobjective: -17902.213482401246\n",
      "\t\tσ² = 0.02736418147779914\n",
      "\tEM step: 9\n",
      "\t\tobjective: -19327.595191113476\n",
      "\t\tσ² = 0.023528190148661574\n",
      "\tEM step: 10\n",
      "\t\tobjective: -20261.765549843014\n",
      "\t\tσ² = 0.02138136708969396\n",
      "\tEM step: 11\n",
      "\t\tobjective: -20841.446606378468\n",
      "\t\tσ² = 0.020188632412958638\n",
      "\tEM step: 12\n",
      "\t\tobjective: -21184.79936885246\n",
      "\t\tσ² = 0.019534199878927513\n",
      "\tEM step: 13\n",
      "\t\tobjective: -21381.146846777854\n",
      "\t\tσ² = 0.01918007740318523\n",
      "\tEM step: 14\n",
      "\t\tobjective: -21490.821757717436\n",
      "\t\tσ² = 0.018993090198545542\n",
      "\tEM step: 15\n",
      "\t\tobjective: -21550.69224810109\n",
      "\t\tσ² = 0.018900646919201243\n",
      "\tEM step: 16\n",
      "\t\tobjective: -21581.79950205647\n",
      "\t\tσ² = 0.01886301384459851\n",
      "\tEM step: 17\n",
      "\t\tobjective: -21595.97035291796\n",
      "\t\tσ² = 0.018857755646907025\n",
      "\tEM step: 18\n",
      "\t\tobjective: -21600.006727775326\n",
      "\t\tσ² = 0.01887180815988686\n",
      "\tEM step: 19\n",
      "\t\tobjective: -21597.92596313487\n",
      "\t\tσ² = 0.018897426318915677\n",
      "\tEM step: 20\n",
      "\t\tobjective: -21592.136480486653\n",
      "\t\tσ² = 0.018929964003771116\n",
      "\tEM step: 21\n",
      "\t\tobjective: -21584.095688546287\n",
      "\t\tσ² = 0.01896658237068041\n",
      "\tEM step: 22\n",
      "\t\tobjective: -21574.699558700737\n",
      "\t\tσ² = 0.019005483865569113\n",
      "\tEM step: 23\n",
      "\t\tobjective: -21564.51685400503\n",
      "\t\tσ² = 0.019045464272762668\n",
      "\tEM step: 24\n",
      "\t\tobjective: -21553.92767409034\n",
      "\t\tσ² = 0.019085659784790186\n",
      "\tEM step: 25\n",
      "\t\tobjective: -21543.202598657434\n",
      "\t\tσ² = 0.019125411376047122\n",
      "\tEM step: 26\n",
      "\t\tobjective: -21532.54578847815\n",
      "\t\tσ² = 0.019164196882427497\n",
      "\tEM step: 27\n",
      "\t\tobjective: -21522.117116157915\n",
      "\t\tσ² = 0.01920159963206679\n",
      "\tEM step: 28\n",
      "\t\tobjective: -21512.0428498339\n",
      "\t\tσ² = 0.01923729469031144\n",
      "\tEM step: 29\n",
      "\t\tobjective: -21502.420698003836\n",
      "\t\tσ² = 0.019271041836624984\n",
      "\tEM step: 30\n",
      "\t\tobjective: -21493.32256552945\n",
      "\t\tσ² = 0.019302679615902405\n",
      "\tσ² = 0.019303, q = -21493.322566, EM steps taken = 30, reason for exit: max EM steps reached, time: 11.66625 min\n"
     ]
    }
   ],
   "source": [
    "cage_x = \"B1\"\n",
    "cage_y = \"B2\"\n",
    "\n",
    "atoms_x, x = read_rotational_inertia_final_aligned_cage(cage_x)\n",
    "x_pt_cld = read_porosity_pt_cloud_rot_aligned(cage_x)\n",
    "atoms_y, y = read_rotational_inertia_final_aligned_cage(cage_y)\n",
    "y_pt_cld = read_porosity_pt_cloud_rot_aligned(cage_y)\n",
    "\n",
    "R, t, σ², ℓ = CoherentPointDrift.rigid_point_set_registration(x_pt_cld ,y_pt_cld, verbose=true,\n",
    "            w=0.0, σ²_tol=0.01, q_tol=1.0, max_nb_em_steps=30, print_ending=true)\n",
    "\n",
    "write_xyz(atoms_y, R * y, cage_y * \"_aligned_to_\" * cage_x)"
   ]
  },
  {
   "cell_type": "code",
   "execution_count": 28,
   "metadata": {},
   "outputs": [
    {
     "data": {
      "text/plain": [
       "([0.999909 0.01221 -0.00568276; -0.00427578 0.687938 0.725757; 0.0127709 -0.725667 0.687928], 0.017039375837873377, -22253.44361630675)"
      ]
     },
     "execution_count": 28,
     "metadata": {},
     "output_type": "execute_result"
    }
   ],
   "source": [
    "R_, σ², ℓ = read_jld_file_results(\"B2\", \"B1\")"
   ]
  },
  {
   "cell_type": "code",
   "execution_count": 27,
   "metadata": {},
   "outputs": [
    {
     "data": {
      "text/plain": [
       "3×3 Array{Float64,2}:\n",
       "  0.999858     0.00376881  0.0164155\n",
       " -0.0145607    0.683284    0.730007 \n",
       " -0.00846522  -0.730143    0.683242 "
      ]
     },
     "execution_count": 27,
     "metadata": {},
     "output_type": "execute_result"
    }
   ],
   "source": [
    "R"
   ]
  },
  {
   "cell_type": "code",
   "execution_count": 29,
   "metadata": {},
   "outputs": [],
   "source": [
    "write_xyz(atoms_y, R_ * y, cage_y * \"_aligned_to_\" * cage_x)"
   ]
  },
  {
   "cell_type": "code",
   "execution_count": null,
   "metadata": {},
   "outputs": [],
   "source": []
  }
 ],
 "metadata": {
  "kernelspec": {
   "display_name": "Julia 1.0.1",
   "language": "julia",
   "name": "julia-1.0"
  },
  "language_info": {
   "file_extension": ".jl",
   "mimetype": "application/julia",
   "name": "julia",
   "version": "1.0.1"
  }
 },
 "nbformat": 4,
 "nbformat_minor": 2
}
