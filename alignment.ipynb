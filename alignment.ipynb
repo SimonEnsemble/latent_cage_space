{
 "cells": [
  {
   "cell_type": "code",
   "execution_count": 1,
   "metadata": {},
   "outputs": [],
   "source": [
    "using PorousMaterials # Pkg.clone(\"https://github.com/SimonEnsemble/PorousMaterials.jl\", \"v0.1.1\")\n",
    "using DelimitedFiles\n",
    "using LinearAlgebra\n",
    "using JLD2\n",
    "using CoherentPointDrift\n",
    "import Bio3DView\n",
    "using Printf\n",
    "import PyPlot\n",
    "using Random\n",
    "Random.seed!(1337); # set random number seed for complete reproducibility"
   ]
  },
  {
   "cell_type": "markdown",
   "metadata": {},
   "source": [
    "# Database of cages\n",
    "\n",
    "Cage database CDB41 (41 cages) from [here](https://github.com/marcinmiklitz/CDB41). Cleaned of solvent. Thanks to Kim Jelfs and M. Miklitz for kindly providing the cages.\n",
    "\n",
    "Reference:\n",
    "> M. Miklitz, S. Jiang, R. Clowes, M. E. Briggs, A. I. Cooper and K. E. Jelfs, Computational Screening of Porous Organic Molecules for Xenon/Krypton Separation, J. Phys. Chem. C, 2017. DOI: 10.1021/acs.jpcc.7b03848\n",
    "\n",
    "Other set of 33 cages from the .xyz files deposited as ESI of DOI 10.1038/s41467-018-05271-9\n",
    "\n",
    "> R. L. Greenaway, V. Santolini, M. J. Bennison, B. M. Alston, C. J. Pugh, M. A. Little, M. Miklitz, E. G. B. Eden-Rump, R. Clowes, A. Shakil, H. J. Cuthbertson, H. Armstrong, M. E. Briggs, K. E. Jelfs & A. I. Cooper. High-throughput discovery of organic cages and catenanes using computational screening fused with robotic synthesis. Nature Communications, 2018. DOI: 10.1038/s41467-018-05271-9\n",
    "                                                              \n",
    "I manually looked at Fig 4 in the main text and selected those that were synthesized. Some cages required visualization to compare to Fig 4 since e.g. there are multiple versions of B23, a few of which were apparently not synthesized but only computational predictions.\n",
    "\n",
    "The `.xyz` files describing the molecular structure of all of these cages are in the directory `all_cages`."
   ]
  },
  {
   "cell_type": "code",
   "execution_count": 2,
   "metadata": {},
   "outputs": [],
   "source": [
    "cages = readdlm(\"all_cages/all_cages.txt\", String)[:];"
   ]
  },
  {
   "cell_type": "markdown",
   "metadata": {},
   "source": [
    "# Center cages\n",
    "\n",
    "The center of mass will be set to be the origin.\n",
    "Each cage will be rotated such that it is aligned with its principle moments of inertia.\n",
    "i.e. the moment of inertia matrix of an \"aligned\" cage is diagonal.\n",
    "\n",
    "\n",
    "First, a function to compute the center of mass of a group of `atoms` at Cartesian coordinates `x`, stored in the columns."
   ]
  },
  {
   "cell_type": "code",
   "execution_count": 3,
   "metadata": {},
   "outputs": [
    {
     "data": {
      "text/plain": [
       "center_of_mass (generic function with 1 method)"
      ]
     },
     "execution_count": 3,
     "metadata": {},
     "output_type": "execute_result"
    }
   ],
   "source": [
    "function center_of_mass(atoms::Array{Symbol, 1}, x::Array{Float64, 2})\n",
    "    ams = read_atomic_masses()\n",
    "    com = [0.0, 0.0, 0.0]\n",
    "    total_mass = 0.0\n",
    "    for (i, atom) in enumerate(atoms)\n",
    "        com += ams[atom] * x[:, i]\n",
    "        total_mass += ams[atom]\n",
    "    end\n",
    "    return com / total_mass\n",
    "end"
   ]
  },
  {
   "cell_type": "code",
   "execution_count": 4,
   "metadata": {},
   "outputs": [
    {
     "data": {
      "text/plain": [
       "centered_cage_coords (generic function with 1 method)"
      ]
     },
     "execution_count": 4,
     "metadata": {},
     "output_type": "execute_result"
    }
   ],
   "source": [
    "function centered_cage_coords(cage::AbstractString)\n",
    "    # read in raw .xyz from `all_cages`\n",
    "    atoms, x = read_xyz(\"all_cages/\" * cage * \".xyz\")\n",
    "    \n",
    "    # compute center of mass\n",
    "    x_com = center_of_mass(atoms, x)\n",
    "    \n",
    "    # shift coords so that cage is centered\n",
    "    x = x .- x_com\n",
    "    \n",
    "    # write centered cage coords\n",
    "    write_xyz(atoms, x, \"centered_cages/\" * cage * \".xyz\")\n",
    "    \n",
    "    return atoms, x\n",
    "end"
   ]
  },
  {
   "cell_type": "markdown",
   "metadata": {},
   "source": [
    "# Porosity point clouds"
   ]
  },
  {
   "cell_type": "code",
   "execution_count": 5,
   "metadata": {},
   "outputs": [
    {
     "data": {
      "text/plain": [
       "generate_porosity_point_cloud (generic function with 1 method)"
      ]
     },
     "execution_count": 5,
     "metadata": {},
     "output_type": "execute_result"
    }
   ],
   "source": [
    "function generate_porosity_point_cloud(atoms::Array{Symbol, 1}, \n",
    "                                       x::Array{Float64, 2}, \n",
    "                                       nb_pts_in_porosity_cloud::Int, \n",
    "                                       snapshot_radius::Union{Nothing, Float64};\n",
    "                                       gaussian_scaler::Float64=3.0)\n",
    "    # store points in void space here.\n",
    "    x_porosity_cloud = zeros(3, nb_pts_in_porosity_cloud)\n",
    "\n",
    "    # determine if void space via potential energy of He\n",
    "    he = Molecule(\"He\")\n",
    "    ljff = LJForceField(\"UFF.csv\", cutoffradius=14.0, mixing_rules=\"geometric\")\n",
    "    ljspheres = Atoms(atoms, x)\n",
    "\n",
    "    # compute radius of the molecule; this determines variance of Gaussian if snapshot size not provided\n",
    "    if snapshot_radius == nothing\n",
    "        snapshot_radius = maximum([norm(x[:, a]) for a = 1:length(atoms)])\n",
    "    end\n",
    "    \n",
    "    n_hits = 0\n",
    "    while n_hits < nb_pts_in_porosity_cloud\n",
    "        # bias insertions towards center\n",
    "        x_insert = randn(3) * snapshot_radius / gaussian_scaler # scale smaller to bias describing core more.\n",
    "        if norm(x_insert) > snapshot_radius\n",
    "            continue\n",
    "        end\n",
    "\n",
    "        # put helium at this grid pt\n",
    "        translate_to!(he, x_insert)\n",
    "\n",
    "        # compute potential energy of He adsorbate here\n",
    "        energy = vdw_energy_no_PBC(he, ljspheres, ljff)\n",
    "\n",
    "        if energy < 298.0\n",
    "            n_hits += 1\n",
    "            x_porosity_cloud[:, n_hits] = x_insert\n",
    "        end\n",
    "    end\n",
    "    \n",
    "    return x_porosity_cloud\n",
    "end\n",
    "\n",
    "# atoms, x = centered_cage_coords(\"B1\")\n",
    "# x = generate_porosity_point_cloud(atoms, x, 10000, nothing)\n",
    "# write_xyz([:H for i = 1:10000], x, \"test.xyz\")"
   ]
  },
  {
   "cell_type": "markdown",
   "metadata": {},
   "source": [
    "# Rotate to align principal axes of rotation with Cartesian axes"
   ]
  },
  {
   "cell_type": "markdown",
   "metadata": {},
   "source": [
    "Next, a function to compute the moment of inertia matrix of a group of `atoms` at Cartesian positions `x`. \n",
    "\n",
    "See <a href=\"https://chem.libretexts.org/Textbook_Maps/Physical_and_Theoretical_Chemistry_Textbook_Maps/Map%3A_Physical_Chemistry_(McQuarrie_and_Simon)/13%3A_Molecular_Spectroscopy/13-08._The_Rotational_Spectrum_of_a_Polyatomic_Molecule_Depends_Upon_the_Principal_Moments_of_Inertia_of_the_Molecule\">Chemistry Libre Texts</a> moment of inertia formulas."
   ]
  },
  {
   "cell_type": "code",
   "execution_count": 6,
   "metadata": {},
   "outputs": [
    {
     "data": {
      "text/plain": [
       "moment_of_inertia (generic function with 1 method)"
      ]
     },
     "execution_count": 6,
     "metadata": {},
     "output_type": "execute_result"
    }
   ],
   "source": [
    "function moment_of_inertia(x::Array{Float64, 2})\n",
    "    # moment of inertia matrix `mi`\n",
    "    mi = zeros(Float64, 3, 3)\n",
    "    for i = 1:3\n",
    "        for j = 1:3\n",
    "            for a = 1:size(x)[2]\n",
    "                if i == j\n",
    "                    ids = collect(setdiff(Set([1, 2, 3]), Set([i])))\n",
    "                    mi[i, j] += sum(x[ids, a] .^ 2)\n",
    "                else\n",
    "                    mi[i, j] -= x[i, a] * x[j, a]\n",
    "                end\n",
    "            end\n",
    "        end\n",
    "    end\n",
    "    \n",
    "    # should be symmetric!\n",
    "    @assert isapprox(mi, mi')\n",
    "        \n",
    "    return mi\n",
    "end"
   ]
  },
  {
   "cell_type": "code",
   "execution_count": 7,
   "metadata": {},
   "outputs": [
    {
     "data": {
      "text/plain": [
       "viewcage (generic function with 1 method)"
      ]
     },
     "execution_count": 7,
     "metadata": {},
     "output_type": "execute_result"
    }
   ],
   "source": [
    "viewcage(cage::AbstractString) = Bio3DView.viewfile(\"final_aligned_cages/\" * cage * \".xyz\", \"xyz\")"
   ]
  },
  {
   "cell_type": "code",
   "execution_count": 8,
   "metadata": {},
   "outputs": [
    {
     "data": {
      "text/plain": [
       "read_rotational_inertia_final_aligned_cage (generic function with 1 method)"
      ]
     },
     "execution_count": 8,
     "metadata": {},
     "output_type": "execute_result"
    }
   ],
   "source": [
    "write_final_aligned_cage(atoms::Array{Symbol, 1}, x::Array{Float64, 2}, cage::AbstractString) = write_xyz(atoms, x, \"final_aligned_cages/\" * cage * \".xyz\")\n",
    "read_final_aligned_cage(cage::AbstractString) = read_xyz(atoms, x, \"final_aligned_cages/\" * cage * \".xyz\")\n",
    "\n",
    "write_rotational_inertia_aligned_cage(atoms::Array{Symbol, 1}, x::Array{Float64, 2}, cage::AbstractString) = write_xyz(atoms, x, \"rotational_inertia_aligned_cages/\" * cage * \".xyz\")\n",
    "read_rotational_inertia_final_aligned_cage(cage::AbstractString) = read_xyz(\"rotational_inertia_aligned_cages/\" * cage * \".xyz\")"
   ]
  },
  {
   "cell_type": "code",
   "execution_count": null,
   "metadata": {},
   "outputs": [
    {
     "name": "stdout",
     "output_type": "stream",
     "text": [
      "\u001b[31mA11 has nearly degenerate axes of inertia\u001b[39m\n",
      "\u001b[31mB11 has nearly degenerate axes of inertia\u001b[39m\n"
     ]
    }
   ],
   "source": [
    "nb_pts_in_pt_cloud = 100000\n",
    "\n",
    "aligned = Dict(cage => false for cage in cages)\n",
    "\n",
    "for cage in cages\n",
    "    # read in centered cage\n",
    "    atoms, x = centered_cage_coords(cage)\n",
    "    \n",
    "    # generate porosity point cloud\n",
    "    x_pt_cloud = generate_porosity_point_cloud(atoms, x, nb_pts_in_pt_cloud, nothing) # use radius of molecule for this.\n",
    "    write_xyz([:H for i = 1:nb_pts_in_pt_cloud], x_pt_cloud, \n",
    "        \"centered_cages/porosity_point_clouds/\" * cage * \".xyz\")\n",
    "    \n",
    "    # diagnomize moment of inertia matrix\n",
    "    mi = moment_of_inertia(x_pt_cloud)\n",
    "    λ, v = eigen(mi) # columns of v are eigenvalues\n",
    "    ids = sortperm(λ, rev=true) # sort eigenvalues from large to small.\n",
    "    λ = λ[ids]\n",
    "    v = v[:, ids]\n",
    "    # tests out of paranoia\n",
    "    @assert(isapprox(mi * v, v * diagm(0 => λ)), \"eigenvectors not right\")\n",
    "    @assert(isapprox([norm(v[:, i]) for i = 1:3], ones(3)), \"eigenvectors not unit vectors\")\n",
    "    @assert(isapprox(mi, v * diagm(0 => λ) * v'))\n",
    "    # `v` is a rotation matrix b/c `mi` is symmetric and the columns are orthonormal\n",
    "    # i.e. `v` is a unitary matrix. now use it to rotate x to align with principle axes of rotation\n",
    "    @assert(isapprox(v' * v, Diagonal{Float64}(I, 3)), \"v is not unitary...\")\n",
    "    @assert (λ[1] >= λ[2]) & (λ[2] >= λ[3])\n",
    "    \n",
    "    # align principal axes of rotation of the cage with the Cartesian axes\n",
    "    write_rotational_inertia_aligned_cage(atoms, v' * x, cage)\n",
    "    \n",
    "    # look for degeneracy\n",
    "    xy_symmetry = isapprox(λ[1], λ[2], rtol=0.01) # can use rtol b/c fixed # pts now.\n",
    "    yz_symmetry = isapprox(λ[2], λ[3], rtol=0.01)\n",
    "    if xy_symmetry || yz_symmetry\n",
    "        printstyled(cage * \" has nearly degenerate axes of inertia\\n\", color=:red)\n",
    "    else\n",
    "        aligned[cage] = true\n",
    "        write_final_aligned_cage(atoms, v' * x, cage)\n",
    "        printstyled(cage * \" has unique axes of inertia\\n\", color=:green)\n",
    "    end\n",
    "end"
   ]
  },
  {
   "cell_type": "markdown",
   "metadata": {},
   "source": [
    "Write to file list of cages where principal axes of inertia are authoratative on how to align."
   ]
  },
  {
   "cell_type": "code",
   "execution_count": null,
   "metadata": {},
   "outputs": [],
   "source": [
    "rotational_inertia_aligned_cages = cages[[aligned[cage] for cage in cages]]\n",
    "@save \"rotational_inertia_aligned_cages.jld2\" rotational_inertia_aligned_cages"
   ]
  },
  {
   "cell_type": "markdown",
   "metadata": {},
   "source": [
    "# Rigid point set registration to align cages consistently where moments of inertia about principal axes are nearly degenerate"
   ]
  },
  {
   "cell_type": "code",
   "execution_count": null,
   "metadata": {},
   "outputs": [],
   "source": []
  },
  {
   "cell_type": "markdown",
   "metadata": {},
   "source": [
    "Write porosity point clouds of rotational-inertia-aligned cages for further alignment where principal axes are nearly dgenerate. Store in `rotational_inertia_aligned_cages/porosity_point_clouds`."
   ]
  },
  {
   "cell_type": "code",
   "execution_count": null,
   "metadata": {},
   "outputs": [],
   "source": [
    "read_porosity_pt_cloud_rot_aligned(cage::AbstractString) = read_xyz(\"rotational_inertia_aligned_cages/porosity_point_clouds/\" * cage * \".xyz\")[2]\n",
    "write_porosity_pt_cloud_rot_aligned(x_pt_cloud::Array{Float64, 2}, cage::AbstractString) = write_xyz(\n",
    "    [:H for i = 1:nb_pts_in_pt_cloud], \n",
    "    x_pt_cloud, \n",
    "    \"rotational_inertia_aligned_cages/porosity_point_clouds/\" * cage * \".xyz\")"
   ]
  },
  {
   "cell_type": "code",
   "execution_count": null,
   "metadata": {},
   "outputs": [],
   "source": [
    "nb_pts_in_pt_cloud = 5000\n",
    "\n",
    "porosity_point_clouds = Dict{AbstractString, Array{Float64, 2}}()\n",
    "\n",
    "# use same dist'n of points for this one to compare cages easily\n",
    "for cage in cages\n",
    "    atoms, x = read_rotational_inertia_final_aligned_cage(cage)\n",
    "    \n",
    "    porosity_point_clouds[cage] = generate_porosity_point_cloud(atoms, x, nb_pts_in_pt_cloud, nothing, gaussian_scaler=5.0)\n",
    "    \n",
    "    write_porosity_pt_cloud_rot_aligned(porosity_point_clouds[cage], cage)\n",
    "end"
   ]
  },
  {
   "cell_type": "code",
   "execution_count": null,
   "metadata": {},
   "outputs": [],
   "source": [
    "function find_pair_to_align(cage_ys::Array{String, 1}, cage_xs::Array{String, 1})\n",
    "    # look at all possible pairs\n",
    "    pairz = Tuple{String, String}[]\n",
    "    ℓs = Float64[]\n",
    "    for cage_y in cage_ys\n",
    "        for cage_x in cage_xs\n",
    "            if cage_y == cage_x\n",
    "                continue\n",
    "            end\n",
    "            \n",
    "            jldfilename = jldopen(@sprintf(\"cpd_results/align_%s_to_%s.jld2\", cage_y, cage_x))\n",
    "            ℓ = read(jldfilename, \"ℓ\")\n",
    "            close(jldfilename)\n",
    "            \n",
    "            push!(ℓs, ℓ)\n",
    "            push!(pairz, (cage_y, cage_x))\n",
    "        end\n",
    "    end\n",
    "    best_pair = pairz[argmin(ℓs)]\n",
    "    return best_pair[1], best_pair[2]\n",
    "end"
   ]
  },
  {
   "cell_type": "code",
   "execution_count": null,
   "metadata": {},
   "outputs": [],
   "source": [
    "aligned = Dict(cage => false for cage in cages)\n",
    "nb_pts_in_pt_cloud = 500\n",
    "\n",
    "cage_y, cage_x = find_pair_to_align(cages, cages)\n",
    "aligned[cage_x] = true\n",
    "\n",
    "while sum([! aligned[cage] for cage in cages]) > 0\n",
    "    \n",
    "    aligned_cages = cages[[aligned[cage] for cage in cages]]\n",
    "    unaligned_cages = cages[[! aligned[cage] for cage in cages]]\n",
    "    \n",
    "    cage_y, cage_x = find_pair_to_align(unaligned_cages, aligned_cages)\n",
    "    printstyled(@sprintf(\"Aligning cage %s to %s...\\n\", cage_y, cage_x), color=:yellow)\n",
    "    \n",
    "    atoms_x, x = read_rotational_inertia_final_aligned_cage(cage_x)\n",
    "    x_pt_cloud = generate_porosity_point_cloud(atoms_x, x, nb_pts_in_pt_cloud, nothing)\n",
    "    \n",
    "    atoms_y, y = read_rotational_inertia_final_aligned_cage(cage_y)\n",
    "    y_pt_cloud = generate_porosity_point_cloud(atoms_y, y, nb_pts_in_pt_cloud, nothing)\n",
    "    \n",
    "    # transformation is applied not to reference cage but the unaligned cage!\n",
    "    R, t, σ², ℓ = CoherentPointDrift.rigid_point_set_registration(x_pt_cloud, y_pt_cloud, verbose=false,\n",
    "        w=0.0, σ²_tol=0.1, q_tol=1.0, max_nb_em_steps=25, print_ending=true)\n",
    "    \n",
    "    write_final_aligned_cage(atoms_y, R * y, cage_y)\n",
    "    \n",
    "    aligned[cage_y] = true\n",
    "end"
   ]
  },
  {
   "cell_type": "code",
   "execution_count": null,
   "metadata": {},
   "outputs": [],
   "source": [
    "for cage in cages\n",
    "    # if cage aligned uniquely with axes of inertia, carry on to the next cage.\n",
    "    if aligned[cage]\n",
    "        printstyled(cage * \" aligned via principal axes of inertia\\n\", color=:yellow)\n",
    "        continue\n",
    "    end\n",
    "    \n",
    "    # cage is unaligned. find best to align to among already-aligned cages\n",
    "    printstyled(\"Aligning \" * cage * \" to ...\", color=:green)\n",
    "\n",
    "    aligned_cages = cages[[aligned[cage] for cage in cages]]\n",
    "\n",
    "    # find best cage to align to\n",
    "    align_to = find_best_cage_to_align_to(cage, aligned_cages, read_from_file=true)# , cage_names=aligned_cages)\n",
    "    printstyled(align_to * \"\\n\", color=:red)\n",
    "    println(\"\\tCoherent point drift params: \")\n",
    "    \n",
    "    x = read_porosity_pt_cloud_rot_aligned(align_to)\n",
    "    y = read_porosity_pt_cloud_rot_aligned(cage)\n",
    "    \n",
    "    R, t, σ², ℓ = CoherentPointDrift.rigid_point_set_registration(x, y, verbose=false,\n",
    "            w=0.0, σ²_tol=0.1, q_tol=1.0, max_nb_em_steps=25, print_ending=true)\n",
    "    \n",
    "    atoms, y = centered_cage_coords(cage)\n",
    "    write_final_aligned_cage(atoms, R * y, cage)\n",
    "    aligned[cage] = true\n",
    "end"
   ]
  },
  {
   "cell_type": "code",
   "execution_count": null,
   "metadata": {},
   "outputs": [],
   "source": [
    "# cage_x = \"B2\"\n",
    "# cage_y = \"C2\"\n",
    "\n",
    "# atoms_x, x = read_rotational_inertia_final_aligned_cage(cage_x)\n",
    "# x_pt_cld = generate_porosity_point_cloud(atoms_x, x, 5000, nothing)\n",
    "# atoms_y, y = read_rotational_inertia_final_aligned_cage(cage_y)\n",
    "# y_pt_cld = generate_porosity_point_cloud(atoms_y, y, 5000, nothing)\n",
    "\n",
    "# R, t, σ², ℓ = CoherentPointDrift.rigid_point_set_registration(x_pt_cld ,y_pt_cld, verbose=true,\n",
    "#             w=0.0, σ²_tol=0.1, q_tol=1.0, max_nb_em_steps=25, print_ending=true)\n",
    "\n",
    "# write_final_aligned_cage(atoms_y, R * y, cage_y)"
   ]
  },
  {
   "cell_type": "code",
   "execution_count": null,
   "metadata": {},
   "outputs": [],
   "source": []
  }
 ],
 "metadata": {
  "kernelspec": {
   "display_name": "Julia 1.0.1",
   "language": "julia",
   "name": "julia-1.0"
  },
  "language_info": {
   "file_extension": ".jl",
   "mimetype": "application/julia",
   "name": "julia",
   "version": "1.0.1"
  }
 },
 "nbformat": 4,
 "nbformat_minor": 2
}
