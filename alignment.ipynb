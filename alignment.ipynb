{
 "cells": [
  {
   "cell_type": "code",
   "execution_count": 1,
   "metadata": {},
   "outputs": [],
   "source": [
    "using PorousMaterials # Pkg.clone(\"https://github.com/SimonEnsemble/PorousMaterials.jl\", \"v0.1.1\")\n",
    "using DelimitedFiles\n",
    "using LinearAlgebra\n",
    "using JLD2\n",
    "using CoherentPointDrift\n",
    "import Bio3DView\n",
    "using Printf\n",
    "import PyPlot\n",
    "using Random"
   ]
  },
  {
   "cell_type": "markdown",
   "metadata": {},
   "source": [
    "# Database of cages\n",
    "\n",
    "Cage database CDB41 (41 cages) from [here](https://github.com/marcinmiklitz/CDB41). Cleaned of solvent. Thanks to Kim Jelfs and M. Miklitz for kindly providing the cages.\n",
    "\n",
    "Reference:\n",
    "> M. Miklitz, S. Jiang, R. Clowes, M. E. Briggs, A. I. Cooper and K. E. Jelfs, Computational Screening of Porous Organic Molecules for Xenon/Krypton Separation, J. Phys. Chem. C, 2017. DOI: 10.1021/acs.jpcc.7b03848\n",
    "\n",
    "Other set of 33 cages from the .xyz files deposited as ESI of DOI 10.1038/s41467-018-05271-9\n",
    "\n",
    "> R. L. Greenaway, V. Santolini, M. J. Bennison, B. M. Alston, C. J. Pugh, M. A. Little, M. Miklitz, E. G. B. Eden-Rump, R. Clowes, A. Shakil, H. J. Cuthbertson, H. Armstrong, M. E. Briggs, K. E. Jelfs & A. I. Cooper. High-throughput discovery of organic cages and catenanes using computational screening fused with robotic synthesis. Nature Communications, 2018. DOI: 10.1038/s41467-018-05271-9\n",
    "                                                              \n",
    "I manually looked at Fig 4 in the main text and selected those that were synthesized. Some cages required visualization to compare to Fig 4 since e.g. there are multiple versions of B23, a few of which were apparently not synthesized but only computational predictions.\n",
    "\n",
    "The `.xyz` files describing the molecular structure of all of these cages are in the directory `all_cages`."
   ]
  },
  {
   "cell_type": "code",
   "execution_count": 2,
   "metadata": {},
   "outputs": [],
   "source": [
    "cages = readdlm(\"all_cages/all_cages.txt\", String)[:];"
   ]
  },
  {
   "cell_type": "markdown",
   "metadata": {},
   "source": [
    "# Center cages\n",
    "\n",
    "The center of mass will be set to be the origin.\n",
    "Each cage will be rotated such that it is aligned with its principle moments of inertia.\n",
    "i.e. the moment of inertia matrix of an \"aligned\" cage is diagonal.\n",
    "\n",
    "\n",
    "First, a function to compute the center of mass of a group of `atoms` at Cartesian coordinates `x`, stored in the columns."
   ]
  },
  {
   "cell_type": "code",
   "execution_count": 3,
   "metadata": {},
   "outputs": [
    {
     "data": {
      "text/plain": [
       "center_of_mass (generic function with 1 method)"
      ]
     },
     "execution_count": 3,
     "metadata": {},
     "output_type": "execute_result"
    }
   ],
   "source": [
    "function center_of_mass(atoms::Array{Symbol, 1}, x::Array{Float64, 2})\n",
    "    ams = read_atomic_masses()\n",
    "    com = [0.0, 0.0, 0.0]\n",
    "    total_mass = 0.0\n",
    "    for (i, atom) in enumerate(atoms)\n",
    "        com += ams[atom] * x[:, i]\n",
    "        total_mass += ams[atom]\n",
    "    end\n",
    "    return com / total_mass\n",
    "end"
   ]
  },
  {
   "cell_type": "code",
   "execution_count": 4,
   "metadata": {},
   "outputs": [
    {
     "data": {
      "text/plain": [
       "centered_cage_coords (generic function with 1 method)"
      ]
     },
     "execution_count": 4,
     "metadata": {},
     "output_type": "execute_result"
    }
   ],
   "source": [
    "function centered_cage_coords(cage::AbstractString)\n",
    "    # read in raw .xyz from `all_cages`\n",
    "    atoms, x = read_xyz(\"all_cages/\" * cage * \".xyz\")\n",
    "    \n",
    "    # compute center of mass\n",
    "    x_com = center_of_mass(atoms, x)\n",
    "    \n",
    "    # shift coords so that cage is centered\n",
    "    x = x .- x_com\n",
    "    \n",
    "    # write centered cage coords\n",
    "    write_xyz(atoms, x, \"centered_cages/\" * cage * \".xyz\")\n",
    "    \n",
    "    return atoms, x\n",
    "end"
   ]
  },
  {
   "cell_type": "markdown",
   "metadata": {},
   "source": [
    "# Porosity point clouds"
   ]
  },
  {
   "cell_type": "code",
   "execution_count": 5,
   "metadata": {},
   "outputs": [
    {
     "data": {
      "text/plain": [
       "generate_porosity_point_cloud (generic function with 1 method)"
      ]
     },
     "execution_count": 5,
     "metadata": {},
     "output_type": "execute_result"
    }
   ],
   "source": [
    "function generate_porosity_point_cloud(atoms::Array{Symbol, 1}, \n",
    "                                       x::Array{Float64, 2}, \n",
    "                                       nb_pts_in_porosity_cloud::Int, \n",
    "                                       snapshot_radius::Union{Nothing, Float64};\n",
    "                                       gaussian_scaler::Float64=3.0)\n",
    "    # store points in void space here.\n",
    "    x_porosity_cloud = zeros(3, nb_pts_in_porosity_cloud)\n",
    "\n",
    "    # determine if void space via potential energy of He\n",
    "    he = Molecule(\"He\")\n",
    "    ljff = LJForceField(\"UFF.csv\", cutoffradius=14.0, mixing_rules=\"geometric\")\n",
    "    ljspheres = Atoms(atoms, x)\n",
    "\n",
    "    # compute radius of the molecule; this determines variance of Gaussian if snapshot size not provided\n",
    "    if snapshot_radius == nothing\n",
    "        snapshot_radius = maximum([norm(x[:, a]) for a = 1:length(atoms)])\n",
    "    end\n",
    "    \n",
    "    n_hits = 0\n",
    "    while n_hits < nb_pts_in_porosity_cloud\n",
    "        # bias insertions towards center\n",
    "        x_insert = randn(3) * snapshot_radius / gaussian_scaler # scale smaller to bias describing core more.\n",
    "        if norm(x_insert) > snapshot_radius\n",
    "            continue\n",
    "        end\n",
    "\n",
    "        # put helium at this grid pt\n",
    "        translate_to!(he, x_insert)\n",
    "\n",
    "        # compute potential energy of He adsorbate here\n",
    "        energy = vdw_energy_no_PBC(he, ljspheres, ljff)\n",
    "\n",
    "        if energy < 298.0\n",
    "            n_hits += 1\n",
    "            x_porosity_cloud[:, n_hits] = x_insert\n",
    "        end\n",
    "    end\n",
    "    \n",
    "    return x_porosity_cloud\n",
    "end\n",
    "\n",
    "# atoms, x = centered_cage_coords(\"B1\")\n",
    "# x = generate_porosity_point_cloud(atoms, x, 10000, nothing)\n",
    "# write_xyz([:H for i = 1:10000], x, \"test.xyz\")"
   ]
  },
  {
   "cell_type": "markdown",
   "metadata": {},
   "source": [
    "# Rotate to align principal axes of rotation with Cartesian axes"
   ]
  },
  {
   "cell_type": "markdown",
   "metadata": {},
   "source": [
    "Next, a function to compute the moment of inertia matrix of a group of `atoms` at Cartesian positions `x`. \n",
    "\n",
    "See <a href=\"https://chem.libretexts.org/Textbook_Maps/Physical_and_Theoretical_Chemistry_Textbook_Maps/Map%3A_Physical_Chemistry_(McQuarrie_and_Simon)/13%3A_Molecular_Spectroscopy/13-08._The_Rotational_Spectrum_of_a_Polyatomic_Molecule_Depends_Upon_the_Principal_Moments_of_Inertia_of_the_Molecule\">Chemistry Libre Texts</a> moment of inertia formulas."
   ]
  },
  {
   "cell_type": "code",
   "execution_count": 6,
   "metadata": {},
   "outputs": [
    {
     "data": {
      "text/plain": [
       "moment_of_inertia (generic function with 1 method)"
      ]
     },
     "execution_count": 6,
     "metadata": {},
     "output_type": "execute_result"
    }
   ],
   "source": [
    "function moment_of_inertia(x::Array{Float64, 2})\n",
    "    # moment of inertia matrix `mi`\n",
    "    mi = zeros(Float64, 3, 3)\n",
    "    for i = 1:3\n",
    "        for j = 1:3\n",
    "            for a = 1:size(x)[2]\n",
    "                if i == j\n",
    "                    ids = collect(setdiff(Set([1, 2, 3]), Set([i])))\n",
    "                    mi[i, j] += sum(x[ids, a] .^ 2)\n",
    "                else\n",
    "                    mi[i, j] -= x[i, a] * x[j, a]\n",
    "                end\n",
    "            end\n",
    "        end\n",
    "    end\n",
    "    \n",
    "    # should be symmetric!\n",
    "    @assert isapprox(mi, mi')\n",
    "        \n",
    "    return mi\n",
    "end"
   ]
  },
  {
   "cell_type": "code",
   "execution_count": 7,
   "metadata": {},
   "outputs": [
    {
     "data": {
      "text/plain": [
       "viewcage (generic function with 1 method)"
      ]
     },
     "execution_count": 7,
     "metadata": {},
     "output_type": "execute_result"
    }
   ],
   "source": [
    "viewcage(cage::AbstractString) = Bio3DView.viewfile(\"final_aligned_cages/\" * cage * \".xyz\", \"xyz\")"
   ]
  },
  {
   "cell_type": "code",
   "execution_count": 36,
   "metadata": {},
   "outputs": [
    {
     "data": {
      "text/plain": [
       "read_rotational_inertia_aligned_cage (generic function with 1 method)"
      ]
     },
     "execution_count": 36,
     "metadata": {},
     "output_type": "execute_result"
    }
   ],
   "source": [
    "for dir in [\"final_aligned_cages\", \"rotational_inertia_aligned_cages\", \"centered_cages\"]\n",
    "    isdir(dir) ? nothing : mkdir(dir)\n",
    "    isdir(joinpath(dir, \"porosity_point_clouds\")) ? nothing : mkdir(joinpath(dir, \"porosity_point_clouds\"))\n",
    "end\n",
    "\n",
    "write_final_aligned_cage(atoms::Array{Symbol, 1}, x::Array{Float64, 2}, cage::AbstractString) = write_xyz(atoms, x, \"final_aligned_cages/\" * cage * \".xyz\")\n",
    "read_final_aligned_cage(cage::AbstractString) = read_xyz(\"final_aligned_cages/\" * cage * \".xyz\")\n",
    "\n",
    "write_rotational_inertia_aligned_cage(atoms::Array{Symbol, 1}, x::Array{Float64, 2}, cage::AbstractString) = write_xyz(atoms, x, \"rotational_inertia_aligned_cages/\" * cage * \".xyz\")\n",
    "read_rotational_inertia_aligned_cage(cage::AbstractString) = read_xyz(\"rotational_inertia_aligned_cages/\" * cage * \".xyz\")"
   ]
  },
  {
   "cell_type": "code",
   "execution_count": 9,
   "metadata": {},
   "outputs": [
    {
     "name": "stdout",
     "output_type": "stream",
     "text": [
      "\u001b[31mA11 has nearly degenerate axes of inertia\u001b[39m\n",
      "\u001b[31mB11 has nearly degenerate axes of inertia\u001b[39m\n",
      "\u001b[32mB13 has unique axes of inertia\u001b[39m\n",
      "\u001b[31mB15 has nearly degenerate axes of inertia\u001b[39m\n",
      "\u001b[31mB18 has nearly degenerate axes of inertia\u001b[39m\n",
      "\u001b[31mB1 has nearly degenerate axes of inertia\u001b[39m\n",
      "\u001b[31mB23 has nearly degenerate axes of inertia\u001b[39m\n",
      "\u001b[31mB24 has nearly degenerate axes of inertia\u001b[39m\n",
      "\u001b[31mB25 has nearly degenerate axes of inertia\u001b[39m\n",
      "\u001b[31mB26 has nearly degenerate axes of inertia\u001b[39m\n",
      "\u001b[31mB2 has nearly degenerate axes of inertia\u001b[39m\n",
      "\u001b[31mB4 has nearly degenerate axes of inertia\u001b[39m\n",
      "\u001b[31mB5 has nearly degenerate axes of inertia\u001b[39m\n",
      "\u001b[31mB6 has nearly degenerate axes of inertia\u001b[39m\n",
      "\u001b[31mB8 has nearly degenerate axes of inertia\u001b[39m\n",
      "\u001b[31mB9 has nearly degenerate axes of inertia\u001b[39m\n",
      "\u001b[31mC11 has nearly degenerate axes of inertia\u001b[39m\n",
      "\u001b[32mC13 has unique axes of inertia\u001b[39m\n",
      "\u001b[31mC15 has nearly degenerate axes of inertia\u001b[39m\n",
      "\u001b[31mC18 has nearly degenerate axes of inertia\u001b[39m\n",
      "\u001b[31mC1 has nearly degenerate axes of inertia\u001b[39m\n",
      "\u001b[32mC20 has unique axes of inertia\u001b[39m\n",
      "\u001b[31mC21 has nearly degenerate axes of inertia\u001b[39m\n",
      "\u001b[31mC23 has nearly degenerate axes of inertia\u001b[39m\n",
      "\u001b[31mC24 has nearly degenerate axes of inertia\u001b[39m\n",
      "\u001b[31mC25 has nearly degenerate axes of inertia\u001b[39m\n",
      "\u001b[31mC26 has nearly degenerate axes of inertia\u001b[39m\n",
      "\u001b[31mC2 has nearly degenerate axes of inertia\u001b[39m\n",
      "\u001b[31mC4 has nearly degenerate axes of inertia\u001b[39m\n",
      "\u001b[31mC5 has nearly degenerate axes of inertia\u001b[39m\n",
      "\u001b[31mC6 has nearly degenerate axes of inertia\u001b[39m\n",
      "\u001b[31mC8 has nearly degenerate axes of inertia\u001b[39m\n",
      "\u001b[31mC9 has nearly degenerate axes of inertia\u001b[39m\n",
      "\u001b[32mCB5 has unique axes of inertia\u001b[39m\n",
      "\u001b[32mCB6 has unique axes of inertia\u001b[39m\n",
      "\u001b[32mCB7 has unique axes of inertia\u001b[39m\n",
      "\u001b[31mCC10 has nearly degenerate axes of inertia\u001b[39m\n",
      "\u001b[31mCC1 has nearly degenerate axes of inertia\u001b[39m\n",
      "\u001b[31mCC2 has nearly degenerate axes of inertia\u001b[39m\n",
      "\u001b[31mCC3 has nearly degenerate axes of inertia\u001b[39m\n",
      "\u001b[31mCC4 has nearly degenerate axes of inertia\u001b[39m\n",
      "\u001b[31mCC5 has nearly degenerate axes of inertia\u001b[39m\n",
      "\u001b[31mCC9 has nearly degenerate axes of inertia\u001b[39m\n",
      "\u001b[32mCD1 has unique axes of inertia\u001b[39m\n",
      "\u001b[31mCD2 has nearly degenerate axes of inertia\u001b[39m\n",
      "\u001b[31mCD3 has nearly degenerate axes of inertia\u001b[39m\n",
      "\u001b[32mCP1 has unique axes of inertia\u001b[39m\n",
      "\u001b[32mCP3 has unique axes of inertia\u001b[39m\n",
      "\u001b[32mCP4 has unique axes of inertia\u001b[39m\n",
      "\u001b[32mCP5 has unique axes of inertia\u001b[39m\n",
      "\u001b[31mDC1 has nearly degenerate axes of inertia\u001b[39m\n",
      "\u001b[31mGC1 has nearly degenerate axes of inertia\u001b[39m\n",
      "\u001b[31mHC1 has nearly degenerate axes of inertia\u001b[39m\n",
      "\u001b[31mIC1 has nearly degenerate axes of inertia\u001b[39m\n",
      "\u001b[32mIC2 has unique axes of inertia\u001b[39m\n",
      "\u001b[31mMC1 has nearly degenerate axes of inertia\u001b[39m\n",
      "\u001b[31mMC2 has nearly degenerate axes of inertia\u001b[39m\n",
      "\u001b[32mMC3 has unique axes of inertia\u001b[39m\n",
      "\u001b[31mMC4 has nearly degenerate axes of inertia\u001b[39m\n",
      "\u001b[31mMC5 has nearly degenerate axes of inertia\u001b[39m\n",
      "\u001b[31mMC6 has nearly degenerate axes of inertia\u001b[39m\n",
      "\u001b[31mMC7 has nearly degenerate axes of inertia\u001b[39m\n",
      "\u001b[32mNC1 has unique axes of inertia\u001b[39m\n",
      "\u001b[32mNC2 has unique axes of inertia\u001b[39m\n",
      "\u001b[31mRCC1a has nearly degenerate axes of inertia\u001b[39m\n",
      "\u001b[31mRCC1b has nearly degenerate axes of inertia\u001b[39m\n",
      "\u001b[31mRCC1c has nearly degenerate axes of inertia\u001b[39m\n",
      "\u001b[31mRCC1d has nearly degenerate axes of inertia\u001b[39m\n",
      "\u001b[32mRCC3a has unique axes of inertia\u001b[39m\n",
      "\u001b[31mRCC3b has nearly degenerate axes of inertia\u001b[39m\n",
      "\u001b[31mWC1 has nearly degenerate axes of inertia\u001b[39m\n",
      "\u001b[32mWC2 has unique axes of inertia\u001b[39m\n",
      "\u001b[32mWC3 has unique axes of inertia\u001b[39m\n",
      "\u001b[31mWC4 has nearly degenerate axes of inertia\u001b[39m\n"
     ]
    }
   ],
   "source": [
    "Random.seed!(1337); # set random number seed for complete reproducibility\n",
    "\n",
    "nb_pts_in_pt_cloud = 100000\n",
    "\n",
    "aligned = Dict(cage => false for cage in cages)\n",
    "\n",
    "for cage in cages\n",
    "    # read in centered cage\n",
    "    atoms, x = centered_cage_coords(cage)\n",
    "    \n",
    "    # generate porosity point cloud\n",
    "    x_pt_cloud = generate_porosity_point_cloud(atoms, x, nb_pts_in_pt_cloud, nothing) # use radius of molecule for this.\n",
    "    write_xyz([:H for i = 1:nb_pts_in_pt_cloud], x_pt_cloud, \n",
    "        \"centered_cages/porosity_point_clouds/\" * cage * \".xyz\")\n",
    "    \n",
    "    # diagnomize moment of inertia matrix\n",
    "    mi = moment_of_inertia(x_pt_cloud)\n",
    "    λ, v = eigen(mi) # columns of v are eigenvalues\n",
    "    ids = sortperm(λ, rev=true) # sort eigenvalues from large to small.\n",
    "    λ = λ[ids]\n",
    "    v = v[:, ids]\n",
    "    # tests out of paranoia\n",
    "    @assert(isapprox(mi * v, v * diagm(0 => λ)), \"eigenvectors not right\")\n",
    "    @assert(isapprox([norm(v[:, i]) for i = 1:3], ones(3)), \"eigenvectors not unit vectors\")\n",
    "    @assert(isapprox(mi, v * diagm(0 => λ) * v'))\n",
    "    # `v` is a rotation matrix b/c `mi` is symmetric and the columns are orthonormal\n",
    "    # i.e. `v` is a unitary matrix. now use it to rotate x to align with principle axes of rotation\n",
    "    @assert(isapprox(v' * v, Diagonal{Float64}(I, 3)), \"v is not unitary...\")\n",
    "    @assert (λ[1] >= λ[2]) & (λ[2] >= λ[3])\n",
    "    \n",
    "    # align principal axes of rotation of the cage with the Cartesian axes\n",
    "    write_rotational_inertia_aligned_cage(atoms, v' * x, cage)\n",
    "    \n",
    "    # look for degeneracy\n",
    "    xy_symmetry = isapprox(λ[1], λ[2], rtol=0.01) # can use rtol b/c fixed # pts now.\n",
    "    yz_symmetry = isapprox(λ[2], λ[3], rtol=0.01)\n",
    "    if xy_symmetry || yz_symmetry\n",
    "        printstyled(cage * \" has nearly degenerate axes of inertia\\n\", color=:red)\n",
    "    else\n",
    "        aligned[cage] = true\n",
    "        write_final_aligned_cage(atoms, v' * x, cage)\n",
    "        printstyled(cage * \" has unique axes of inertia\\n\", color=:green)\n",
    "    end\n",
    "end"
   ]
  },
  {
   "cell_type": "markdown",
   "metadata": {},
   "source": [
    "Write to file list of cages where principal axes of inertia are authoratative on how to align."
   ]
  },
  {
   "cell_type": "code",
   "execution_count": 10,
   "metadata": {},
   "outputs": [],
   "source": [
    "rotational_inertia_aligned_cages = cages[[aligned[cage] for cage in cages]]\n",
    "@save \"rotational_inertia_aligned_cages.jld2\" rotational_inertia_aligned_cages"
   ]
  },
  {
   "cell_type": "markdown",
   "metadata": {},
   "source": [
    "# Rigid point set registration to align cages consistently where moments of inertia about principal axes are nearly degenerate"
   ]
  },
  {
   "cell_type": "markdown",
   "metadata": {},
   "source": [
    "Write porosity point clouds of rotational-inertia-aligned cages for further alignment where principal axes are nearly dgenerate. Store in `rotational_inertia_aligned_cages/porosity_point_clouds`."
   ]
  },
  {
   "cell_type": "code",
   "execution_count": 11,
   "metadata": {},
   "outputs": [
    {
     "data": {
      "text/plain": [
       "write_porosity_pt_cloud_rot_aligned (generic function with 1 method)"
      ]
     },
     "execution_count": 11,
     "metadata": {},
     "output_type": "execute_result"
    }
   ],
   "source": [
    "read_porosity_pt_cloud_rot_aligned(cage::AbstractString) = read_xyz(\"rotational_inertia_aligned_cages/porosity_point_clouds/\" * cage * \".xyz\")[2]\n",
    "write_porosity_pt_cloud_rot_aligned(x_pt_cloud::Array{Float64, 2}, cage::AbstractString) = write_xyz(\n",
    "    [:H for i = 1:nb_pts_in_pt_cloud], \n",
    "    x_pt_cloud, \n",
    "    \"rotational_inertia_aligned_cages/porosity_point_clouds/\" * cage * \".xyz\")"
   ]
  },
  {
   "cell_type": "code",
   "execution_count": 12,
   "metadata": {},
   "outputs": [],
   "source": [
    "Random.seed!(1337); # set random number seed for complete reproducibility\n",
    "\n",
    "nb_pts_in_pt_cloud = 5000\n",
    "\n",
    "porosity_point_clouds = Dict{AbstractString, Array{Float64, 2}}()\n",
    "\n",
    "# use same dist'n of points for this one to compare cages easily\n",
    "for cage in cages\n",
    "    atoms, x = read_rotational_inertia_aligned_cage(cage)\n",
    "    \n",
    "    porosity_point_clouds[cage] = generate_porosity_point_cloud(atoms, x, nb_pts_in_pt_cloud, nothing, gaussian_scaler=5.0)\n",
    "    \n",
    "    write_porosity_pt_cloud_rot_aligned(porosity_point_clouds[cage], cage)\n",
    "end"
   ]
  },
  {
   "cell_type": "code",
   "execution_count": 21,
   "metadata": {},
   "outputs": [
    {
     "data": {
      "text/plain": [
       "find_pair_to_align (generic function with 1 method)"
      ]
     },
     "execution_count": 21,
     "metadata": {},
     "output_type": "execute_result"
    }
   ],
   "source": [
    "function read_jld_file_results(cage_y::AbstractString, cage_x::AbstractString; verbose::Bool=false)\n",
    "    jldfilename = jldopen(@sprintf(\"cpd_results/align_%s_to_%s_5000_pts.jld2\", cage_y, cage_x))\n",
    "    R = read(jldfilename, \"R\")\n",
    "    σ² = read(jldfilename, \"σ²\")\n",
    "    ℓ = read(jldfilename, \"ℓ\")\n",
    "    @assert read(jldfilename, \"cage_y\") == cage_y\n",
    "    @assert read(jldfilename, \"cage_x\") == cage_x\n",
    "    close(jldfilename)\n",
    "    return R, σ², ℓ\n",
    "end\n",
    "\n",
    "function find_pair_to_align(cage_ys::Array{String, 1}, cage_xs::Array{String, 1})\n",
    "    # look at all possible pairs, align cage_y to cage_x, record likelihood of alignment.\n",
    "    pairz = Tuple{String, String}[]\n",
    "    ℓs = Float64[]\n",
    "    σ²s = Float64[]\n",
    "    \n",
    "    for cage_y in cage_ys\n",
    "        for cage_x in cage_xs\n",
    "            if cage_y == cage_x\n",
    "                continue\n",
    "            end\n",
    "            \n",
    "            R, σ², ℓ = read_jld_file_results(cage_y, cage_x)\n",
    "            \n",
    "            push!(ℓs, ℓ)\n",
    "            push!(σ²s, σ²)\n",
    "            push!(pairz, (cage_y, cage_x))\n",
    "        end\n",
    "    end\n",
    "    # align the pair where the negative log likelihood is smallest.\n",
    "    best_pair = pairz[argmin(ℓs)]\n",
    "    return best_pair[1], best_pair[2]\n",
    "end"
   ]
  },
  {
   "cell_type": "markdown",
   "metadata": {},
   "source": [
    "recompute point cloud b/c errors accumate after applying tons of rotation matrices"
   ]
  },
  {
   "cell_type": "code",
   "execution_count": 42,
   "metadata": {},
   "outputs": [
    {
     "name": "stdout",
     "output_type": "stream",
     "text": [
      "\u001b[33mAligning cage CC2 to CP1...\u001b[39m\n",
      "\tσ² = 0.016813, q = -3519.473531, EM steps taken = 50, reason for exit: max EM steps reached, time: 0.93353 min\n",
      "\tσ² =0.016813339730552344\n",
      "\u001b[33mAligning cage WC4 to CP3...\u001b[39m\n",
      "\tσ² = 0.011355, q = -4010.221627, EM steps taken = 50, reason for exit: max EM steps reached, time: 0.95294 min\n",
      "\tσ² =0.011355078037138052\n",
      "\u001b[33mAligning cage HC1 to CP4...\u001b[39m\n",
      "\tσ² = 0.011481, q = -4000.263564, EM steps taken = 23, reason for exit: objective stopped decreasing, time: 0.44808 min\n",
      "\tσ² =0.011480782050124086\n",
      "\u001b[33mAligning cage CD2 to CP3...\u001b[39m\n",
      "\tσ² = 0.011728, q = -3641.207580, EM steps taken = 34, reason for exit: objective stopped decreasing, time: 0.65475 min\n",
      "\tσ² =0.011727987756571565\n",
      "\u001b[33mAligning cage CC9 to CP1...\u001b[39m\n",
      "\tσ² = 0.014490, q = -3340.810022, EM steps taken = 50, reason for exit: max EM steps reached, time: 0.98106 min\n",
      "\tσ² =0.014490174697203808\n",
      "\u001b[33mAligning cage CC4 to CP3...\u001b[39m\n",
      "\tσ² = 0.020319, q = -3068.920340, EM steps taken = 8, reason for exit: objective stopped decreasing, time: 0.16997 min\n",
      "\tσ² =0.020319158153120496\n",
      "\u001b[33mAligning cage CC3 to CP3...\u001b[39m\n",
      "\tσ² = 0.011834, q = -3206.100540, EM steps taken = 50, reason for exit: max EM steps reached, time: 0.95768 min\n",
      "\tσ² =0.011834292599637744\n",
      "\u001b[33mAligning cage RCC3b to CP3...\u001b[39m\n",
      "\tσ² = 0.016318, q = -3637.632661, EM steps taken = 50, reason for exit: max EM steps reached, time: 0.94836 min\n",
      "\tσ² =0.016317996403106008\n",
      "\u001b[33mAligning cage RCC1d to CB5...\u001b[39m\n",
      "\tσ² = 0.030545, q = -3460.723627, EM steps taken = 50, reason for exit: max EM steps reached, time: 0.88388 min\n",
      "\tσ² =0.030544524799628183\n",
      "\u001b[33mAligning cage CC10 to CP1...\u001b[39m\n",
      "\tσ² = 0.009753, q = -2544.125590, EM steps taken = 9, reason for exit: variance below tol, time: 0.16524 min\n",
      "\tσ² =0.009752693503673375\n",
      "\u001b[33mAligning cage CD3 to CB7...\u001b[39m\n",
      "\tσ² = 0.026468, q = -2837.811890, EM steps taken = 50, reason for exit: max EM steps reached, time: 0.96581 min\n",
      "\tσ² =0.02646766924682864\n",
      "\u001b[33mAligning cage A11 to CD1...\u001b[39m\n",
      "\tσ² = 0.032516, q = -2700.619371, EM steps taken = 39, reason for exit: objective stopped decreasing, time: 0.75875 min\n",
      "\tσ² =0.03251600617135182\n",
      "\u001b[33mAligning cage B11 to CD1...\u001b[39m\n",
      "\tσ² = 0.023996, q = -2991.113861, EM steps taken = 21, reason for exit: objective stopped decreasing, time: 0.39104 min\n",
      "\tσ² =0.023996123283832126\n",
      "\u001b[33mAligning cage CC1 to CP4...\u001b[39m\n",
      "\tσ² = 0.008475, q = -1869.448573, EM steps taken = 4, reason for exit: variance below tol, time: 0.08522 min\n",
      "\tσ² =0.008474836298750916\n",
      "\u001b[33mAligning cage RCC1c to CB5...\u001b[39m\n",
      "\tσ² = 0.022066, q = -3757.547910, EM steps taken = 50, reason for exit: max EM steps reached, time: 0.88422 min\n",
      "\tσ² =0.02206554473321118\n",
      "\u001b[33mAligning cage B23 to CD1...\u001b[39m\n",
      "\tσ² = 0.018789, q = -2014.096993, EM steps taken = 42, reason for exit: objective stopped decreasing, time: 0.80465 min\n",
      "\tσ² =0.018789432881323592\n",
      "\u001b[33mAligning cage CC5 to CC1...\u001b[39m\n",
      "\tσ² = 0.014461, q = -1096.783523, EM steps taken = 50, reason for exit: max EM steps reached, time: 0.93807 min\n",
      "\tσ² =0.014461342927890655\n",
      "\u001b[33mAligning cage C11 to CB7...\u001b[39m\n",
      "\tσ² = 0.031371, q = -2487.304343, EM steps taken = 12, reason for exit: objective stopped decreasing, time: 0.20547 min\n",
      "\tσ² =0.031371015326271845\n",
      "\u001b[33mAligning cage C23 to CD1...\u001b[39m\n",
      "\tσ² = 0.018964, q = -2083.086373, EM steps taken = 50, reason for exit: objective stopped decreasing, time: 0.92909 min\n",
      "\tσ² =0.018964493003440868\n",
      "\u001b[33mAligning cage MC4 to CC1...\u001b[39m\n",
      "\tσ² = 0.044889, q = -2370.189445, EM steps taken = 50, reason for exit: max EM steps reached, time: 0.92596 min\n",
      "\tσ² =0.04488945246575531\n",
      "\u001b[33mAligning cage MC7 to CD1...\u001b[39m\n",
      "\tσ² = 0.017065, q = -1454.760490, EM steps taken = 50, reason for exit: max EM steps reached, time: 0.96997 min\n",
      "\tσ² =0.017064797360171118\n",
      "\u001b[33mAligning cage WC1 to CP4...\u001b[39m\n",
      "\tσ² = 0.020000, q = -521.527510, EM steps taken = 24, reason for exit: objective stopped decreasing, time: 0.46260 min\n",
      "\tσ² =0.02\n",
      "\u001b[33mAligning cage B15 to CC2...\u001b[39m\n",
      "\tσ² = 0.054932, q = -2082.366841, EM steps taken = 26, reason for exit: objective stopped decreasing, time: 0.50081 min\n",
      "\tσ² =0.054932274448990334\n",
      "\u001b[33mAligning cage MC5 to CD2...\u001b[39m\n",
      "\tσ² = 0.039912, q = -1870.769395, EM steps taken = 28, reason for exit: objective stopped decreasing, time: 0.48465 min\n",
      "\tσ² =0.03991168259770226\n",
      "\u001b[33mAligning cage C15 to CC2...\u001b[39m\n",
      "\tσ² = 0.027642, q = -1207.483449, EM steps taken = 21, reason for exit: objective stopped decreasing, time: 0.38155 min\n",
      "\tσ² =0.027642170921672916\n",
      "\u001b[33mAligning cage B24 to CD3...\u001b[39m\n",
      "\tσ² = 0.050284, q = -2058.933301, EM steps taken = 23, reason for exit: objective stopped decreasing, time: 0.43657 min\n",
      "\tσ² =0.050283677499389036\n",
      "\u001b[33mAligning cage MC2 to HC1...\u001b[39m\n",
      "\tσ² = 0.041101, q = -1891.774418, EM steps taken = 32, reason for exit: objective stopped decreasing, time: 0.59932 min\n",
      "\tσ² =0.04110077920540971\n",
      "\u001b[33mAligning cage C24 to IC2...\u001b[39m\n",
      "\tσ² = 0.056175, q = -1984.308683, EM steps taken = 26, reason for exit: objective stopped decreasing, time: 0.48691 min\n",
      "\tσ² =0.056175181760274126\n",
      "\u001b[33mAligning cage DC1 to CP1...\u001b[39m\n",
      "\tσ² = 0.011754, q = 2801.288070, EM steps taken = 50, reason for exit: max EM steps reached, time: 0.93824 min\n",
      "\tσ² =0.011753609270800401\n",
      "\u001b[33mAligning cage MC1 to HC1...\u001b[39m\n",
      "\tσ² = 0.018572, q = 340.779098, EM steps taken = 50, reason for exit: max EM steps reached, time: 0.94689 min\n",
      "\tσ² =0.018572243483926287\n",
      "\u001b[33mAligning cage B18 to RCC1d...\u001b[39m\n",
      "\tσ² = 0.057930, q = -1876.127639, EM steps taken = 34, reason for exit: objective stopped decreasing, time: 0.62881 min\n",
      "\tσ² =0.057929714271866335\n",
      "\u001b[33mAligning cage B25 to NC2...\u001b[39m\n",
      "\tσ² = 0.025432, q = -467.737556, EM steps taken = 44, reason for exit: objective stopped decreasing, time: 0.82218 min\n",
      "\tσ² =0.02543205469883954\n",
      "\u001b[33mAligning cage C18 to CC4...\u001b[39m\n",
      "\tσ² = 0.021344, q = 487.748136, EM steps taken = 50, reason for exit: max EM steps reached, time: 0.98048 min\n",
      "\tσ² =0.02134411066035803\n",
      "\u001b[33mAligning cage C25 to CD3...\u001b[39m\n",
      "\tσ² = 0.020494, q = 698.096108, EM steps taken = 50, reason for exit: max EM steps reached, time: 0.92027 min\n",
      "\tσ² =0.020493511786630128\n",
      "\u001b[33mAligning cage GC1 to RCC1d...\u001b[39m\n",
      "\tσ² = 0.054542, q = -1385.990477, EM steps taken = 23, reason for exit: objective stopped decreasing, time: 0.42874 min\n",
      "\tσ² =0.054542487160917516\n",
      "\u001b[33mAligning cage B26 to RCC1d...\u001b[39m\n",
      "\tσ² = 0.035075, q = -625.938307, EM steps taken = 50, reason for exit: max EM steps reached, time: 0.92746 min\n",
      "\tσ² =0.035074974573365884\n",
      "\u001b[33mAligning cage IC1 to CC3...\u001b[39m\n",
      "\tσ² = 0.036829, q = -665.597224, EM steps taken = 50, reason for exit: max EM steps reached, time: 0.96011 min\n",
      "\tσ² =0.03682917366817643\n",
      "\u001b[33mAligning cage C26 to RCC1d...\u001b[39m\n",
      "\tσ² = 0.052961, q = -1313.191910, EM steps taken = 50, reason for exit: max EM steps reached, time: 0.92052 min\n",
      "\tσ² =0.052960823411507894\n",
      "\u001b[33mAligning cage RCC1b to CB5...\u001b[39m\n",
      "\tσ² = 0.073170, q = -2270.322968, EM steps taken = 50, reason for exit: max EM steps reached, time: 0.91601 min\n",
      "\tσ² =0.07316986121530794\n",
      "\u001b[33mAligning cage MC6 to B24...\u001b[39m\n",
      "\tσ² = 0.084475, q = -450.865825, EM steps taken = 50, reason for exit: max EM steps reached, time: 0.96453 min\n",
      "\tσ² =0.08447534906033859\n",
      "\u001b[33mAligning cage RCC1a to CP4...\u001b[39m\n",
      "\tσ² = 0.086813, q = -2112.508026, EM steps taken = 38, reason for exit: objective stopped decreasing, time: 0.68475 min\n",
      "\tσ² =0.08681250365309885\n",
      "\u001b[33mAligning cage B1 to CP4...\u001b[39m\n",
      "\tσ² = 0.111490, q = -947.208709, EM steps taken = 43, reason for exit: objective stopped decreasing, time: 0.82544 min\n",
      "\tσ² =0.11149025780311195\n",
      "\u001b[33mAligning cage B2 to B1...\u001b[39m\n",
      "\tσ² = 0.022597, q = -3608.053765, EM steps taken = 50, reason for exit: max EM steps reached, time: 0.92248 min\n",
      "\tσ² =0.022596600471440374\n",
      "\u001b[33mAligning cage B9 to B2...\u001b[39m\n",
      "\tσ² = 0.024982, q = -3271.093507, EM steps taken = 35, reason for exit: objective stopped decreasing, time: 0.66479 min\n",
      "\tσ² =0.024981561231573628\n",
      "\u001b[33mAligning cage C8 to B2...\u001b[39m\n",
      "\tσ² = 0.023823, q = -3199.608814, EM steps taken = 37, reason for exit: objective stopped decreasing, time: 0.72073 min\n",
      "\tσ² =0.023822767780625025\n",
      "\u001b[33mAligning cage C2 to B1...\u001b[39m\n",
      "\tσ² = 0.042377, q = -3001.120202, EM steps taken = 26, reason for exit: objective stopped decreasing, time: 0.51720 min\n",
      "\tσ² =0.04237668789541476\n",
      "\u001b[33mAligning cage C9 to C2...\u001b[39m\n",
      "\tσ² = 0.024792, q = -3125.041209, EM steps taken = 35, reason for exit: objective stopped decreasing, time: 0.66810 min\n",
      "\tσ² =0.024792202175637917\n",
      "\u001b[33mAligning cage B8 to C2...\u001b[39m\n",
      "\tσ² = 0.035223, q = -3042.210262, EM steps taken = 44, reason for exit: objective stopped decreasing, time: 0.81355 min\n",
      "\tσ² =0.03522334146882531\n",
      "\u001b[33mAligning cage C1 to B1...\u001b[39m\n",
      "\tσ² = 0.046372, q = -2928.024901, EM steps taken = 49, reason for exit: objective stopped decreasing, time: 0.89069 min\n",
      "\tσ² =0.046372275169459805\n",
      "\u001b[33mAligning cage C6 to B2...\u001b[39m\n",
      "\tσ² = 0.001770, q = 40340.859210, EM steps taken = 4, reason for exit: variance below tol, time: 0.07127 min\n",
      "\tσ² =0.0017703919192863396\n",
      "\u001b[33mAligning cage B6 to C8...\u001b[39m\n",
      "\tσ² = 0.061119, q = -1990.546818, EM steps taken = 27, reason for exit: objective stopped decreasing, time: 0.51271 min\n",
      "\tσ² =0.06111902525748155\n",
      "\u001b[33mAligning cage C5 to C2...\u001b[39m\n",
      "\tσ² = 0.019692, q = -3113.104136, EM steps taken = 50, reason for exit: max EM steps reached, time: 0.91571 min\n",
      "\tσ² =0.01969157609339163\n",
      "\u001b[33mAligning cage C4 to B8...\u001b[39m\n",
      "\tσ² = 0.127968, q = -1305.760263, EM steps taken = 50, reason for exit: max EM steps reached, time: 0.91989 min\n",
      "\tσ² =0.12796811040524578\n",
      "\u001b[33mAligning cage B4 to B8...\u001b[39m\n",
      "\tσ² = 0.071596, q = -1671.491624, EM steps taken = 50, reason for exit: max EM steps reached, time: 0.90209 min\n",
      "\tσ² =0.07159641063879463\n",
      "\u001b[33mAligning cage B5 to B8...\u001b[39m\n",
      "\tσ² = 0.141321, q = -1250.609904, EM steps taken = 26, reason for exit: objective stopped decreasing, time: 0.49949 min\n",
      "\tσ² =0.1413212439011962\n",
      "\u001b[33mAligning cage C21 to B5...\u001b[39m\n",
      "\tσ² = 0.296392, q = 1155.252513, EM steps taken = 50, reason for exit: max EM steps reached, time: 0.91464 min\n",
      "\tσ² =0.2963920991964648\n"
     ]
    }
   ],
   "source": [
    "@load \"rotational_inertia_aligned_cages.jld2\"\n",
    "aligned = Dict(cage => (cage in rotational_inertia_aligned_cages) for cage in cages)\n",
    "# rotation_matrix_applied = Dict(cage => diagm(0 => [1.0, 1.0, 1.0]) for cage in cages) # diagonal matrix applied\n",
    "\n",
    "nb_pts_in_pt_cloud = 1000\n",
    "\n",
    "while sum([! aligned[cage] for cage in cages]) > 0\n",
    "    ###\n",
    "    #  remake list of aligned and unaligned cages\n",
    "    ###\n",
    "    aligned_cages = cages[[aligned[cage] for cage in cages]] # cage_x's since these will not be rotated\n",
    "    unaligned_cages = cages[[! aligned[cage] for cage in cages]] # cage_y's since all are to be rotated\n",
    "    \n",
    "    ###\n",
    "    #  loop thru all possible (unaligned_cages, aligned_cages) pairs to align\n",
    "    #     select pair to align via min -ve log likelihood in coherent point drift algo\n",
    "    ###\n",
    "    cage_y, cage_x = find_pair_to_align(unaligned_cages, aligned_cages)\n",
    "    printstyled(@sprintf(\"Aligning cage %s to %s...\\n\", cage_y, cage_x), color=:yellow)\n",
    "    @assert cage_x in aligned_cages\n",
    "    @assert cage_y in unaligned_cages\n",
    "    \n",
    "    # read in cage_x from its final aligned position (this is an aligned cage!)\n",
    "    atoms_x, x = read_final_aligned_cage(cage_x)\n",
    "    x_pt_cloud = generate_porosity_point_cloud(atoms_x, x, nb_pts_in_pt_cloud, \n",
    "                                               nothing, gaussian_scaler=5.0)\n",
    "    \n",
    "    atoms_y, y = read_rotational_inertia_aligned_cage(cage_y)\n",
    "    \n",
    "#     # best guess for the rotation matrix, perform rotation now.\n",
    "#     R, σ², ℓ = read_jld_file_results(cage_y, cage_x) # but cage_X may hv been transformed previously!\n",
    "#     rotation_matrix_applied[cage_y] = R\n",
    "#     y = R * rotation_matrix_applied[cage_x] * y # overwrite y with best guess for rotation\n",
    "    \n",
    "    y_pt_cloud = generate_porosity_point_cloud(atoms_y, y, nb_pts_in_pt_cloud, \n",
    "                                               nothing, gaussian_scaler=5.0)\n",
    "    \n",
    "    # transformation is applied to the unaligned cage!\n",
    "    R, t, σ², ℓ = CoherentPointDrift.rigid_point_set_registration(x_pt_cloud, y_pt_cloud, verbose=false,\n",
    "                       w=0.0, σ²_tol=0.01, q_tol=0.1, max_nb_em_steps=50, print_ending=true)\n",
    "    \n",
    "    println(\"\\tσ² =\", σ²)\n",
    "#     write_final_aligned_cage(atoms_y, R * rotation_matrix_applied[cage_x] * y, cage_y)\n",
    "    write_final_aligned_cage(atoms_y, R * y, cage_y)\n",
    "    \n",
    "    aligned[cage_y] = true\n",
    "end"
   ]
  },
  {
   "cell_type": "markdown",
   "metadata": {},
   "source": [
    "some quick testing"
   ]
  },
  {
   "cell_type": "code",
   "execution_count": 44,
   "metadata": {},
   "outputs": [
    {
     "name": "stdout",
     "output_type": "stream",
     "text": [
      "\tEM step: 1\n",
      "\t\tobjective: 27310.44331544238\n",
      "\t\tσ² = 1.637732292898046\n",
      "\tEM step: 2\n",
      "\t\tobjective: 24573.911463611752\n",
      "\t\tσ² = 0.23240893594909334\n",
      "\tEM step: 3\n",
      "\t\tobjective: 5491.001669200043\n",
      "\t\tσ² = 0.04922364599798554\n",
      "\tEM step: 4\n",
      "\t\tobjective: -7363.095842459821\n",
      "\t\tσ² = 0.01433648739602213\n",
      "\tEM step: 5\n",
      "\t\tobjective: -19078.36618259275\n",
      "\t\tσ² = 0.007921633747668239\n",
      "\tσ² = 0.007922, q = -19078.366183, EM steps taken = 5, reason for exit: variance below tol, time: 2.37724 min\n"
     ]
    }
   ],
   "source": [
    "cage_x = \"C2\"\n",
    "cage_y = \"C5\"\n",
    "\n",
    "atoms_x, x = read_rotational_inertia_final_aligned_cage(cage_x)\n",
    "x_pt_cld = read_porosity_pt_cloud_rot_aligned(cage_x)\n",
    "atoms_y, y = read_rotational_inertia_final_aligned_cage(cage_y)\n",
    "y_pt_cld = read_porosity_pt_cloud_rot_aligned(cage_y)\n",
    "\n",
    "R, t, σ², ℓ = CoherentPointDrift.rigid_point_set_registration(x_pt_cld ,y_pt_cld, verbose=true,\n",
    "            w=0.0, σ²_tol=0.01, q_tol=1.0, max_nb_em_steps=30, print_ending=true)\n",
    "\n",
    "write_xyz(atoms_y, R * y, cage_y * \"_aligned_to_\" * cage_x)"
   ]
  },
  {
   "cell_type": "code",
   "execution_count": null,
   "metadata": {},
   "outputs": [],
   "source": []
  }
 ],
 "metadata": {
  "kernelspec": {
   "display_name": "Julia 1.0.1",
   "language": "julia",
   "name": "julia-1.0"
  },
  "language_info": {
   "file_extension": ".jl",
   "mimetype": "application/julia",
   "name": "julia",
   "version": "1.0.1"
  }
 },
 "nbformat": 4,
 "nbformat_minor": 2
}
