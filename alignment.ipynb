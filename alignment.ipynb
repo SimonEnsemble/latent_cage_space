{
 "cells": [
  {
   "cell_type": "code",
   "execution_count": 2,
   "metadata": {},
   "outputs": [],
   "source": [
    "using PorousMaterials # Pkg.clone(\"https://github.com/SimonEnsemble/PorousMaterials.jl\", \"v0.1.1\")\n",
    "using DelimitedFiles\n",
    "using LinearAlgebra\n",
    "using JLD2"
   ]
  },
  {
   "cell_type": "markdown",
   "metadata": {},
   "source": [
    "# Cage alignment by point cloud of porosity"
   ]
  },
  {
   "cell_type": "code",
   "execution_count": null,
   "metadata": {},
   "outputs": [],
   "source": [
    "cages = readdlm(\"all_cages/all_cages.txt\")[:];"
   ]
  },
  {
   "cell_type": "code",
   "execution_count": null,
   "metadata": {},
   "outputs": [],
   "source": [
    "function center_of_mass(atoms::Array{Symbol, 1}, x::Array{Float64, 2})\n",
    "    ams = read_atomic_masses()\n",
    "    com = [0.0, 0.0, 0.0]\n",
    "    total_mass = 0.0\n",
    "    for (i, atom) in enumerate(atoms)\n",
    "        com += ams[atom] * x[:, i]\n",
    "        total_mass += ams[atom]\n",
    "    end\n",
    "    return com / total_mass\n",
    "end"
   ]
  },
  {
   "cell_type": "code",
   "execution_count": null,
   "metadata": {},
   "outputs": [],
   "source": [
    "function centered_cage_coords(cage::AbstractString)\n",
    "    # read in raw .xyz from `all_cages`\n",
    "    atoms, x = read_xyz(\"all_cages/$cage.xyz\")\n",
    "    \n",
    "    # compute center of mass\n",
    "    x_com = center_of_mass(atoms, x)\n",
    "    \n",
    "    # shift coords so that cage is centered\n",
    "    x = x .- x_com\n",
    "    \n",
    "    return atoms, x\n",
    "end"
   ]
  },
  {
   "cell_type": "markdown",
   "metadata": {},
   "source": [
    "generate point clouds of void space"
   ]
  },
  {
   "cell_type": "code",
   "execution_count": null,
   "metadata": {},
   "outputs": [],
   "source": [
    "function generate_porosity_point_cloud(cage::AbstractString, nb_pts_in_porosity_cloud::Int)\n",
    "    x_porosity_cloud = zeros(3, nb_pts_in_porosity_cloud)\n",
    "\n",
    "    he = Molecule(\"He\")\n",
    "    ljff = LJForceField(\"UFF.csv\", cutoffradius=14.0, mixing_rules=\"geometric\")\n",
    "\n",
    "    atoms, x = centered_cage_coords(cage)\n",
    "    ljspheres = Atoms(atoms, x)\n",
    "\n",
    "    r_molecule = maximum([norm(x[:, a]) for a = 1:length(atoms)])\n",
    "    \n",
    "    n_hits = 0\n",
    "    while n_hits < nb_pts_in_porosity_cloud\n",
    "        x_insert = randn(3) * r_molecule / 2\n",
    "        if norm(x_insert) > r_molecule\n",
    "            continue\n",
    "        end\n",
    "\n",
    "        # put helium at this grid pt\n",
    "        translate_to!(he, x_insert)\n",
    "\n",
    "        # compute potential energy of He adsorbate here\n",
    "        energy = vdw_energy_no_PBC(he, ljspheres, ljff)\n",
    "\n",
    "        if energy < 298.0\n",
    "            n_hits += 1\n",
    "            x_porosity_cloud[:, n_hits] = x_insert\n",
    "        end\n",
    "    end\n",
    "    \n",
    "    write_xyz([:H for i = 1:nb_pts_in_porosity_cloud], x_porosity_cloud, \"all_cages/\" * cage * \"porosity_cloud.xyz\")\n",
    "    return x_porosity_cloud\n",
    "end"
   ]
  },
  {
   "cell_type": "code",
   "execution_count": null,
   "metadata": {},
   "outputs": [],
   "source": [
    "function moment_of_inertia(x_porosity_cloud::Array{Float64, 2})\n",
    "    # moment of inertia matrix `mi`\n",
    "    mi = zeros(Float64, 3, 3)\n",
    "    for i = 1:3\n",
    "        for j = 1:3\n",
    "            for a = 1:size(x)[2]\n",
    "                if i == j\n",
    "                    ids = collect(setdiff(Set([1, 2, 3]), Set([i])))\n",
    "                    mi[i, j] += sum(x[ids, a] .^ 2)\n",
    "                else\n",
    "                    mi[i, j] -= x[i, a] * x[j, a]\n",
    "                end\n",
    "            end\n",
    "        end\n",
    "    end\n",
    "    \n",
    "    # should be symmetric!\n",
    "    @assert isapprox(mi, mi')\n",
    "    return mi\n",
    "end"
   ]
  },
  {
   "cell_type": "code",
   "execution_count": 72,
   "metadata": {},
   "outputs": [
    {
     "data": {
      "text/plain": [
       "3×5000 Array{Float64,2}:\n",
       "  3.1931    -2.9983     -0.957053  …  -4.31532   -2.45159  -0.655445\n",
       " -0.943536  -8.29939     0.851135     -0.431499  -1.82066   4.43836 \n",
       " -2.24845   -0.0409443   5.74969      -1.49622    1.2264   -5.50208 "
      ]
     },
     "execution_count": 72,
     "metadata": {},
     "output_type": "execute_result"
    }
   ],
   "source": [
    "x = generate_porosity_point_cloud(\"CC3\", 5000)\n",
    "y = generate_porosity_point_cloud(\"CC4\", 5000)"
   ]
  },
  {
   "cell_type": "code",
   "execution_count": 73,
   "metadata": {},
   "outputs": [],
   "source": [
    "using CoherentPointDrift"
   ]
  },
  {
   "cell_type": "code",
   "execution_count": null,
   "metadata": {},
   "outputs": [
    {
     "name": "stdout",
     "output_type": "stream",
     "text": [
      "\tEM step: 1\n",
      "\t\tobjective: 31403.077681653376\n",
      "\t\tσ² = 12.871402175097792\n",
      "\tEM step: 2\n",
      "\t\tobjective: 25873.888564561552\n",
      "\t\tσ² = 7.572924183040675\n"
     ]
    }
   ],
   "source": [
    "CoherentPointDrift.rigid_point_set_registration(x, y, verbose=true)"
   ]
  },
  {
   "cell_type": "code",
   "execution_count": null,
   "metadata": {},
   "outputs": [],
   "source": []
  }
 ],
 "metadata": {
  "kernelspec": {
   "display_name": "Julia 1.0.1",
   "language": "julia",
   "name": "julia-1.0"
  },
  "language_info": {
   "file_extension": ".jl",
   "mimetype": "application/julia",
   "name": "julia",
   "version": "1.0.1"
  }
 },
 "nbformat": 4,
 "nbformat_minor": 2
}
