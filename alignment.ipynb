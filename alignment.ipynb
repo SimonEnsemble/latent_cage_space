{
 "cells": [
  {
   "cell_type": "code",
   "execution_count": 1,
   "metadata": {},
   "outputs": [],
   "source": [
    "using PorousMaterials # Pkg.clone(\"https://github.com/SimonEnsemble/PorousMaterials.jl\", \"v0.1.1\")\n",
    "using DelimitedFiles\n",
    "using LinearAlgebra\n",
    "using JLD2\n",
    "using CoherentPointDrift\n",
    "import Bio3DView\n",
    "using Printf\n",
    "import PyPlot\n",
    "using Random\n",
    "Random.seed!(1337); # set random number seed for complete reproducibility"
   ]
  },
  {
   "cell_type": "markdown",
   "metadata": {},
   "source": [
    "# Database of cages\n",
    "\n",
    "Cage database CDB41 (41 cages) from [here](https://github.com/marcinmiklitz/CDB41). Cleaned of solvent. Thanks to Kim Jelfs and M. Miklitz for kindly providing the cages.\n",
    "\n",
    "Reference:\n",
    "> M. Miklitz, S. Jiang, R. Clowes, M. E. Briggs, A. I. Cooper and K. E. Jelfs, Computational Screening of Porous Organic Molecules for Xenon/Krypton Separation, J. Phys. Chem. C, 2017. DOI: 10.1021/acs.jpcc.7b03848\n",
    "\n",
    "Other set of 33 cages from the .xyz files deposited as ESI of DOI 10.1038/s41467-018-05271-9\n",
    "\n",
    "> R. L. Greenaway, V. Santolini, M. J. Bennison, B. M. Alston, C. J. Pugh, M. A. Little, M. Miklitz, E. G. B. Eden-Rump, R. Clowes, A. Shakil, H. J. Cuthbertson, H. Armstrong, M. E. Briggs, K. E. Jelfs & A. I. Cooper. High-throughput discovery of organic cages and catenanes using computational screening fused with robotic synthesis. Nature Communications, 2018. DOI: 10.1038/s41467-018-05271-9\n",
    "                                                              \n",
    "I manually looked at Fig 4 in the main text and selected those that were synthesized. Some cages required visualization to compare to Fig 4 since e.g. there are multiple versions of B23, a few of which were apparently not synthesized but only computational predictions.\n",
    "\n",
    "The `.xyz` files describing the molecular structure of all of these cages are in the directory `all_cages`."
   ]
  },
  {
   "cell_type": "code",
   "execution_count": 2,
   "metadata": {},
   "outputs": [],
   "source": [
    "cages = readdlm(\"all_cages/all_cages.txt\", String)[:];"
   ]
  },
  {
   "cell_type": "markdown",
   "metadata": {},
   "source": [
    "# Center cages\n",
    "\n",
    "The center of mass will be set to be the origin.\n",
    "Each cage will be rotated such that it is aligned with its principle moments of inertia.\n",
    "i.e. the moment of inertia matrix of an \"aligned\" cage is diagonal.\n",
    "\n",
    "\n",
    "First, a function to compute the center of mass of a group of `atoms` at Cartesian coordinates `x`, stored in the columns."
   ]
  },
  {
   "cell_type": "code",
   "execution_count": 3,
   "metadata": {},
   "outputs": [
    {
     "data": {
      "text/plain": [
       "center_of_mass (generic function with 1 method)"
      ]
     },
     "execution_count": 3,
     "metadata": {},
     "output_type": "execute_result"
    }
   ],
   "source": [
    "function center_of_mass(atoms::Array{Symbol, 1}, x::Array{Float64, 2})\n",
    "    ams = read_atomic_masses()\n",
    "    com = [0.0, 0.0, 0.0]\n",
    "    total_mass = 0.0\n",
    "    for (i, atom) in enumerate(atoms)\n",
    "        com += ams[atom] * x[:, i]\n",
    "        total_mass += ams[atom]\n",
    "    end\n",
    "    return com / total_mass\n",
    "end"
   ]
  },
  {
   "cell_type": "code",
   "execution_count": 4,
   "metadata": {},
   "outputs": [
    {
     "data": {
      "text/plain": [
       "centered_cage_coords (generic function with 1 method)"
      ]
     },
     "execution_count": 4,
     "metadata": {},
     "output_type": "execute_result"
    }
   ],
   "source": [
    "function centered_cage_coords(cage::AbstractString)\n",
    "    # read in raw .xyz from `all_cages`\n",
    "    atoms, x = read_xyz(\"all_cages/\" * cage * \".xyz\")\n",
    "    \n",
    "    # compute center of mass\n",
    "    x_com = center_of_mass(atoms, x)\n",
    "    \n",
    "    # shift coords so that cage is centered\n",
    "    x = x .- x_com\n",
    "    \n",
    "    # write centered cage coords\n",
    "    write_xyz(atoms, x, \"centered_cages/\" * cage * \".xyz\")\n",
    "    \n",
    "    return atoms, x\n",
    "end"
   ]
  },
  {
   "cell_type": "markdown",
   "metadata": {},
   "source": [
    "# Porosity point clouds"
   ]
  },
  {
   "cell_type": "code",
   "execution_count": 5,
   "metadata": {},
   "outputs": [
    {
     "data": {
      "text/plain": [
       "generate_porosity_point_cloud (generic function with 1 method)"
      ]
     },
     "execution_count": 5,
     "metadata": {},
     "output_type": "execute_result"
    }
   ],
   "source": [
    "function generate_porosity_point_cloud(atoms::Array{Symbol, 1}, \n",
    "                                       x::Array{Float64, 2}, \n",
    "                                       nb_pts_in_porosity_cloud::Int, \n",
    "                                       snapshot_radius::Union{Nothing, Float64};\n",
    "                                       gaussian_scaler::Float64=3.0)\n",
    "    # store points in void space here.\n",
    "    x_porosity_cloud = zeros(3, nb_pts_in_porosity_cloud)\n",
    "\n",
    "    # determine if void space via potential energy of He\n",
    "    he = Molecule(\"He\")\n",
    "    ljff = LJForceField(\"UFF.csv\", cutoffradius=14.0, mixing_rules=\"geometric\")\n",
    "    ljspheres = Atoms(atoms, x)\n",
    "\n",
    "    # compute radius of the molecule; this determines variance of Gaussian if snapshot size not provided\n",
    "    if snapshot_radius == nothing\n",
    "        snapshot_radius = maximum([norm(x[:, a]) for a = 1:length(atoms)])\n",
    "    end\n",
    "    \n",
    "    n_hits = 0\n",
    "    while n_hits < nb_pts_in_porosity_cloud\n",
    "        # bias insertions towards center\n",
    "        x_insert = randn(3) * snapshot_radius / gaussian_scaler # scale smaller to bias describing core more.\n",
    "        if norm(x_insert) > snapshot_radius\n",
    "            continue\n",
    "        end\n",
    "\n",
    "        # put helium at this grid pt\n",
    "        translate_to!(he, x_insert)\n",
    "\n",
    "        # compute potential energy of He adsorbate here\n",
    "        energy = vdw_energy_no_PBC(he, ljspheres, ljff)\n",
    "\n",
    "        if energy < 298.0\n",
    "            n_hits += 1\n",
    "            x_porosity_cloud[:, n_hits] = x_insert\n",
    "        end\n",
    "    end\n",
    "    \n",
    "    return x_porosity_cloud\n",
    "end\n",
    "\n",
    "# atoms, x = centered_cage_coords(\"B1\")\n",
    "# x = generate_porosity_point_cloud(atoms, x, 10000, nothing)\n",
    "# write_xyz([:H for i = 1:10000], x, \"test.xyz\")"
   ]
  },
  {
   "cell_type": "markdown",
   "metadata": {},
   "source": [
    "# Rotate to align principal axes of rotation with Cartesian axes"
   ]
  },
  {
   "cell_type": "markdown",
   "metadata": {},
   "source": [
    "Next, a function to compute the moment of inertia matrix of a group of `atoms` at Cartesian positions `x`. \n",
    "\n",
    "See <a href=\"https://chem.libretexts.org/Textbook_Maps/Physical_and_Theoretical_Chemistry_Textbook_Maps/Map%3A_Physical_Chemistry_(McQuarrie_and_Simon)/13%3A_Molecular_Spectroscopy/13-08._The_Rotational_Spectrum_of_a_Polyatomic_Molecule_Depends_Upon_the_Principal_Moments_of_Inertia_of_the_Molecule\">Chemistry Libre Texts</a> moment of inertia formulas."
   ]
  },
  {
   "cell_type": "code",
   "execution_count": 6,
   "metadata": {},
   "outputs": [
    {
     "data": {
      "text/plain": [
       "moment_of_inertia (generic function with 1 method)"
      ]
     },
     "execution_count": 6,
     "metadata": {},
     "output_type": "execute_result"
    }
   ],
   "source": [
    "function moment_of_inertia(x::Array{Float64, 2})\n",
    "    # moment of inertia matrix `mi`\n",
    "    mi = zeros(Float64, 3, 3)\n",
    "    for i = 1:3\n",
    "        for j = 1:3\n",
    "            for a = 1:size(x)[2]\n",
    "                if i == j\n",
    "                    ids = collect(setdiff(Set([1, 2, 3]), Set([i])))\n",
    "                    mi[i, j] += sum(x[ids, a] .^ 2)\n",
    "                else\n",
    "                    mi[i, j] -= x[i, a] * x[j, a]\n",
    "                end\n",
    "            end\n",
    "        end\n",
    "    end\n",
    "    \n",
    "    # should be symmetric!\n",
    "    @assert isapprox(mi, mi')\n",
    "        \n",
    "    return mi\n",
    "end"
   ]
  },
  {
   "cell_type": "code",
   "execution_count": 7,
   "metadata": {},
   "outputs": [
    {
     "data": {
      "text/plain": [
       "viewcage (generic function with 1 method)"
      ]
     },
     "execution_count": 7,
     "metadata": {},
     "output_type": "execute_result"
    }
   ],
   "source": [
    "viewcage(cage::AbstractString) = Bio3DView.viewfile(\"final_aligned_cages/\" * cage * \".xyz\", \"xyz\")"
   ]
  },
  {
   "cell_type": "code",
   "execution_count": 8,
   "metadata": {},
   "outputs": [
    {
     "data": {
      "text/plain": [
       "read_rotational_inertia_final_aligned_cage (generic function with 1 method)"
      ]
     },
     "execution_count": 8,
     "metadata": {},
     "output_type": "execute_result"
    }
   ],
   "source": [
    "for dir in [\"final_aligned_cages\", \"rotational_inertia_aligned_cages\", \"centered_cages\"]\n",
    "    isdir(dir) ? nothing : mkdir(dir)\n",
    "    isdir(joinpath(dir, \"porosity_point_clouds\")) ? nothing : mkdir(joinpath(dir, \"porosity_point_clouds\"))\n",
    "end\n",
    "\n",
    "write_final_aligned_cage(atoms::Array{Symbol, 1}, x::Array{Float64, 2}, cage::AbstractString) = write_xyz(atoms, x, \"final_aligned_cages/\" * cage * \".xyz\")\n",
    "read_final_aligned_cage(cage::AbstractString) = read_xyz(atoms, x, \"final_aligned_cages/\" * cage * \".xyz\")\n",
    "\n",
    "write_rotational_inertia_aligned_cage(atoms::Array{Symbol, 1}, x::Array{Float64, 2}, cage::AbstractString) = write_xyz(atoms, x, \"rotational_inertia_aligned_cages/\" * cage * \".xyz\")\n",
    "read_rotational_inertia_final_aligned_cage(cage::AbstractString) = read_xyz(\"rotational_inertia_aligned_cages/\" * cage * \".xyz\")"
   ]
  },
  {
   "cell_type": "code",
   "execution_count": 9,
   "metadata": {},
   "outputs": [
    {
     "name": "stdout",
     "output_type": "stream",
     "text": [
      "\u001b[31mA11 has nearly degenerate axes of inertia\u001b[39m\n",
      "\u001b[31mB11 has nearly degenerate axes of inertia\u001b[39m\n",
      "\u001b[32mB13 has unique axes of inertia\u001b[39m\n",
      "\u001b[31mB15 has nearly degenerate axes of inertia\u001b[39m\n",
      "\u001b[31mB18 has nearly degenerate axes of inertia\u001b[39m\n",
      "\u001b[31mB1 has nearly degenerate axes of inertia\u001b[39m\n",
      "\u001b[31mB23 has nearly degenerate axes of inertia\u001b[39m\n",
      "\u001b[31mB24 has nearly degenerate axes of inertia\u001b[39m\n",
      "\u001b[31mB25 has nearly degenerate axes of inertia\u001b[39m\n",
      "\u001b[31mB26 has nearly degenerate axes of inertia\u001b[39m\n",
      "\u001b[31mB2 has nearly degenerate axes of inertia\u001b[39m\n",
      "\u001b[31mB4 has nearly degenerate axes of inertia\u001b[39m\n",
      "\u001b[31mB5 has nearly degenerate axes of inertia\u001b[39m\n",
      "\u001b[31mB6 has nearly degenerate axes of inertia\u001b[39m\n",
      "\u001b[31mB8 has nearly degenerate axes of inertia\u001b[39m\n",
      "\u001b[31mB9 has nearly degenerate axes of inertia\u001b[39m\n",
      "\u001b[31mC11 has nearly degenerate axes of inertia\u001b[39m\n",
      "\u001b[32mC13 has unique axes of inertia\u001b[39m\n",
      "\u001b[31mC15 has nearly degenerate axes of inertia\u001b[39m\n",
      "\u001b[31mC18 has nearly degenerate axes of inertia\u001b[39m\n",
      "\u001b[31mC1 has nearly degenerate axes of inertia\u001b[39m\n",
      "\u001b[32mC20 has unique axes of inertia\u001b[39m\n",
      "\u001b[31mC21 has nearly degenerate axes of inertia\u001b[39m\n",
      "\u001b[31mC23 has nearly degenerate axes of inertia\u001b[39m\n",
      "\u001b[31mC24 has nearly degenerate axes of inertia\u001b[39m\n",
      "\u001b[31mC25 has nearly degenerate axes of inertia\u001b[39m\n",
      "\u001b[31mC26 has nearly degenerate axes of inertia\u001b[39m\n",
      "\u001b[31mC2 has nearly degenerate axes of inertia\u001b[39m\n",
      "\u001b[31mC4 has nearly degenerate axes of inertia\u001b[39m\n",
      "\u001b[31mC5 has nearly degenerate axes of inertia\u001b[39m\n",
      "\u001b[31mC6 has nearly degenerate axes of inertia\u001b[39m\n",
      "\u001b[31mC8 has nearly degenerate axes of inertia\u001b[39m\n",
      "\u001b[31mC9 has nearly degenerate axes of inertia\u001b[39m\n",
      "\u001b[32mCB5 has unique axes of inertia\u001b[39m\n",
      "\u001b[32mCB6 has unique axes of inertia\u001b[39m\n",
      "\u001b[32mCB7 has unique axes of inertia\u001b[39m\n",
      "\u001b[31mCC10 has nearly degenerate axes of inertia\u001b[39m\n",
      "\u001b[31mCC1 has nearly degenerate axes of inertia\u001b[39m\n",
      "\u001b[31mCC2 has nearly degenerate axes of inertia\u001b[39m\n",
      "\u001b[31mCC3 has nearly degenerate axes of inertia\u001b[39m\n",
      "\u001b[31mCC4 has nearly degenerate axes of inertia\u001b[39m\n",
      "\u001b[31mCC5 has nearly degenerate axes of inertia\u001b[39m\n",
      "\u001b[31mCC9 has nearly degenerate axes of inertia\u001b[39m\n",
      "\u001b[32mCD1 has unique axes of inertia\u001b[39m\n",
      "\u001b[31mCD2 has nearly degenerate axes of inertia\u001b[39m\n",
      "\u001b[31mCD3 has nearly degenerate axes of inertia\u001b[39m\n",
      "\u001b[32mCP1 has unique axes of inertia\u001b[39m\n",
      "\u001b[32mCP3 has unique axes of inertia\u001b[39m\n",
      "\u001b[32mCP4 has unique axes of inertia\u001b[39m\n",
      "\u001b[32mCP5 has unique axes of inertia\u001b[39m\n",
      "\u001b[31mDC1 has nearly degenerate axes of inertia\u001b[39m\n",
      "\u001b[31mGC1 has nearly degenerate axes of inertia\u001b[39m\n",
      "\u001b[31mHC1 has nearly degenerate axes of inertia\u001b[39m\n",
      "\u001b[31mIC1 has nearly degenerate axes of inertia\u001b[39m\n",
      "\u001b[32mIC2 has unique axes of inertia\u001b[39m\n",
      "\u001b[31mMC1 has nearly degenerate axes of inertia\u001b[39m\n",
      "\u001b[31mMC2 has nearly degenerate axes of inertia\u001b[39m\n",
      "\u001b[32mMC3 has unique axes of inertia\u001b[39m\n",
      "\u001b[31mMC4 has nearly degenerate axes of inertia\u001b[39m\n",
      "\u001b[31mMC5 has nearly degenerate axes of inertia\u001b[39m\n",
      "\u001b[31mMC6 has nearly degenerate axes of inertia\u001b[39m\n",
      "\u001b[31mMC7 has nearly degenerate axes of inertia\u001b[39m\n",
      "\u001b[32mNC1 has unique axes of inertia\u001b[39m\n",
      "\u001b[32mNC2 has unique axes of inertia\u001b[39m\n",
      "\u001b[31mRCC1a has nearly degenerate axes of inertia\u001b[39m\n",
      "\u001b[31mRCC1b has nearly degenerate axes of inertia\u001b[39m\n",
      "\u001b[31mRCC1c has nearly degenerate axes of inertia\u001b[39m\n",
      "\u001b[31mRCC1d has nearly degenerate axes of inertia\u001b[39m\n",
      "\u001b[32mRCC3a has unique axes of inertia\u001b[39m\n",
      "\u001b[31mRCC3b has nearly degenerate axes of inertia\u001b[39m\n",
      "\u001b[31mWC1 has nearly degenerate axes of inertia\u001b[39m\n",
      "\u001b[32mWC2 has unique axes of inertia\u001b[39m\n",
      "\u001b[32mWC3 has unique axes of inertia\u001b[39m\n",
      "\u001b[31mWC4 has nearly degenerate axes of inertia\u001b[39m\n"
     ]
    }
   ],
   "source": [
    "nb_pts_in_pt_cloud = 100000\n",
    "\n",
    "aligned = Dict(cage => false for cage in cages)\n",
    "\n",
    "for cage in cages\n",
    "    # read in centered cage\n",
    "    atoms, x = centered_cage_coords(cage)\n",
    "    \n",
    "    # generate porosity point cloud\n",
    "    x_pt_cloud = generate_porosity_point_cloud(atoms, x, nb_pts_in_pt_cloud, nothing) # use radius of molecule for this.\n",
    "    write_xyz([:H for i = 1:nb_pts_in_pt_cloud], x_pt_cloud, \n",
    "        \"centered_cages/porosity_point_clouds/\" * cage * \".xyz\")\n",
    "    \n",
    "    # diagnomize moment of inertia matrix\n",
    "    mi = moment_of_inertia(x_pt_cloud)\n",
    "    λ, v = eigen(mi) # columns of v are eigenvalues\n",
    "    ids = sortperm(λ, rev=true) # sort eigenvalues from large to small.\n",
    "    λ = λ[ids]\n",
    "    v = v[:, ids]\n",
    "    # tests out of paranoia\n",
    "    @assert(isapprox(mi * v, v * diagm(0 => λ)), \"eigenvectors not right\")\n",
    "    @assert(isapprox([norm(v[:, i]) for i = 1:3], ones(3)), \"eigenvectors not unit vectors\")\n",
    "    @assert(isapprox(mi, v * diagm(0 => λ) * v'))\n",
    "    # `v` is a rotation matrix b/c `mi` is symmetric and the columns are orthonormal\n",
    "    # i.e. `v` is a unitary matrix. now use it to rotate x to align with principle axes of rotation\n",
    "    @assert(isapprox(v' * v, Diagonal{Float64}(I, 3)), \"v is not unitary...\")\n",
    "    @assert (λ[1] >= λ[2]) & (λ[2] >= λ[3])\n",
    "    \n",
    "    # align principal axes of rotation of the cage with the Cartesian axes\n",
    "    write_rotational_inertia_aligned_cage(atoms, v' * x, cage)\n",
    "    \n",
    "    # look for degeneracy\n",
    "    xy_symmetry = isapprox(λ[1], λ[2], rtol=0.01) # can use rtol b/c fixed # pts now.\n",
    "    yz_symmetry = isapprox(λ[2], λ[3], rtol=0.01)\n",
    "    if xy_symmetry || yz_symmetry\n",
    "        printstyled(cage * \" has nearly degenerate axes of inertia\\n\", color=:red)\n",
    "    else\n",
    "        aligned[cage] = true\n",
    "        write_final_aligned_cage(atoms, v' * x, cage)\n",
    "        printstyled(cage * \" has unique axes of inertia\\n\", color=:green)\n",
    "    end\n",
    "end"
   ]
  },
  {
   "cell_type": "markdown",
   "metadata": {},
   "source": [
    "Write to file list of cages where principal axes of inertia are authoratative on how to align."
   ]
  },
  {
   "cell_type": "code",
   "execution_count": 10,
   "metadata": {},
   "outputs": [],
   "source": [
    "rotational_inertia_aligned_cages = cages[[aligned[cage] for cage in cages]]\n",
    "@save \"rotational_inertia_aligned_cages.jld2\" rotational_inertia_aligned_cages"
   ]
  },
  {
   "cell_type": "markdown",
   "metadata": {},
   "source": [
    "# Rigid point set registration to align cages consistently where moments of inertia about principal axes are nearly degenerate"
   ]
  },
  {
   "cell_type": "markdown",
   "metadata": {},
   "source": [
    "Write porosity point clouds of rotational-inertia-aligned cages for further alignment where principal axes are nearly dgenerate. Store in `rotational_inertia_aligned_cages/porosity_point_clouds`."
   ]
  },
  {
   "cell_type": "code",
   "execution_count": 11,
   "metadata": {},
   "outputs": [
    {
     "data": {
      "text/plain": [
       "write_porosity_pt_cloud_rot_aligned (generic function with 1 method)"
      ]
     },
     "execution_count": 11,
     "metadata": {},
     "output_type": "execute_result"
    }
   ],
   "source": [
    "read_porosity_pt_cloud_rot_aligned(cage::AbstractString) = read_xyz(\"rotational_inertia_aligned_cages/porosity_point_clouds/\" * cage * \".xyz\")[2]\n",
    "write_porosity_pt_cloud_rot_aligned(x_pt_cloud::Array{Float64, 2}, cage::AbstractString) = write_xyz(\n",
    "    [:H for i = 1:nb_pts_in_pt_cloud], \n",
    "    x_pt_cloud, \n",
    "    \"rotational_inertia_aligned_cages/porosity_point_clouds/\" * cage * \".xyz\")"
   ]
  },
  {
   "cell_type": "code",
   "execution_count": 12,
   "metadata": {},
   "outputs": [],
   "source": [
    "nb_pts_in_pt_cloud = 5000\n",
    "\n",
    "porosity_point_clouds = Dict{AbstractString, Array{Float64, 2}}()\n",
    "\n",
    "# use same dist'n of points for this one to compare cages easily\n",
    "for cage in cages\n",
    "    atoms, x = read_rotational_inertia_final_aligned_cage(cage)\n",
    "    \n",
    "    porosity_point_clouds[cage] = generate_porosity_point_cloud(atoms, x, nb_pts_in_pt_cloud, nothing, gaussian_scaler=5.0)\n",
    "    \n",
    "    write_porosity_pt_cloud_rot_aligned(porosity_point_clouds[cage], cage)\n",
    "end"
   ]
  },
  {
   "cell_type": "code",
   "execution_count": 28,
   "metadata": {},
   "outputs": [
    {
     "data": {
      "text/plain": [
       "find_pair_to_align (generic function with 1 method)"
      ]
     },
     "execution_count": 28,
     "metadata": {},
     "output_type": "execute_result"
    }
   ],
   "source": [
    "function read_jld_file_results(cage_y::AbstractString, cage_x::AbstractString; verbose::Bool=false)\n",
    "    jldfilename = jldopen(@sprintf(\"cpd_results/align_%s_to_%s_5000_pts.jld2\", cage_y, cage_x))\n",
    "    R = read(jldfilename, \"R\")\n",
    "    σ² = read(jldfilename, \"σ²\")\n",
    "    ℓ = read(jldfilename, \"ℓ\")\n",
    "    close(jldfilename)\n",
    "    return R, σ², ℓ\n",
    "end\n",
    "\n",
    "function find_pair_to_align(cage_ys::Array{String, 1}, cage_xs::Array{String, 1})\n",
    "    # look at all possible pairs, align cage_y to cage_x, record likelihood of alignment.\n",
    "    pairz = Tuple{String, String}[]\n",
    "    ℓs = Float64[]\n",
    "    σ²s = Float64[]\n",
    "    \n",
    "    for cage_y in cage_ys\n",
    "        for cage_x in cage_xs\n",
    "            if cage_y == cage_x\n",
    "                continue\n",
    "            end\n",
    "            \n",
    "            R, σ², ℓ = read_jld_file_results(cage_y, cage_x)\n",
    "            \n",
    "            push!(ℓs, ℓ)\n",
    "            push!(σ²s, σ²)\n",
    "            push!(pairz, (cage_y, cage_x))\n",
    "        end\n",
    "    end\n",
    "    # align the pair where the negative log likelihood is smallest.\n",
    "    best_pair = pairz[argmin(ℓs)]\n",
    "    return best_pair[1], best_pair[2]\n",
    "end"
   ]
  },
  {
   "cell_type": "markdown",
   "metadata": {},
   "source": [
    "recompute point cloud with more points."
   ]
  },
  {
   "cell_type": "code",
   "execution_count": 29,
   "metadata": {},
   "outputs": [
    {
     "name": "stdout",
     "output_type": "stream",
     "text": [
      "\u001b[33mAligning cage RCC1a to CB5...\u001b[39m\n",
      "\tσ² =0.09887741180814713\n",
      "\u001b[33mAligning cage CD2 to CB7...\u001b[39m\n",
      "\tσ² =0.09785061014780683\n",
      "\u001b[33mAligning cage RCC1b to CP4...\u001b[39m\n",
      "\tσ² =0.08970304969478675\n",
      "\u001b[33mAligning cage WC4 to CB6...\u001b[39m\n",
      "\tσ² =0.09058527599034133\n",
      "\u001b[33mAligning cage CC1 to WC4...\u001b[39m\n",
      "\tσ² =0.09983684739142822\n",
      "\u001b[33mAligning cage CC3 to CC1...\u001b[39m\n",
      "\tσ² =0.08392291626025399\n",
      "\u001b[33mAligning cage CC9 to CC3...\u001b[39m\n",
      "\tσ² =0.08638542211224606\n",
      "\u001b[33mAligning cage CC2 to WC4...\u001b[39m\n",
      "\tσ² =0.09055023918660529\n",
      "\u001b[33mAligning cage CC4 to CC1...\u001b[39m\n",
      "\tσ² =0.08830926660043939\n",
      "\u001b[33mAligning cage CC10 to CC1...\u001b[39m\n",
      "\tσ² =0.09331568284256986\n",
      "\u001b[33mAligning cage MC4 to IC2...\u001b[39m\n",
      "\tσ² =0.09716378021654867\n",
      "\u001b[33mAligning cage GC1 to C20...\u001b[39m\n",
      "\tσ² =0.09513042672754769\n",
      "\u001b[33mAligning cage A11 to IC2...\u001b[39m\n",
      "\tσ² =0.08881339126574748\n",
      "\u001b[33mAligning cage B24 to A11...\u001b[39m\n",
      "\tσ² =0.0997792763723332\n",
      "\u001b[33mAligning cage MC7 to IC2...\u001b[39m\n",
      "\tσ² =0.09759391509535635\n",
      "\u001b[33mAligning cage B23 to IC2...\u001b[39m\n",
      "\tσ² =0.0838660185548021\n",
      "\u001b[33mAligning cage B15 to B23...\u001b[39m\n",
      "\tσ² =0.09981603757850632\n",
      "\u001b[33mAligning cage MC2 to B23...\u001b[39m\n",
      "\tσ² =0.09997457950647173\n",
      "\u001b[33mAligning cage RCC1c to CP3...\u001b[39m\n",
      "\tσ² =0.09871513436135113\n",
      "\u001b[33mAligning cage C24 to A11...\u001b[39m\n",
      "\tσ² =0.09576652001507416\n",
      "\u001b[33mAligning cage C11 to NC2...\u001b[39m\n",
      "\tσ² =0.09314043448615654\n",
      "\u001b[33mAligning cage C18 to B24...\u001b[39m\n",
      "\tσ² =0.09528845259980201\n",
      "\u001b[33mAligning cage RCC1d to CP3...\u001b[39m\n",
      "\tσ² =0.09404628915002686\n",
      "\u001b[33mAligning cage WC1 to C11...\u001b[39m\n",
      "\tσ² =0.08551679171178306\n",
      "\u001b[33mAligning cage IC1 to C20...\u001b[39m\n",
      "\tσ² =0.0771845467158176\n",
      "\u001b[33mAligning cage RCC3b to WC4...\u001b[39m\n",
      "\tσ² =0.09975650048685324\n",
      "\u001b[33mAligning cage C23 to RCC3a...\u001b[39m\n",
      "\tσ² =0.09744794234695146\n",
      "\u001b[33mAligning cage B25 to C23...\u001b[39m\n",
      "\tσ² =0.09449232680214142\n",
      "\u001b[33mAligning cage HC1 to CP1...\u001b[39m\n",
      "\tσ² =0.09050054359890006\n",
      "\u001b[33mAligning cage B11 to HC1...\u001b[39m\n",
      "\tσ² =0.08215744254733241\n",
      "\u001b[33mAligning cage C26 to C13...\u001b[39m\n",
      "\tσ² =0.0996794588321267\n",
      "\u001b[33mAligning cage MC5 to B11...\u001b[39m\n",
      "\tσ² =0.0843488178894758\n",
      "\u001b[33mAligning cage B18 to C23...\u001b[39m\n",
      "\tσ² =0.0916146511516427\n",
      "\u001b[33mAligning cage C25 to B24...\u001b[39m\n",
      "\tσ² =0.10057311503013286\n",
      "\u001b[33mAligning cage CD3 to NC2...\u001b[39m\n",
      "\tσ² =0.09049602363928255\n",
      "\u001b[33mAligning cage CC5 to CD3...\u001b[39m\n",
      "\tσ² =0.09869970370802039\n",
      "\u001b[33mAligning cage DC1 to C20...\u001b[39m\n",
      "\tσ² =0.09557795590029661\n",
      "\u001b[33mAligning cage B26 to B24...\u001b[39m\n",
      "\tσ² =0.10684992338796437\n",
      "\u001b[33mAligning cage C15 to MC4...\u001b[39m\n",
      "\tσ² =0.0998203529039005\n",
      "\u001b[33mAligning cage MC1 to MC4...\u001b[39m\n",
      "\tσ² =0.09866577777807058\n",
      "\u001b[33mAligning cage MC6 to MC1...\u001b[39m\n",
      "\tσ² =0.10582355142289404\n",
      "\u001b[33mAligning cage B1 to CP4...\u001b[39m\n",
      "\tσ² =0.0999362854158886\n",
      "\u001b[33mAligning cage C1 to B1...\u001b[39m\n",
      "\tσ² =0.06200813989113522\n",
      "\u001b[33mAligning cage B2 to C1...\u001b[39m\n",
      "\tσ² =0.09312073173732109\n",
      "\u001b[33mAligning cage C2 to B2...\u001b[39m\n",
      "\tσ² =0.09106412398037597\n",
      "\u001b[33mAligning cage C8 to C2...\u001b[39m\n",
      "\tσ² =0.04201288609711919\n",
      "\u001b[33mAligning cage C5 to C8...\u001b[39m\n",
      "\tσ² =0.09269956881072722\n",
      "\u001b[33mAligning cage B5 to C8...\u001b[39m\n",
      "\tσ² =0.09369295947669695\n",
      "\u001b[33mAligning cage C4 to B5...\u001b[39m\n",
      "\tσ² =0.12698774629460532\n",
      "\u001b[33mAligning cage B4 to B5...\u001b[39m\n",
      "\tσ² =0.14391697414051643\n",
      "\u001b[33mAligning cage C6 to B4...\u001b[39m\n",
      "\tσ² =0.10908444088257965\n",
      "\u001b[33mAligning cage B8 to C2...\u001b[39m\n",
      "\tσ² =0.06089940829226495\n",
      "\u001b[33mAligning cage B9 to B8...\u001b[39m\n",
      "\tσ² =0.14106662431689038\n",
      "\u001b[33mAligning cage B6 to C5...\u001b[39m\n",
      "\tσ² =0.06759966988691886\n",
      "\u001b[33mAligning cage C9 to B8...\u001b[39m\n",
      "\tσ² =0.15635248150299302\n",
      "\u001b[33mAligning cage C21 to B5...\u001b[39m\n",
      "\tσ² =0.2641263793337062\n"
     ]
    }
   ],
   "source": [
    "@load \"rotational_inertia_aligned_cages.jld2\"\n",
    "aligned = Dict(cage => (cage in rotational_inertia_aligned_cages) for cage in cages)\n",
    "# aligned = Dict(cage => false for cage in cages)\n",
    "#nb_pts_in_pt_cloud = 10000\n",
    "\n",
    "# cage_y, cage_x = find_pair_to_align(cages, cages)\n",
    "# aligned[cage_x] = true\n",
    "\n",
    "while sum([! aligned[cage] for cage in cages]) > 0\n",
    "    aligned_cages = cages[[aligned[cage] for cage in cages]] # cage_x's since these will not be rotated\n",
    "    unaligned_cages = cages[[! aligned[cage] for cage in cages]] # cage_y's since all are to be rotated\n",
    "    \n",
    "    cage_y, cage_x = find_pair_to_align(unaligned_cages, aligned_cages)\n",
    "    printstyled(@sprintf(\"Aligning cage %s to %s...\\n\", cage_y, cage_x), color=:yellow)\n",
    "    \n",
    "#     atoms_x, x = read_rotational_inertia_final_aligned_cage(cage_x)\n",
    "#     x_pt_cloud = generate_porosity_point_cloud(atoms_x, x, nb_pts_in_pt_cloud, nothing, gaussian_scaler=5.0)\n",
    "    \n",
    "    atoms_y, y = read_rotational_inertia_final_aligned_cage(cage_y)\n",
    "#     y_pt_cloud = generate_porosity_point_cloud(atoms_y, y, nb_pts_in_pt_cloud, nothing, gaussian_scaler=5.0)\n",
    "    \n",
    "    # transformation is applied to the unaligned cage!\n",
    "#     R, t, σ², ℓ = CoherentPointDrift.rigid_point_set_registration(x_pt_cloud, y_pt_cloud, verbose=false,\n",
    "#                       w=0.0, σ²_tol=0.05, q_tol=0.1, max_nb_em_steps=30, print_ending=true)\n",
    "    R, σ², ℓ = read_jld_file_results(cage_y, cage_x)\n",
    "    \n",
    "    println(\"\\tσ² =\", σ²)\n",
    "    write_final_aligned_cage(atoms_y, R * y, cage_y)\n",
    "    \n",
    "    aligned[cage_y] = true\n",
    "end"
   ]
  },
  {
   "cell_type": "markdown",
   "metadata": {},
   "source": [
    "some quick testing"
   ]
  },
  {
   "cell_type": "code",
   "execution_count": 30,
   "metadata": {},
   "outputs": [
    {
     "name": "stdout",
     "output_type": "stream",
     "text": [
      "\tEM step: 1\n",
      "\t\tobjective: 18633.29247525439\n",
      "\t\tσ² = 1.5385666198823171\n",
      "\tEM step: 2\n",
      "\t\tobjective: 13023.636478571918\n",
      "\t\tσ² = 1.0248787930168852\n",
      "\tEM step: 3\n",
      "\t\tobjective: 8387.315879810341\n",
      "\t\tσ² = 0.588939983102445\n",
      "\tEM step: 4\n",
      "\t\tobjective: 2141.9219693711802\n",
      "\t\tσ² = 0.2231530516475143\n",
      "\tEM step: 5\n",
      "\t\tobjective: -4938.777270560966\n",
      "\t\tσ² = 0.10620894892930616\n",
      "\tEM step: 6\n",
      "\t\tobjective: -10093.305970230173\n",
      "\t\tσ² = 0.06089300385419677\n",
      "\tEM step: 7\n",
      "\t\tobjective: -13991.853387570956\n",
      "\t\tσ² = 0.04037309540480201\n",
      "\tEM step: 8\n",
      "\t\tobjective: -16825.18287117061\n",
      "\t\tσ² = 0.030618428655036646\n",
      "\tEM step: 9\n",
      "\t\tobjective: -18659.996658097032\n",
      "\t\tσ² = 0.025908318668048498\n",
      "\tEM step: 10\n",
      "\t\tobjective: -19723.62092634603\n",
      "\t\tσ² = 0.023628690636816708\n",
      "\tEM step: 11\n",
      "\t\tobjective: -20292.2057938108\n",
      "\t\tσ² = 0.02253281217190864\n",
      "\tEM step: 12\n",
      "\t\tobjective: -20579.980943563372\n",
      "\t\tσ² = 0.022009536110877526\n",
      "\tEM step: 13\n",
      "\t\tobjective: -20721.07285870891\n",
      "\t\tσ² = 0.0217581655865312\n",
      "\tEM step: 14\n",
      "\t\tobjective: -20789.829621850833\n",
      "\t\tσ² = 0.021633425745244798\n",
      "\tEM step: 15\n",
      "\t\tobjective: -20824.26007038713\n",
      "\t\tσ² = 0.02156742374433088\n",
      "\tEM step: 16\n",
      "\t\tobjective: -20842.604698547166\n",
      "\t\tσ² = 0.021529484136815397\n",
      "\tEM step: 17\n",
      "\t\tobjective: -20853.21179734962\n",
      "\t\tσ² = 0.0215059380981785\n",
      "\tEM step: 18\n",
      "\t\tobjective: -20859.828564144173\n",
      "\t\tσ² = 0.021490538940827537\n",
      "\tEM step: 19\n",
      "\t\tobjective: -20864.177134666752\n",
      "\t\tσ² = 0.021480213318287377\n",
      "\tEM step: 20\n",
      "\t\tobjective: -20867.109412079284\n",
      "\t\tσ² = 0.02147327498622811\n",
      "\tEM step: 21\n",
      "\t\tobjective: -20869.09510498013\n",
      "\t\tσ² = 0.021468691601386914\n",
      "\tEM step: 22\n",
      "\t\tobjective: -20870.422722980147\n",
      "\t\tσ² = 0.02146577775388917\n",
      "\tEM step: 23\n",
      "\t\tobjective: -20871.284052123137\n",
      "\t\tσ² = 0.021464056166114947\n",
      "\tσ² = 0.021464, q = -20871.284052, EM steps taken = 23, reason for exit: objective stopped decreasing, time: 8.92820 min\n"
     ]
    }
   ],
   "source": [
    "cage_x = \"B1\"\n",
    "cage_y = \"C1\"\n",
    "\n",
    "atoms_x, x = read_rotational_inertia_final_aligned_cage(cage_x)\n",
    "x_pt_cld = read_porosity_pt_cloud_rot_aligned(cage_x)\n",
    "atoms_y, y = read_rotational_inertia_final_aligned_cage(cage_y)\n",
    "y_pt_cld = read_porosity_pt_cloud_rot_aligned(cage_y)\n",
    "\n",
    "R, t, σ², ℓ = CoherentPointDrift.rigid_point_set_registration(x_pt_cld ,y_pt_cld, verbose=true,\n",
    "            w=0.0, σ²_tol=0.01, q_tol=1.0, max_nb_em_steps=25, print_ending=true)\n",
    "\n",
    "write_xyz(atoms_y, R * y, cage_y * \"_aligned_to_\" * cage_x)"
   ]
  },
  {
   "cell_type": "code",
   "execution_count": 26,
   "metadata": {},
   "outputs": [
    {
     "data": {
      "text/plain": [
       "([0.999898 0.00498625 0.0133718; -0.012263 0.779462 0.62633; -0.00729981 -0.62643 0.779444], 0.006422399115830194, 159495.67102969968)"
      ]
     },
     "execution_count": 26,
     "metadata": {},
     "output_type": "execute_result"
    }
   ],
   "source": [
    "read_jld_file_results(\"C4\", \"C9\")"
   ]
  },
  {
   "cell_type": "code",
   "execution_count": null,
   "metadata": {},
   "outputs": [],
   "source": []
  }
 ],
 "metadata": {
  "kernelspec": {
   "display_name": "Julia 1.0.1",
   "language": "julia",
   "name": "julia-1.0"
  },
  "language_info": {
   "file_extension": ".jl",
   "mimetype": "application/julia",
   "name": "julia",
   "version": "1.0.1"
  }
 },
 "nbformat": 4,
 "nbformat_minor": 2
}
