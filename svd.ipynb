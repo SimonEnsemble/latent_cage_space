{
 "cells": [
  {
   "cell_type": "code",
   "execution_count": null,
   "metadata": {},
   "outputs": [],
   "source": [
    "import Bio3DView\n",
    "using PorousMaterials # Pkg.clone(\"https://github.com/SimonEnsemble/PorousMaterials.jl\", \"v0.1.1\")\n",
    "using CSV\n",
    "using DataFrames\n",
    "using TSne\n",
    "using PyCall\n",
    "@pyimport adjustText\n",
    "import PyPlot; const plt = PyPlot # now do plt.plt[:hist] for example\n",
    "using DelimitedFiles\n",
    "using LinearAlgebra\n",
    "using Printf\n",
    "using Random\n",
    "using Optim\n",
    "using ProgressMeter\n",
    "using JLD2"
   ]
  },
  {
   "cell_type": "code",
   "execution_count": null,
   "metadata": {},
   "outputs": [],
   "source": [
    "cages = readdlm(\"all_cages/all_cages.txt\", String)[:];"
   ]
  },
  {
   "cell_type": "code",
   "execution_count": null,
   "metadata": {},
   "outputs": [],
   "source": [
    "aligned_and_centered_cage(cage::AbstractString) = read_xyz(\"final_aligned_cages/\" * cage * \".xyz\")\n",
    "viewcage(cage::AbstractString) = Bio3DView.viewfile(\"final_aligned_cages/\" * cage * \".xyz\", \"xyz\")\n",
    "viewcage(\"B15\")"
   ]
  },
  {
   "cell_type": "markdown",
   "metadata": {},
   "source": [
    "## Generate 3D void space images\n",
    "Superimpose a regular 3D grid of points centered at the cage center of mass. \n",
    "Compute the potential energy of a Helium probe at each grid point.\n",
    "If the energy is less than a certain value, that point is declared \"accessible\".\n",
    "Think of this as a CAT scan for cages!"
   ]
  },
  {
   "cell_type": "markdown",
   "metadata": {},
   "source": [
    "Set up computation of potential energy of Helium probe in the cages"
   ]
  },
  {
   "cell_type": "code",
   "execution_count": null,
   "metadata": {},
   "outputs": [],
   "source": [
    "he = Molecule(\"He\")\n",
    "cutoffradius = 14.0 # vdw cutoff radius\n",
    "ljff = LJForceField(\"UFF.csv\", cutoffradius=cutoffradius, mixing_rules=\"geometric\");"
   ]
  },
  {
   "cell_type": "markdown",
   "metadata": {},
   "source": [
    "Write padded .cif files of the cages for molecular simulations. \n",
    "In the same loop, determine what size of snapshot we need to encapsulate all cages."
   ]
  },
  {
   "cell_type": "code",
   "execution_count": null,
   "metadata": {},
   "outputs": [],
   "source": [
    "snapshot_dim = 0.0 # find max dimension we need for snapshot to include all atoms of all cages\n",
    "biggest_cage = \"\"\n",
    "\n",
    "for cage in cages\n",
    "    # read in aligned and centered cage\n",
    "    atoms, x = aligned_and_centered_cage(cage)\n",
    "    # observe max dimension so we know size of snapshot to take.\n",
    "    x_span = 2.0 * maximum(abs.(x))\n",
    "    if x_span > snapshot_dim # 2 b/c centered at zero\n",
    "        snapshot_dim = x_span\n",
    "        biggest_cage = cage\n",
    "    end\n",
    "    \n",
    "    #\n",
    "    # write to .cif for molecular simulation\n",
    "    #\n",
    "    # make sure with PBCs no interactions are included by padding\n",
    "    box = Box([x_span + 2 * cutoffradius for blah = 1:3]..., \n",
    "              [π/2 for blah = 1:3]...)\n",
    "    # when writing .cif, shift coords so they are in [0, 1]^3\n",
    "    #    so in .cif center of mass is center of box.\n",
    "    x_shift = [x_span + 2 * cutoffradius for blah = 1:3] / 2.0\n",
    "    framework = Framework(cage, box, \n",
    "                          Atoms(atoms, x), \n",
    "                          Charges(Array{Float64, 1}(undef, 0), Array{Float64, 2}(undef, 0, 0))\n",
    "                          )\n",
    "    write_cif(framework, \n",
    "        @sprintf(\"data/crystals/%s_aligned.cif\", cage))\n",
    "end\n",
    "\n",
    "println(\"see data/crystals for .cif's padded by cutoffradius for molecular simulations'\")\n",
    "println(\"Largest cage: :\", biggest_cage)"
   ]
  },
  {
   "cell_type": "code",
   "execution_count": null,
   "metadata": {},
   "outputs": [],
   "source": [
    "snapshot_dim = ceil(snapshot_dim)\n",
    "println(\"Dimension of snapshot to fit all porous cages (Å): \", snapshot_dim)\n",
    "\n",
    "const center_of_box = [snapshot_dim / 2.0 for d = 1:3]\n",
    "\n",
    "const snapshot_box = Box(snapshot_dim, snapshot_dim, snapshot_dim, π/2, π/2, π/2)"
   ]
  },
  {
   "cell_type": "markdown",
   "metadata": {},
   "source": [
    "Discretize space; `x_grid_pts` ranges from `-snapshot_dim` to `snapshot_dim` so it overlays the cage coordinates."
   ]
  },
  {
   "cell_type": "code",
   "execution_count": null,
   "metadata": {},
   "outputs": [],
   "source": [
    "const nb_grid_pts = 50\n",
    "const x_grid_pts = collect(range(0, stop=snapshot_dim, length=nb_grid_pts)) .- snapshot_dim / 2.0\n",
    "println(\"grid spacing (A): \", x_grid_pts[2] - x_grid_pts[1])"
   ]
  },
  {
   "cell_type": "markdown",
   "metadata": {},
   "source": [
    "Build data matrix `A`, whose rows are the flattened snapshots of a particular cage."
   ]
  },
  {
   "cell_type": "code",
   "execution_count": null,
   "metadata": {},
   "outputs": [],
   "source": [
    "A = zeros(Float64, length(cages), nb_grid_pts ^ 3)\n",
    "\n",
    "for (c, cage) in enumerate(cages)\n",
    "    # read in aligned and centered cage\n",
    "    atoms, x = aligned_and_centered_cage(cage)\n",
    "    \n",
    "    # assert snapshot box is big enough\n",
    "    @assert(all(x .< maximum(x_grid_pts)) && all(x .> minimum(x_grid_pts)),\n",
    "        \"atoms outside snapshot!\")\n",
    "    \n",
    "    # convert cage to a list of LJSphere's for PorousMaterials.jl\n",
    "    ljspheres = Atoms(atoms, x)\n",
    "    \n",
    "    # preallocate grid; choose origin here solely for visualization\n",
    "    # when we write to a .cube file. the origin passed to `Grid`\n",
    "    # is so the cage is centered at the origin in the viz. (checked)\n",
    "    grid = Grid(snapshot_box, (nb_grid_pts, nb_grid_pts, nb_grid_pts), \n",
    "                zeros(Float64, nb_grid_pts, nb_grid_pts, nb_grid_pts), \n",
    "                :accessibility, -center_of_box)\n",
    "        \n",
    "    for i = 1:nb_grid_pts, j = 1:nb_grid_pts, k = 1:nb_grid_pts\n",
    "        # what grid pt is here inside the loop?\n",
    "        x_grid_pt = [x_grid_pts[i], x_grid_pts[j], x_grid_pts[k]]\n",
    "        \n",
    "        # put helium at this grid pt\n",
    "        translate_to!(he, x_grid_pt)\n",
    "        \n",
    "        # compute potential energy of He adsorbate here\n",
    "        energy = vdw_energy_no_PBC(he, ljspheres, ljff)\n",
    "        \n",
    "        # if framework atom overlaps with cage atom... energy > k T\n",
    "        if energy > 298.0\n",
    "            grid.data[i, j, k] = 1.0\n",
    "        end\n",
    "    end\n",
    "    \n",
    "    # save grid for visualization\n",
    "    write_cube(grid, cages[c] * \".cube\", verbose=false)\n",
    "    \n",
    "    # add flattened grid as a row of the matrix `A`\n",
    "    A[c, :] = grid.data[:]\n",
    "    \n",
    "    # assert that we can recover the snapshot by reshaping the rows of A\n",
    "    @assert(isapprox(\n",
    "            reshape(A[c, :], (nb_grid_pts, nb_grid_pts, nb_grid_pts)),\n",
    "            grid.data)\n",
    "           )\n",
    "end\n",
    "\n",
    "println(\"see data/grids for .cube visualizations of the cage scans\")\n",
    "size(A)"
   ]
  },
  {
   "cell_type": "markdown",
   "metadata": {},
   "source": [
    "Look at rank of $A$. Do any two cages have the same representation?"
   ]
  },
  {
   "cell_type": "code",
   "execution_count": null,
   "metadata": {},
   "outputs": [],
   "source": [
    "println(\"rank of A: \", rank(A))\n",
    "for i = 1:length(cages)\n",
    "    for j = (i+1):length(cages)\n",
    "        if norm(A[i, :] - A[j, :]) < 5.0\n",
    "            @printf(\"Cages %s and %s hv same raw representation!\", cages[i], cages[j])\n",
    "        end\n",
    "    end\n",
    "    # just in case...\n",
    "    if all(A[i, :] .== 0.0) || all(A[i, :] == 1.0)\n",
    "        println(\"Cage is all zeros or all ones! \", cages[i])\n",
    "    end\n",
    "end"
   ]
  },
  {
   "cell_type": "markdown",
   "metadata": {},
   "source": [
    "Compute the average cage."
   ]
  },
  {
   "cell_type": "code",
   "execution_count": null,
   "metadata": {},
   "outputs": [],
   "source": [
    "average_cage = zeros(Float64, nb_grid_pts ^ 3)\n",
    "for c = 1:length(cages)\n",
    "    average_cage += A[c, :]\n",
    "end\n",
    "average_cage /= length(cages)\n",
    "\n",
    "# write to .cube\n",
    "grid = Grid(snapshot_box, (nb_grid_pts, nb_grid_pts, nb_grid_pts), \n",
    "            reshape(average_cage, (nb_grid_pts, nb_grid_pts, nb_grid_pts)), \n",
    "            :accessibility, -center_of_box)\n",
    "\n",
    "write_cube(grid, \"average_cage.cube\")\n",
    "@printf(\"%d/%d pixels nonzero in average cage\\n\", sum(average_cage .!= 0), length(average_cage))"
   ]
  },
  {
   "cell_type": "markdown",
   "metadata": {},
   "source": [
    "Subtract off the average cage from each cage."
   ]
  },
  {
   "cell_type": "code",
   "execution_count": null,
   "metadata": {},
   "outputs": [],
   "source": [
    "for c = 1:length(cages)\n",
    "    A[c, :] = A[c, :] - average_cage\n",
    "end"
   ]
  },
  {
   "cell_type": "markdown",
   "metadata": {},
   "source": [
    "At this point, if $\\mathbf{x_i}$ is a feature vector (a row of `A`), then $\\sum_i \\mathbf{x_i} = \\mathbf{0}$. See [here](https://epubs.siam.org/doi/pdf/10.1137/S0036144501387517)."
   ]
  },
  {
   "cell_type": "code",
   "execution_count": null,
   "metadata": {},
   "outputs": [],
   "source": [
    "x_sum = zeros(nb_grid_pts ^ 3)\n",
    "for c = 1:length(cages)\n",
    "    x_sum += A[c, :]\n",
    "end\n",
    "@assert(all(isapprox.(x_sum, zeros(nb_grid_pts ^ 3), atol=1e-5)))"
   ]
  },
  {
   "cell_type": "markdown",
   "metadata": {},
   "source": [
    "Visualize the matrix (half of a joke)"
   ]
  },
  {
   "cell_type": "code",
   "execution_count": null,
   "metadata": {},
   "outputs": [],
   "source": [
    "plt.matshow(A)\n",
    "plt.yticks([0, length(cages)-1])\n",
    "plt.tight_layout()\n",
    "plt.savefig(\"data_matrix_viz.png\", format=\"png\", dpi=300, bbox_inches=\"tight\")"
   ]
  },
  {
   "cell_type": "markdown",
   "metadata": {},
   "source": [
    "How many columns are all zeros?"
   ]
  },
  {
   "cell_type": "code",
   "execution_count": null,
   "metadata": {},
   "outputs": [],
   "source": [
    "sum(sum(abs.(A), dims=1) .== 0.0)"
   ]
  },
  {
   "cell_type": "code",
   "execution_count": null,
   "metadata": {},
   "outputs": [],
   "source": [
    "rank(A)"
   ]
  },
  {
   "cell_type": "markdown",
   "metadata": {},
   "source": [
    "Perform the SVD decomposition of the data matrix"
   ]
  },
  {
   "cell_type": "code",
   "execution_count": null,
   "metadata": {},
   "outputs": [],
   "source": [
    "UΣVᵀ = svd(A)\n",
    "\n",
    "println(\"size of U: \", size(UΣVᵀ.U))\n",
    "println(\"# singular values: \", length(UΣVᵀ.S))\n",
    "println(\"size of Vᵀ: \", size(UΣVᵀ.Vt))\n",
    "\n",
    "@assert(isapprox(A, UΣVᵀ.U * diagm(0 => UΣVᵀ.S) * UΣVᵀ.Vt))"
   ]
  },
  {
   "cell_type": "code",
   "execution_count": null,
   "metadata": {},
   "outputs": [],
   "source": [
    "plt.figure()\n",
    "plt.plt[:hist](UΣVᵀ.S, color=\"g\")\n",
    "plt.xlabel(\"singular value\")\n",
    "plt.ylabel(\"# singular values\")\n",
    "plt.xlim(xmin=0)\n",
    "plt.savefig(\"distn_of_svs.png\", format=\"png\", dpi=300)\n",
    "\n",
    "plt.figure()\n",
    "plt.plot(1:length(UΣVᵀ.S), UΣVᵀ.S, color=\"g\", marker=\"o\")\n",
    "plt.xlabel(\"\\$i\\$\")\n",
    "plt.ylabel(\"singular value \\$\\\\sigma_i\\$\")\n",
    "plt.title(\"Ranked singular values\")\n",
    "plt.savefig(\"svs_ordered.png\", format=\"png\", dpi=300)"
   ]
  },
  {
   "cell_type": "markdown",
   "metadata": {},
   "source": [
    "ratio of norm of error to norm of $A$.\n",
    "See pg. 19 of \n",
    "> A Singularly Valuable Decomposition: The SVD of a Matrix. Dan Kalman"
   ]
  },
  {
   "cell_type": "code",
   "execution_count": null,
   "metadata": {},
   "outputs": [],
   "source": [
    "relative_err = 1.0 .- sqrt.([sum(UΣVᵀ.S[1:i] .^ 2) for i = 1:length(UΣVᵀ.S)] / sum(UΣVᵀ.S .^ 2))\n",
    "relative_err = vcat([1.0], relative_err)\n",
    "\n",
    "fig = plt.figure()\n",
    "plt.xlabel(\"Rank of approximation, \\$\\\\nu\\$\")\n",
    "plt.ylabel(\"relative error \\$||\\\\mathbf{A}-\\\\mathbf{A}_\\\\nu||_F/||\\\\mathbf{A}||_F \\$\")\n",
    "plt.plot(0:length(UΣVᵀ.S), relative_err, marker=\"o\")\n",
    "plt.savefig(\"relative_err_with_svs.png\", format=\"png\", dpi=300)"
   ]
  },
  {
   "cell_type": "markdown",
   "metadata": {},
   "source": [
    "Take the latent space as a composition of the first `r` singular vectors.\n",
    "Select `r` so that we recover a certain fraction of the energy, `fraction_energy_recovered`."
   ]
  },
  {
   "cell_type": "code",
   "execution_count": null,
   "metadata": {},
   "outputs": [],
   "source": [
    "# assert singular values are sorted\n",
    "@assert(sortperm(UΣVᵀ.S) == reverse([i for i = 1:length(UΣVᵀ.S)]))\n",
    "\n",
    "desired_relative_err = 0.15\n",
    "ν = findfirst(relative_err .< desired_relative_err) # number of singular values to include\n",
    "\n",
    "printstyled(@sprintf(\"%d singular values results in relative error %f; setting latent dim = %d.\\n\",\n",
    "    ν, relative_err[ν], ν), color=:red)\n",
    "\n",
    "x_latent = UΣVᵀ.U[:, 1:ν] * diagm(0 => UΣVᵀ.S[1:ν])\n",
    "@assert(isapprox(x_latent, A * UΣVᵀ.V[:, 1:ν]), \"UΣ != AV\")\n",
    "@assert(size(x_latent) == (length(cages), ν))"
   ]
  },
  {
   "cell_type": "markdown",
   "metadata": {},
   "source": [
    "use t-SNE to embed latent representation in 2D"
   ]
  },
  {
   "cell_type": "code",
   "execution_count": null,
   "metadata": {},
   "outputs": [],
   "source": [
    "Random.seed!(1234)\n",
    "x_tsne = tsne(x_latent, 2, 0, 100000, 5.0);\n",
    "size(x_tsne)"
   ]
  },
  {
   "cell_type": "markdown",
   "metadata": {},
   "source": [
    "write 2D t-SNE latent dim to file for D3 interactive viz"
   ]
  },
  {
   "cell_type": "code",
   "execution_count": null,
   "metadata": {},
   "outputs": [],
   "source": [
    "latent_dim_file = open(\"latent_dim.csv\", \"w\")\n",
    "@printf(latent_dim_file, \"cage_image,x1,x2\\n\")\n",
    "for (c, cage) in enumerate(cages)\n",
    "    @printf(latent_dim_file, \"%s_aligned.png,%f,%f\\n\", cage, x_tsne[c, :]...)\n",
    "end\n",
    "close(latent_dim_file)"
   ]
  },
  {
   "cell_type": "code",
   "execution_count": null,
   "metadata": {},
   "outputs": [],
   "source": [
    "plt.figure(figsize=(7, 7))\n",
    "plt.scatter(x_tsne[:, 1], x_tsne[:, 2], color=\"g\")\n",
    "# for i = 1:length(cages)\n",
    "#     plt.annotate(cages[i], (x_tsne[i, 1], x_tsne[i, 2]))\n",
    "# end\n",
    "texts = []\n",
    "for i = 1:length(cages)\n",
    "    push!(texts,\n",
    "        plt.annotate(cages[i], (x_tsne[i, 1], x_tsne[i, 2]))\n",
    "        )\n",
    "end\n",
    "adjustText.adjust_text(texts)\n",
    "plt.xticks([])\n",
    "plt.yticks([])\n",
    "plt.xlabel(\"t-SNE dim. 1\")\n",
    "plt.ylabel(\"t-SNE dim. 2\")\n",
    "plt.axis(\"equal\")\n",
    "plt.title(\"latent cage space\")\n",
    "plt.tight_layout()\n",
    "plt.savefig(\"latent_cage_space_2D.pdf\", format=\"pdf\", dpi=300)\n",
    "plt.show()"
   ]
  },
  {
   "cell_type": "code",
   "execution_count": null,
   "metadata": {},
   "outputs": [],
   "source": [
    "viewcage(\"B8\")"
   ]
  },
  {
   "cell_type": "markdown",
   "metadata": {},
   "source": [
    "... t-SNE to embed in 3D"
   ]
  },
  {
   "cell_type": "code",
   "execution_count": null,
   "metadata": {},
   "outputs": [],
   "source": [
    "x_tsne_3D = tsne(x_latent, 3, 0, 10000, 5.0);\n",
    "\n",
    "figure()\n",
    "scatter3D(x_tsne_3D[:, 1], x_tsne_3D[:, 2], x_tsne_3D[:, 3])\n",
    "show()"
   ]
  },
  {
   "cell_type": "markdown",
   "metadata": {},
   "source": [
    "## Correlation between latent space and cage descriptors from `pywindow`"
   ]
  },
  {
   "cell_type": "markdown",
   "metadata": {},
   "source": [
    "Crude cage size descriptors:\n",
    "\n",
    "* `molecule_diameter`: if we could stuff the cage molecule into a sphere, how big would the sphere need to be?\n",
    "* `void_diameter`: distance between center of mass of the molecule and the closest atom, corrected for appropriate vdW radii and multiplied by 2.\n",
    "\n",
    "See:\n",
    "\n",
    "> M. Miklitz, S. Jiang, R. Clowes, M. E. Briggs, A. I. Cooper and K. E. Jelfs, Computational Screening of Porous Organic Molecules for Xenon/Krypton Separation, J. Phys. Chem. C, 2017, 121, 15211–15222.\n",
    "\n",
    "We computed these from `pywindow`:\n",
    "\n",
    "> M. Miklitz, K. E. Jelfs. pywindow: Automated Structural Analysis of Molecular Pores. ChemRxiv.\n",
    "\n",
    "(checked WC3 in Table 1 for correspondence of those we computed.) See `cage_descriptors.ipynb`."
   ]
  },
  {
   "cell_type": "code",
   "execution_count": null,
   "metadata": {},
   "outputs": [],
   "source": [
    "df_descriptors = CSV.read(\"pywindow_cage_descriptors.csv\")\n",
    "head(df_descriptors)"
   ]
  },
  {
   "cell_type": "markdown",
   "metadata": {},
   "source": [
    "Put in an array with same order as `cages` for easy plotting"
   ]
  },
  {
   "cell_type": "code",
   "execution_count": null,
   "metadata": {},
   "outputs": [],
   "source": [
    "pore_diameters = zeros(length(cages))\n",
    "molecule_diameters = zeros(length(cages))\n",
    "nb_windows = zeros(Int, length(cages))\n",
    "for (i, cage) in enumerate(cages)\n",
    "    idx_this_cage = df_descriptors[:cage] .== cage\n",
    "    @assert(sum(idx_this_cage) == 1, @sprintf(\"%s not found in df_descriptors (or multiple)!\", cage))\n",
    "    pore_diameters[i] = df_descriptors[idx_this_cage, :pore_diameter_A][1]\n",
    "    molecule_diameters[i] = df_descriptors[idx_this_cage, :molecule_diameter_A][1]\n",
    "    nb_windows[i] = df_descriptors[idx_this_cage, :nb_windows][1]\n",
    "end"
   ]
  },
  {
   "cell_type": "markdown",
   "metadata": {},
   "source": [
    "Visualize distribution of descriptors among the cages."
   ]
  },
  {
   "cell_type": "code",
   "execution_count": null,
   "metadata": {},
   "outputs": [],
   "source": [
    "plt.figure()\n",
    "plt.plt[:hist](pore_diameters, color=\"b\", alpha=0.2, label=\"cavity\")\n",
    "plt.plt[:hist](molecule_diameters, color=\"r\", alpha=0.2, label=\"molecule\")\n",
    "plt.legend()\n",
    "plt.xlabel(\"diameter (Å)\")\n",
    "plt.ylabel(\"# cages\")\n",
    "plt.savefig(\"pywindow_descriptors_distn.png\", format=\"png\", dpi=300)"
   ]
  },
  {
   "cell_type": "markdown",
   "metadata": {},
   "source": [
    "Visualize distribution of the number of windows"
   ]
  },
  {
   "cell_type": "code",
   "execution_count": null,
   "metadata": {},
   "outputs": [],
   "source": [
    "fig = plt.figure()\n",
    "plt.plt[:hist](nb_windows, bins=0:10)\n",
    "plt.xlabel(\"# of windows into cavity\")\n",
    "plt.ylabel(\"# of cages\")"
   ]
  },
  {
   "cell_type": "markdown",
   "metadata": {},
   "source": [
    "Assess if clustering picks on up the descriptors.\n",
    "Color according to pore diameters, make size according to molecule diameter.\n",
    "the marker size is the area, so we should make the size on the order of `molecule_diameter^2`."
   ]
  },
  {
   "cell_type": "code",
   "execution_count": null,
   "metadata": {},
   "outputs": [],
   "source": [
    "plt.figure(figsize=(8, 7))\n",
    "plt.scatter(x_tsne[:, 1], x_tsne[:, 2],\n",
    "    c=pore_diameters,\n",
    "    s=molecule_diameters .^ 2 / maximum(molecule_diameters .^ 2) * 35.0,\n",
    "    vmax=15.0\n",
    ")\n",
    "\n",
    "texts = []\n",
    "for i = 1:length(cages)\n",
    "    push!(texts,\n",
    "        plt.annotate(cages[i], (x_tsne[i, 1], x_tsne[i, 2]))\n",
    "        )\n",
    "end\n",
    "adjustText.adjust_text(texts)\n",
    "# for i = 1:length(cages)\n",
    "#     plt.annotate(cages[i], (x_tsne[i, 1], x_tsne[i, 2]))\n",
    "# end\n",
    "cbar = plt.colorbar(label=\"cavity diameter (Å)\")\n",
    "plt.title(\"latent cage space\")\n",
    "plt.xticks([])\n",
    "plt.yticks([])\n",
    "plt.xlabel(\"t-SNE dim. 1\")\n",
    "plt.ylabel(\"t-SNE dim. 2\")\n",
    "plt.axis(\"equal\")\n",
    "plt.tight_layout()\n",
    "plt.savefig(\"cage_space_colored_by_diams_2D.pdf\", format=\"pdf\")\n",
    "plt.show()"
   ]
  },
  {
   "cell_type": "markdown",
   "metadata": {},
   "source": [
    "hypothesis that first eigencage picks up the pore size."
   ]
  },
  {
   "cell_type": "code",
   "execution_count": null,
   "metadata": {},
   "outputs": [],
   "source": [
    "fig = plt.figure()\n",
    "plt.scatter(pore_diameters, UΣVᵀ.U[:, 1] * UΣVᵀ.S[1], color=\"C1\")\n",
    "plt.xlabel(\"cavity diameter (Å)\")\n",
    "plt.ylabel(\"first component of latent representation\")\n",
    "plt.savefig(\"first_component_captures_pore_diameter.pdf\", format=\"pdf\")"
   ]
  },
  {
   "cell_type": "markdown",
   "metadata": {},
   "source": [
    "Assess if clustering picks up on # windows "
   ]
  },
  {
   "cell_type": "code",
   "execution_count": null,
   "metadata": {},
   "outputs": [],
   "source": [
    "cmap = plt.get_cmap(\"Pastel1\", maximum(nb_windows) - minimum(nb_windows)+1)\n",
    "\n",
    "plt.figure(figsize=(8, 7))\n",
    "plt.scatter(x_tsne[:, 1], x_tsne[:, 2],\n",
    "    c=nb_windows, cmap=cmap, vmin=minimum(nb_windows)-0.5, vmax=maximum(nb_windows)+0.5\n",
    ")\n",
    "texts = []\n",
    "for i = 1:length(cages)\n",
    "    push!(texts,\n",
    "        plt.annotate(cages[i], (x_tsne[i, 1], x_tsne[i, 2]))\n",
    "        )\n",
    "end\n",
    "adjustText.adjust_text(texts)\n",
    "# for i = 1:length(cages)\n",
    "#     plt.annotate(cages[i], (x_tsne[i, 1], x_tsne[i, 2]))\n",
    "# end\n",
    "#cbar = plt.colorbar(extend=\"max\", label=\"cavity diameter (Å)\")\n",
    "plt.title(\"latent cage space\")\n",
    "plt.xlabel(\"t-SNE dim. 1\")\n",
    "plt.ylabel(\"t-SNE dim. 2\")\n",
    "plt.xticks([])\n",
    "plt.yticks([])\n",
    "plt.axis(\"equal\")\n",
    "plt.colorbar(label=\"# of windows to cavity\")\n",
    "plt.tight_layout()\n",
    "plt.savefig(\"cage_space_colored_by_nb_windows.pdf\", format=\"pdf\")\n",
    "plt.show()"
   ]
  },
  {
   "cell_type": "code",
   "execution_count": null,
   "metadata": {},
   "outputs": [],
   "source": [
    "fig = plt.figure(figsize=(8, 7))\n",
    "#ax = fig[:add_subplot](111, projection=\"3D\")\n",
    "\n",
    "plt.scatter3D(x_tsne_3D[:, 1], x_tsne_3D[:, 2], x_tsne_3D[:, 3],\n",
    "    c=pore_diameters,\n",
    "    s=molecule_diameters .^ 2 / maximum(molecule_diameters .^ 2) * 35.0,\n",
    "    vmax=15.0)\n",
    "for i = 1:length(cages)\n",
    "    plt.text3D(x_tsne_3D[i, 1], x_tsne_3D[i, 2], x_tsne_3D[i, 3], cages[i])\n",
    "end\n",
    "plt.xlabel(\"latent dim. 1\")\n",
    "plt.ylabel(\"latent dim. 2\")\n",
    "plt.zlabel(\"latent dim. 3\")\n",
    "plt.title(\"latent cage space\")\n",
    "plt.tight_layout()\n",
    "plt.savefig(\"cage_space_colored_by_diams_3D.png\", format=\"png\", dpi=300)\n",
    "plt.show()"
   ]
  },
  {
   "cell_type": "markdown",
   "metadata": {},
   "source": [
    "### Visualize the eigen-cages\n",
    "i.e. discovered concepts, which are the rows of $\\mathbf{V}^T$."
   ]
  },
  {
   "cell_type": "code",
   "execution_count": null,
   "metadata": {},
   "outputs": [],
   "source": [
    "for concept_id = 1:ν\n",
    "    x_concept = transpose(UΣVᵀ.V)[concept_id, :] # flattened\n",
    "    x_concept = reshape(x_concept, (nb_grid_pts, nb_grid_pts, nb_grid_pts))\n",
    "\n",
    "    grid = Grid(snapshot_box, (nb_grid_pts, nb_grid_pts, nb_grid_pts), \n",
    "                reshape(x_concept, (nb_grid_pts, nb_grid_pts, nb_grid_pts)), \n",
    "                :accessibility, -center_of_box)\n",
    "\n",
    "    write_cube(grid, @sprintf(\"eigencage%d.cube\", concept_id))\n",
    "end"
   ]
  },
  {
   "cell_type": "markdown",
   "metadata": {},
   "source": [
    "### reconstruct a material as singular values are added"
   ]
  },
  {
   "cell_type": "code",
   "execution_count": null,
   "metadata": {},
   "outputs": [],
   "source": [
    "which_cage = \"B25\"\n",
    "cage_id = findfirst(cages .== which_cage)\n",
    "\n",
    "for sv = 1:14\n",
    "    # approximate matrix\n",
    "    A_ν = UΣVᵀ.U[:, 1:sv] * diagm(0 => UΣVᵀ.S[1:sv]) * transpose(UΣVᵀ.V[:, 1:sv])\n",
    "    # reconstruction\n",
    "    x = A_ν[cage_id, :] .+ average_cage\n",
    "    \n",
    "    grid = Grid(snapshot_box, (nb_grid_pts, nb_grid_pts, nb_grid_pts), \n",
    "            reshape(x, (nb_grid_pts, nb_grid_pts, nb_grid_pts)), \n",
    "            :accessibility, -center_of_box)\n",
    "\n",
    "    write_cube(grid, @sprintf(\"%s_reconstructed_%dsvs.cube\", which_cage, sv))\n",
    "end"
   ]
  },
  {
   "cell_type": "markdown",
   "metadata": {},
   "source": [
    "### Compare latent space with Henry coefficients\n",
    "From Melanie: UFF, 14 A cutoff, geometric mixing rules, 298.0 K"
   ]
  },
  {
   "cell_type": "code",
   "execution_count": null,
   "metadata": {},
   "outputs": [],
   "source": [
    "dfs = Dict{String, DataFrame}()\n",
    "for gas in [\"He\", \"Kr\", \"Xe\"]\n",
    "    dfs[gas] = CSV.read(\"henry_coefs/\" * gas * \"_cage_KH.csv\")\n",
    "end\n",
    "dfs[\"He\"]"
   ]
  },
  {
   "cell_type": "code",
   "execution_count": null,
   "metadata": {},
   "outputs": [],
   "source": [
    "df_new = DataFrame(cage=String[], KH_Xe=Float64[], KH_Kr=Float64[])\n",
    "for row in eachrow(dfs[\"Xe\"])\n",
    "    kh_he = dfs[\"He\"][dfs[\"He\"][:cage] .== row[:cage], \n",
    "        Symbol(\"KH_mol/(m³-bar)\")][1]\n",
    "    kh_kr = dfs[\"Kr\"][dfs[\"Kr\"][:cage] .== row[:cage], \n",
    "        Symbol(\"KH_mol/(m³-bar)\")][1]\n",
    "    push!(df_new, [row[:cage], row[Symbol(\"KH_mol/(m³-bar)\")] - kh_he, kh_kr - kh_he])\n",
    "end\n",
    "df_new[:Xe_Kr_selectivity] = df_new[:KH_Xe] ./ df_new[:KH_Kr]\n",
    "head(df_new)"
   ]
  },
  {
   "cell_type": "code",
   "execution_count": null,
   "metadata": {},
   "outputs": [],
   "source": [
    "S_Xe_kr = [df_new[df_new[:cage] .== cage * \"_aligned.cif\", \n",
    "        :Xe_Kr_selectivity][1] for cage in cages][:];"
   ]
  },
  {
   "cell_type": "markdown",
   "metadata": {},
   "source": [
    "load list of xenon-inaccessible cages"
   ]
  },
  {
   "cell_type": "code",
   "execution_count": null,
   "metadata": {},
   "outputs": [],
   "source": [
    "inaccessible_cages = readdlm(\"inaccessible_cages.txt\")\n",
    "idx_accessible = [! (cage in inaccessible_cages) for cage in cages];\n",
    "println(\"inaccessible cages: \", inaccessible_cages)"
   ]
  },
  {
   "cell_type": "code",
   "execution_count": null,
   "metadata": {},
   "outputs": [],
   "source": [
    "plt.figure(figsize=(8, 7))\n",
    "plt.scatter(x_tsne[.! idx_accessible, 1], x_tsne[.! idx_accessible, 2],\n",
    "    s=35, c=\"k\", marker=\"X\")\n",
    "\n",
    "cnorm = PyPlot.matplotlib[:colors][:LogNorm](vmin=1.0, vmax=maximum(S_Xe_kr[idx_accessible]))\n",
    "m = plt.plt[:cm][:ScalarMappable](norm=cnorm, cmap=plt.plt[:cm][:plasma])\n",
    "m[:set_array]([]) # trick\n",
    "\n",
    "plt.scatter(x_tsne[idx_accessible, 1], x_tsne[idx_accessible, 2],\n",
    "    s=35,\n",
    "    c=[m[:to_rgba](S_Xe_kr[idx_accessible][i]) for i = 1:sum(idx_accessible)],\n",
    "    norm=PyPlot.matplotlib[:colors][:LogNorm](),\n",
    "    cmap=\"plasma\"\n",
    ")\n",
    "\n",
    "texts = []\n",
    "for i = 1:length(cages)\n",
    "    push!(texts,\n",
    "        plt.annotate(cages[i], (x_tsne[i, 1], x_tsne[i, 2]))\n",
    "        )\n",
    "end\n",
    "adjustText.adjust_text(texts)\n",
    "\n",
    "#cbar = plt.colorbar(m, extend=\"max\", label=\"simulated Xe/Kr selectivity\")\n",
    "cbar = plt.colorbar(m, label=\"simulated Xe/Kr selectivity\")\n",
    "plt.title(\"latent cage space\")\n",
    "plt.xticks([])\n",
    "plt.yticks([])\n",
    "plt.xlabel(\"t-SNE dim. 1\")\n",
    "plt.ylabel(\"t-SNE dim. 2\")\n",
    "plt.axis(\"equal\")\n",
    "plt.tight_layout()\n",
    "plt.savefig(\"cage_space_colored_by_S_Xe_Kr.pdf\", format=\"pdf\", dpi=300)\n",
    "plt.show()"
   ]
  },
  {
   "cell_type": "markdown",
   "metadata": {},
   "source": [
    "Compare Henry coefficients to experimental data for noria and CC3\n",
    "\n",
    "Noria data from: 10.1002/chem.201602131\n",
    "CC3 data from: Fig 2c of DOI 10.1038/nmat4035 (plot digitized, sorry for noise; it is on a log scale)"
   ]
  },
  {
   "cell_type": "code",
   "execution_count": null,
   "metadata": {},
   "outputs": [],
   "source": [
    "df_expt = Dict(\"noria\" => Dict(\"Xe\" => CSV.read(\"noria/Xe_expt_298K.csv\"),\n",
    "                               \"Kr\" => CSV.read(\"noria/Kr_expt_298K.csv\")\n",
    "                               ),\n",
    "               \"CC3\"   => Dict(\"Xe\" => CSV.read(\"cc3/Xe_expt_298K.csv\"),\n",
    "                               \"Kr\" => CSV.read(\"cc3/Kr_expt_298K.csv\")\n",
    "                               )\n",
    "               )"
   ]
  },
  {
   "cell_type": "code",
   "execution_count": null,
   "metadata": {},
   "outputs": [],
   "source": [
    "gas_colorz = Dict(\"Xe\" => \"C1\", \"Kr\" => \"C2\")\n",
    "markerz = Dict(\"Xe\" => \"s\", \"Kr\" => \"s\")\n",
    "xtal_name = Dict(\"noria\" => \"NC2_aligned.cif\", \"CC3\" => \"CC3_aligned.cif\")\n",
    "\n",
    "for cage in [\"noria\", \"CC3\"]\n",
    "    fig = plt.figure()\n",
    "    plt.xlabel(\"pressure (bar)\")\n",
    "    plt.ylabel(\"gas uptake (mmol/g)\")\n",
    "    \n",
    "    P = collect(range(0, stop=1, length=50))\n",
    "    KH_He =  dfs[\"He\"][dfs[\"He\"][:cage] .== xtal_name[cage], Symbol(\"KH_mmol/(g-bar)\")][1]\n",
    "    for gas in [\"Xe\", \"Kr\"]\n",
    "        # plot experimental data\n",
    "        if cage == \"noria\"\n",
    "            df_expt[cage][gas][Symbol(\"P(bar)\")] = df_expt[cage][gas][Symbol(\"P(torr)\")] * 0.00133322\n",
    "        end\n",
    "        plt.scatter(df_expt[cage][gas][Symbol(\"P(bar)\")], \n",
    "                    df_expt[cage][gas][Symbol(\"L(mmol/g)\")], label=gas,\n",
    "                    color=gas_colorz[gas], marker=markerz[gas])\n",
    "        \n",
    "        # grab simulated henry coeff and plot resulting henry's law\n",
    "        KH =  dfs[gas][dfs[gas][:cage] .== xtal_name[cage], Symbol(\"KH_mmol/(g-bar)\")][1]\n",
    "        nH = (KH - KH_He) * P\n",
    "        idx_keep = nH .< 1.0\n",
    "        plt.plot(P[idx_keep], nH[idx_keep], color=gas_colorz[gas])\n",
    "    end\n",
    "    plt.title(cage)\n",
    "    plt.legend()\n",
    "    plt.tight_layout()\n",
    "    plt.savefig(cage * \"_expt_sim_comparison.png\", format=\"png\")\n",
    "end"
   ]
  },
  {
   "cell_type": "markdown",
   "metadata": {},
   "source": [
    "## A walk through latent space"
   ]
  },
  {
   "cell_type": "code",
   "execution_count": null,
   "metadata": {},
   "outputs": [],
   "source": [
    "cage_i = \"DC1\"\n",
    "cage_j = \"NC2\"\n",
    "\n",
    "idx_i = findfirst(cages[:] .== cage_i)\n",
    "idx_j = findfirst(cages[:] .== cage_j)\n",
    "\n",
    "x_latent_i = (UΣVᵀ.U[:, 1:ν] * diagm(0 => UΣVᵀ.S[1:ν]))[idx_i, :]\n",
    "x_latent_j = (UΣVᵀ.U[:, 1:ν] * diagm(0 => UΣVᵀ.S[1:ν]))[idx_j, :]\n",
    "# c is interpreting parameter\n",
    "for c in 0.0:0.2:1.0\n",
    "    x_latent_fictitious = c * x_latent_i + (1 - c) * x_latent_j\n",
    "    x_fictitious = x_latent_fictitious' * UΣVᵀ.V[:, 1:ν]'\n",
    "    x_fictitious = x_fictitious' # back to column vector\n",
    "    # add average cage\n",
    "    x_fictitious = x_fictitious + average_cage\n",
    "    grid = Grid(snapshot_box, (nb_grid_pts, nb_grid_pts, nb_grid_pts), \n",
    "               reshape(x_fictitious, (nb_grid_pts, nb_grid_pts, nb_grid_pts)),\n",
    "               :accessibility, -center_of_box)\n",
    "    write_cube(grid, @sprintf(\"%s_%s_interpolation_c_%.2f.cube\", cage_i, cage_j, c))\n",
    "end"
   ]
  },
  {
   "cell_type": "markdown",
   "metadata": {},
   "source": [
    "## Radar plots \n",
    "(cool was to visualize a high-dimensional representation but not used in the paper)"
   ]
  },
  {
   "cell_type": "code",
   "execution_count": null,
   "metadata": {},
   "outputs": [],
   "source": [
    "function draw_radar_plot(x::Array{Float64, 1})\n",
    "    n_dims = length(x)\n",
    "    angles = range(0, stop = 2 * π, length = n_dims + 1)[1:end-1]\n",
    "    # make periodic\n",
    "    x = vcat(x, [x[1]])\n",
    "    angles = vcat(angles, [angles[1]])\n",
    "    labels = [\"c$i\" for i = 1:n_dims]\n",
    "    \n",
    "    fig = plt.figure()\n",
    "    ax = fig[:add_subplot](111, polar=true)\n",
    "    ax[:grid](true)\n",
    "    ax[:set_thetagrids](angles * 180.0 / π, labels)  # Set the label for each axis\n",
    "    ax[:plot](angles, x, \"-o\", linewidth=2)  # Draw the plot (or the frame on the radar chart)\n",
    "    ax[:fill](angles, x, alpha=0.25)  #Fulfill the area\n",
    "end\n",
    "\n",
    "function draw_radar_plot(x::Array{Float64, 2})\n",
    "    n_dims = size(x)[2]\n",
    "    angles = range(0, stop = 2 * π, length = n_dims + 1)[1:end-1]\n",
    "    # make periodic\n",
    "    angles = vcat(angles, [angles[1]])\n",
    "    labels = [\"c$i\" for i = 1:n_dims]\n",
    "    \n",
    "    fig = plt.figure()\n",
    "    ax = fig[:add_subplot](111, polar=true)\n",
    "    ax[:grid](true)\n",
    "    ax[:set_thetagrids](angles * 180.0 / π, labels)  # Set the label for each axis\n",
    "    for i = 1:size(x)[1]\n",
    "        x_viz = vcat(x[i, :], [x[i, 1]])\n",
    "        ax[:plot](angles, x_viz, \"-o\", linewidth=0.5)  # Draw the plot (or the frame on the radar chart)\n",
    "        # ax[:fill](angles, x_viz, alpha=0.25)  #Fulfill the area\n",
    "    end\n",
    "    @warn \"think this might beed to be transpose\"\n",
    "end\n",
    "\n",
    "draw_radar_plot(x_latent[1, 1:5])\n",
    "draw_radar_plot(x_latent[1, :])\n",
    "draw_radar_plot(x_latent)\n",
    "#ax.set_rlim(0,250)"
   ]
  }
 ],
 "metadata": {
  "kernelspec": {
   "display_name": "Julia 1.0.1",
   "language": "julia",
   "name": "julia-1.0"
  },
  "language_info": {
   "file_extension": ".jl",
   "mimetype": "application/julia",
   "name": "julia",
   "version": "1.0.1"
  }
 },
 "nbformat": 4,
 "nbformat_minor": 2
}
